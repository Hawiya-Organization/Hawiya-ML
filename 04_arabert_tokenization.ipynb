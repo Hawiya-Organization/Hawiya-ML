{
 "cells": [
  {
   "cell_type": "code",
   "execution_count": 1,
   "id": "72ada94e",
   "metadata": {},
   "outputs": [],
   "source": [
    "import pandas as pd\n",
    "import numpy as np\n",
    "import matplotlib.pyplot as plt\n",
    "import seaborn as sns\n",
    "\n",
    "from itertools import islice\n",
    "import arabicstopwords.arabicstopwords as stp\n",
    "\n",
    "import pickle as pkl\n",
    "\n",
    "import sentencepiece as sp\n",
    "\n",
    "import tkseem as tk\n",
    "import gensim"
   ]
  },
  {
   "cell_type": "code",
   "execution_count": 2,
   "id": "0701b897",
   "metadata": {},
   "outputs": [
    {
     "name": "stderr",
     "output_type": "stream",
     "text": [
      "[2024-06-05 17:23:34,735 - farasapy_logger - WARNING]: Be careful with large lines as they may break on interactive mode. You may switch to Standalone mode for such cases.\n"
     ]
    },
    {
     "data": {
      "text/plain": [
       "'و+ لن نبالغ إذا قل +نا إن هاتف أو كمبيوتر ال+ مكتب في زمن +نا هذا ضروري'"
      ]
     },
     "execution_count": 2,
     "metadata": {},
     "output_type": "execute_result"
    }
   ],
   "source": [
    "from arabert.preprocess import ArabertPreprocessor\n",
    "\n",
    "model_name=\"bert-base-arabert\"\n",
    "arabert_prep = ArabertPreprocessor(model_name=model_name)\n",
    "\n",
    "text = \"ولن نبالغ إذا قلنا إن هاتف أو كمبيوتر المكتب في زمننا هذا ضروري\"\n",
    "arabert_prep.preprocess(text)"
   ]
  },
  {
   "cell_type": "code",
   "execution_count": 3,
   "id": "b803dd0e",
   "metadata": {},
   "outputs": [
    {
     "data": {
      "text/plain": [
       "'هل غادر ال+ شعراء من متردم أم هل عرف +ت ال+ دار بعد توهم'"
      ]
     },
     "execution_count": 3,
     "metadata": {},
     "output_type": "execute_result"
    }
   ],
   "source": [
    "text = \"هل غادر الشعراء من متردم أم هل عرفت الدار بعد توهم\"\n",
    "arabert_prep.preprocess(text)"
   ]
  },
  {
   "cell_type": "code",
   "execution_count": 4,
   "id": "67725222",
   "metadata": {
    "scrolled": true
   },
   "outputs": [
    {
     "data": {
      "text/plain": [
       "'و+ تتابع +ت ذكرى ال+ حبيب ب+ خاطر +ي و+ ال+ ذكري +ات إذا جثمن جسام'"
      ]
     },
     "execution_count": 4,
     "metadata": {},
     "output_type": "execute_result"
    }
   ],
   "source": [
    "text = \"وتتابعت ذكرى الحبيب بخاطري والذكريات إذا جثمن جسام\"\n",
    "arabert_prep.preprocess(text)"
   ]
  },
  {
   "cell_type": "code",
   "execution_count": 5,
   "id": "35b8432e",
   "metadata": {},
   "outputs": [
    {
     "data": {
      "text/plain": [
       "'أثني علي ب+ ما علم +ت ف+ إنني سمح مخالط +ت +ي إذا لم أظلم'"
      ]
     },
     "execution_count": 5,
     "metadata": {},
     "output_type": "execute_result"
    }
   ],
   "source": [
    "text = \"أثني علي بما علمت فإنني سمح مخالطتي إذا لم أظلم\"\n",
    "arabert_prep.preprocess(text)"
   ]
  },
  {
   "cell_type": "code",
   "execution_count": 6,
   "id": "60d97350",
   "metadata": {},
   "outputs": [
    {
     "data": {
      "text/html": [
       "<div>\n",
       "<style scoped>\n",
       "    .dataframe tbody tr th:only-of-type {\n",
       "        vertical-align: middle;\n",
       "    }\n",
       "\n",
       "    .dataframe tbody tr th {\n",
       "        vertical-align: top;\n",
       "    }\n",
       "\n",
       "    .dataframe thead th {\n",
       "        text-align: right;\n",
       "    }\n",
       "</style>\n",
       "<table border=\"1\" class=\"dataframe\">\n",
       "  <thead>\n",
       "    <tr style=\"text-align: right;\">\n",
       "      <th></th>\n",
       "      <th>poem_text</th>\n",
       "    </tr>\n",
       "  </thead>\n",
       "  <tbody>\n",
       "    <tr>\n",
       "      <th>0</th>\n",
       "      <td>خليلي لا تستعجلا أن تزودا    وأن تجمعا شملي وت...</td>\n",
       "    </tr>\n",
       "    <tr>\n",
       "      <th>1</th>\n",
       "      <td>فما لبث يوما بسابق مغنم    ولا سرعتي يوما بساب...</td>\n",
       "    </tr>\n",
       "    <tr>\n",
       "      <th>2</th>\n",
       "      <td>وإن تنظراني اليوم أقض لبانة    وتستوجبا منا عل...</td>\n",
       "    </tr>\n",
       "    <tr>\n",
       "      <th>3</th>\n",
       "      <td>لعمرك ما نفس بجد رشيدة    تؤامرني سرا لأصرم مرثدا</td>\n",
       "    </tr>\n",
       "    <tr>\n",
       "      <th>4</th>\n",
       "      <td>وإن ظهرت منه قوارص جمة    وأفرع في لومي مرارا ...</td>\n",
       "    </tr>\n",
       "  </tbody>\n",
       "</table>\n",
       "</div>"
      ],
      "text/plain": [
       "                                           poem_text\n",
       "0  خليلي لا تستعجلا أن تزودا    وأن تجمعا شملي وت...\n",
       "1  فما لبث يوما بسابق مغنم    ولا سرعتي يوما بساب...\n",
       "2  وإن تنظراني اليوم أقض لبانة    وتستوجبا منا عل...\n",
       "3  لعمرك ما نفس بجد رشيدة    تؤامرني سرا لأصرم مرثدا\n",
       "4  وإن ظهرت منه قوارص جمة    وأفرع في لومي مرارا ..."
      ]
     },
     "execution_count": 6,
     "metadata": {},
     "output_type": "execute_result"
    }
   ],
   "source": [
    "df = pd.read_csv('data/apcd_clean.csv')\n",
    "df['poem_text'] = df['البيت'].astype(str)\n",
    "df.drop('البيت', inplace=True, axis=1)\n",
    "df.head()"
   ]
  },
  {
   "cell_type": "code",
   "execution_count": 7,
   "id": "bd77d6ef",
   "metadata": {},
   "outputs": [
    {
     "data": {
      "text/html": [
       "<div>\n",
       "<style scoped>\n",
       "    .dataframe tbody tr th:only-of-type {\n",
       "        vertical-align: middle;\n",
       "    }\n",
       "\n",
       "    .dataframe tbody tr th {\n",
       "        vertical-align: top;\n",
       "    }\n",
       "\n",
       "    .dataframe thead th {\n",
       "        text-align: right;\n",
       "    }\n",
       "</style>\n",
       "<table border=\"1\" class=\"dataframe\">\n",
       "  <thead>\n",
       "    <tr style=\"text-align: right;\">\n",
       "      <th></th>\n",
       "      <th>poem_text</th>\n",
       "      <th>bert_t</th>\n",
       "    </tr>\n",
       "  </thead>\n",
       "  <tbody>\n",
       "    <tr>\n",
       "      <th>0</th>\n",
       "      <td>خليلي لا تستعجلا أن تزودا    وأن تجمعا شملي وت...</td>\n",
       "      <td>[خليل, لا, تستعجل, أن, تزود, أن, تجمع, شملي, ت...</td>\n",
       "    </tr>\n",
       "    <tr>\n",
       "      <th>1</th>\n",
       "      <td>فما لبث يوما بسابق مغنم    ولا سرعتي يوما بساب...</td>\n",
       "      <td>[ما, لبث, يوم, سابق, مغنم, لا, سرع, يوم, سابق,...</td>\n",
       "    </tr>\n",
       "    <tr>\n",
       "      <th>2</th>\n",
       "      <td>وإن تنظراني اليوم أقض لبانة    وتستوجبا منا عل...</td>\n",
       "      <td>[إن, تنظراني, يوم, أقض, بان, تستوجب, من, علي, ...</td>\n",
       "    </tr>\n",
       "    <tr>\n",
       "      <th>3</th>\n",
       "      <td>لعمرك ما نفس بجد رشيدة    تؤامرني سرا لأصرم مرثدا</td>\n",
       "      <td>[عمر, ما, نفس, جد, رشيد, تؤامرني, سر, أصرم, مرثد]</td>\n",
       "    </tr>\n",
       "    <tr>\n",
       "      <th>4</th>\n",
       "      <td>وإن ظهرت منه قوارص جمة    وأفرع في لومي مرارا ...</td>\n",
       "      <td>[إن, ظهر, من, قوارص, جم, أفرع, في, لومي, مرار,...</td>\n",
       "    </tr>\n",
       "  </tbody>\n",
       "</table>\n",
       "</div>"
      ],
      "text/plain": [
       "                                           poem_text  \\\n",
       "0  خليلي لا تستعجلا أن تزودا    وأن تجمعا شملي وت...   \n",
       "1  فما لبث يوما بسابق مغنم    ولا سرعتي يوما بساب...   \n",
       "2  وإن تنظراني اليوم أقض لبانة    وتستوجبا منا عل...   \n",
       "3  لعمرك ما نفس بجد رشيدة    تؤامرني سرا لأصرم مرثدا   \n",
       "4  وإن ظهرت منه قوارص جمة    وأفرع في لومي مرارا ...   \n",
       "\n",
       "                                              bert_t  \n",
       "0  [خليل, لا, تستعجل, أن, تزود, أن, تجمع, شملي, ت...  \n",
       "1  [ما, لبث, يوم, سابق, مغنم, لا, سرع, يوم, سابق,...  \n",
       "2  [إن, تنظراني, يوم, أقض, بان, تستوجب, من, علي, ...  \n",
       "3  [عمر, ما, نفس, جد, رشيد, تؤامرني, سر, أصرم, مرثد]  \n",
       "4  [إن, ظهر, من, قوارص, جم, أفرع, في, لومي, مرار,...  "
      ]
     },
     "execution_count": 7,
     "metadata": {},
     "output_type": "execute_result"
    }
   ],
   "source": [
    "def tokenize_text_bert(text):\n",
    "    tokenized_text = arabert_prep.preprocess(text).split()\n",
    "    return [token for token in tokenized_text if '+' not in token]\n",
    "\n",
    "df['bert_t'] = df.poem_text.apply(tokenize_text_bert)\n",
    "df.head()"
   ]
  },
  {
   "cell_type": "code",
   "execution_count": 20,
   "id": "3bd7fedf",
   "metadata": {},
   "outputs": [],
   "source": [
    "bert_model = gensim.models.Word2Vec(\n",
    "    df['bert_t'],\n",
    "    window=8,\n",
    "    min_count=3,\n",
    "    epochs=10,\n",
    "    workers=8)"
   ]
  },
  {
   "cell_type": "code",
   "execution_count": 21,
   "id": "ddf197ad",
   "metadata": {},
   "outputs": [
    {
     "data": {
      "text/plain": [
       "[('حروب', 0.8258386850357056),\n",
       " ('وغى', 0.7615727782249451),\n",
       " ('هيجاء', 0.7552218437194824),\n",
       " ('كفاح', 0.6719418168067932),\n",
       " ('هيجا', 0.6571804285049438),\n",
       " ('وغا', 0.6517561078071594),\n",
       " ('قتال', 0.6514930725097656),\n",
       " ('معارك', 0.6458837389945984),\n",
       " ('هياج', 0.6402440071105957),\n",
       " ('محارب', 0.6118369698524475)]"
      ]
     },
     "execution_count": 21,
     "metadata": {},
     "output_type": "execute_result"
    }
   ],
   "source": [
    "bert_model.wv.most_similar(positive='حرب')"
   ]
  },
  {
   "cell_type": "code",
   "execution_count": 22,
   "id": "794425af",
   "metadata": {},
   "outputs": [
    {
     "data": {
      "text/plain": [
       "[('بدر', 0.886574923992157),\n",
       " ('هلال', 0.7291861176490784),\n",
       " ('أقمار', 0.7184511423110962),\n",
       " ('قمرا', 0.6994655132293701),\n",
       " ('كوكب', 0.6927988529205322),\n",
       " ('بدرا', 0.6662076115608215),\n",
       " ('أبدر', 0.6478577256202698),\n",
       " ('إشراق', 0.6388406753540039),\n",
       " ('نير', 0.6296306848526001),\n",
       " ('بدران', 0.6207348108291626)]"
      ]
     },
     "execution_count": 22,
     "metadata": {},
     "output_type": "execute_result"
    }
   ],
   "source": [
    "bert_model.wv.most_similar(positive='قمر')"
   ]
  },
  {
   "cell_type": "code",
   "execution_count": 23,
   "id": "a8f48b6b",
   "metadata": {},
   "outputs": [
    {
     "data": {
      "text/plain": [
       "[('اشحذ', 0.606364369392395),\n",
       " ('كمي', 0.6048628091812134),\n",
       " ('أسلح', 0.5965107679367065),\n",
       " ('يقاتل', 0.5614538192749023),\n",
       " ('مبارز', 0.5568662285804749),\n",
       " ('مدجج', 0.555096447467804),\n",
       " ('كمى', 0.5508106350898743),\n",
       " ('سلاحا', 0.541978120803833),\n",
       " ('أعزل', 0.5360102653503418),\n",
       " ('صائل', 0.5245010256767273)]"
      ]
     },
     "execution_count": 23,
     "metadata": {},
     "output_type": "execute_result"
    }
   ],
   "source": [
    "bert_model.wv.most_similar(positive='سلاح')"
   ]
  },
  {
   "cell_type": "code",
   "execution_count": 13,
   "id": "c73a7346",
   "metadata": {},
   "outputs": [
    {
     "data": {
      "text/plain": [
       "[('فتتركني', 0.38507384061813354),\n",
       " ('ذاكا', 0.38497740030288696),\n",
       " ('ضئضىء', 0.3754619061946869),\n",
       " ('عقف', 0.3737567365169525),\n",
       " ('متحرف', 0.37313684821128845),\n",
       " ('شنفا', 0.3689161539077759),\n",
       " ('قلاق', 0.36809614300727844),\n",
       " ('مفحم', 0.36330750584602356),\n",
       " ('توعظ', 0.36208972334861755),\n",
       " ('سليس', 0.360828161239624)]"
      ]
     },
     "execution_count": 13,
     "metadata": {},
     "output_type": "execute_result"
    }
   ],
   "source": [
    "bert_model.wv.most_similar(positive='عيد')"
   ]
  },
  {
   "cell_type": "code",
   "execution_count": 13,
   "id": "e964cc0e",
   "metadata": {},
   "outputs": [
    {
     "data": {
      "text/plain": [
       "[('شعبان', 0.8914019465446472),\n",
       " ('شوال', 0.8817551732063293),\n",
       " ('رجب', 0.8156948089599609),\n",
       " ('صوم', 0.8102214336395264),\n",
       " ('صيام', 0.7968962788581848),\n",
       " ('إفطار', 0.7784942388534546),\n",
       " ('شهر', 0.7660092115402222),\n",
       " ('أسبوع', 0.711338460445404),\n",
       " ('سادس', 0.6981536149978638),\n",
       " ('صوما', 0.6931205987930298)]"
      ]
     },
     "execution_count": 13,
     "metadata": {},
     "output_type": "execute_result"
    }
   ],
   "source": [
    "bert_model.wv.most_similar(positive='رمضان')"
   ]
  },
  {
   "cell_type": "code",
   "execution_count": 14,
   "id": "00e39f70",
   "metadata": {},
   "outputs": [
    {
     "data": {
      "text/plain": [
       "[('صوم', 0.9176177978515625),\n",
       " ('صوما', 0.8008038401603699),\n",
       " ('رمضان', 0.7968961596488953),\n",
       " ('شهر', 0.7709810733795166),\n",
       " ('إفطار', 0.7595511674880981),\n",
       " ('شعبان', 0.7455832362174988),\n",
       " ('صام', 0.7038789391517639),\n",
       " ('شوال', 0.7023992538452148),\n",
       " ('أفطر', 0.6908111572265625),\n",
       " ('افطر', 0.6848002076148987)]"
      ]
     },
     "execution_count": 14,
     "metadata": {},
     "output_type": "execute_result"
    }
   ],
   "source": [
    "bert_model.wv.most_similar(positive='صيام')"
   ]
  },
  {
   "cell_type": "code",
   "execution_count": 15,
   "id": "2d7d0701",
   "metadata": {},
   "outputs": [
    {
     "data": {
      "text/plain": [
       "[('جدول', 0.8035427331924438),\n",
       " ('خليج', 0.75458163022995),\n",
       " ('دجل', 0.7471379637718201),\n",
       " ('أنهار', 0.7432496547698975),\n",
       " ('ضفاف', 0.7363280057907104),\n",
       " ('شاطئ', 0.7324143052101135),\n",
       " ('غدير', 0.7303998470306396),\n",
       " ('شاط', 0.7227619290351868),\n",
       " ('ماؤ', 0.7031472325325012),\n",
       " ('جداول', 0.6819625496864319)]"
      ]
     },
     "execution_count": 15,
     "metadata": {},
     "output_type": "execute_result"
    }
   ],
   "source": [
    "bert_model.wv.most_similar(positive='نهر')"
   ]
  },
  {
   "cell_type": "code",
   "execution_count": 24,
   "id": "25c4354d",
   "metadata": {},
   "outputs": [
    {
     "data": {
      "text/plain": [
       "[('ثاكل', 0.84678715467453),\n",
       " ('ثكول', 0.8041930198669434),\n",
       " ('ثواكل', 0.7970663905143738),\n",
       " ('تندب', 0.7553367018699646),\n",
       " ('تنوح', 0.7480713129043579),\n",
       " ('نوادب', 0.7214873433113098),\n",
       " ('نوائح', 0.7049776911735535),\n",
       " ('تبكي', 0.7032932639122009),\n",
       " ('انتحاب', 0.6990566849708557),\n",
       " ('مفجوع', 0.6974043846130371)]"
      ]
     },
     "execution_count": 24,
     "metadata": {},
     "output_type": "execute_result"
    }
   ],
   "source": [
    "bert_model.wv.most_similar(positive='ثكلى')"
   ]
  },
  {
   "cell_type": "code",
   "execution_count": 25,
   "id": "a5a0c741",
   "metadata": {},
   "outputs": [
    {
     "data": {
      "text/plain": [
       "[('حبك', 0.8353255391120911),\n",
       " ('هوا', 0.8068432807922363),\n",
       " ('هوى', 0.7780730724334717),\n",
       " ('محب', 0.7500185966491699),\n",
       " ('عشق', 0.744415283203125),\n",
       " ('حبي', 0.7434027791023254),\n",
       " ('غرام', 0.7380569577217102),\n",
       " ('هواي', 0.6968938708305359),\n",
       " ('شغف', 0.6701419353485107),\n",
       " ('عشقي', 0.6636521220207214)]"
      ]
     },
     "execution_count": 25,
     "metadata": {},
     "output_type": "execute_result"
    }
   ],
   "source": [
    "bert_model.wv.most_similar(positive='حب')"
   ]
  },
  {
   "cell_type": "code",
   "execution_count": 26,
   "id": "daf2bf17",
   "metadata": {},
   "outputs": [
    {
     "data": {
      "text/plain": [
       "[('بكا', 0.9056922793388367),\n",
       " ('بكائي', 0.7947946190834045),\n",
       " ('بكاؤ', 0.7944477200508118),\n",
       " ('نحيب', 0.7501668334007263),\n",
       " ('انتحاب', 0.7455834746360779),\n",
       " ('بكائ', 0.7419630885124207),\n",
       " ('تأسف', 0.7137796878814697),\n",
       " ('تفجع', 0.6928139328956604),\n",
       " ('بكي', 0.692628026008606),\n",
       " ('يبكى', 0.6859516501426697)]"
      ]
     },
     "execution_count": 26,
     "metadata": {},
     "output_type": "execute_result"
    }
   ],
   "source": [
    "bert_model.wv.most_similar(positive='بكاء')"
   ]
  },
  {
   "cell_type": "code",
   "execution_count": 27,
   "id": "a966eeb8",
   "metadata": {},
   "outputs": [
    {
     "data": {
      "text/plain": [
       "[('شرقا', 0.7292301058769226),\n",
       " ('غرب', 0.7085141539573669),\n",
       " ('مشارق', 0.7072569727897644),\n",
       " ('مشرق', 0.6671646237373352),\n",
       " ('غربا', 0.6281417608261108),\n",
       " ('مغارب', 0.6271656155586243),\n",
       " ('مشرقا', 0.5730795860290527),\n",
       " ('المغرب', 0.5716384649276733),\n",
       " ('مغرب', 0.5604066252708435),\n",
       " ('مغاربا', 0.5396143198013306)]"
      ]
     },
     "execution_count": 27,
     "metadata": {},
     "output_type": "execute_result"
    }
   ],
   "source": [
    "bert_model.wv.most_similar(positive='شرق')"
   ]
  },
  {
   "cell_type": "code",
   "execution_count": 28,
   "id": "dc890f64",
   "metadata": {},
   "outputs": [
    {
     "data": {
      "text/plain": [
       "[('متهجد', 0.7273576855659485),\n",
       " ('يتهجد', 0.7060710787773132),\n",
       " ('أذكار', 0.6124588251113892),\n",
       " ('آناء', 0.6017740368843079),\n",
       " ('ليلاء', 0.5946472883224487),\n",
       " ('نهارا', 0.5937535762786865),\n",
       " ('تلاو', 0.5759906768798828),\n",
       " ('سهر', 0.5758674144744873),\n",
       " ('صوما', 0.5733753442764282),\n",
       " ('متنفل', 0.5731920003890991)]"
      ]
     },
     "execution_count": 28,
     "metadata": {},
     "output_type": "execute_result"
    }
   ],
   "source": [
    "bert_model.wv.most_similar(positive='تهجد')"
   ]
  },
  {
   "cell_type": "code",
   "execution_count": 29,
   "id": "05dff298",
   "metadata": {},
   "outputs": [
    {
     "data": {
      "text/plain": [
       "[('شمطاء', 0.783287763595581),\n",
       " ('عانس', 0.6760879755020142),\n",
       " ('شهرب', 0.6484708189964294),\n",
       " ('حبلى', 0.6186768412590027),\n",
       " ('صبي', 0.6026730537414551),\n",
       " ('الصبي', 0.5987450480461121),\n",
       " ('مومس', 0.5935264825820923),\n",
       " ('حليل', 0.5896438360214233),\n",
       " ('است', 0.5808508992195129),\n",
       " ('تزوج', 0.5726931691169739)]"
      ]
     },
     "execution_count": 29,
     "metadata": {},
     "output_type": "execute_result"
    }
   ],
   "source": [
    "bert_model.wv.most_similar(positive='عجوز')"
   ]
  },
  {
   "cell_type": "code",
   "execution_count": 22,
   "id": "256dd29d",
   "metadata": {},
   "outputs": [
    {
     "data": {
      "text/plain": [
       "[('رجيم', 0.8654313683509827),\n",
       " ('نزغ', 0.7513377666473389),\n",
       " ('غوي', 0.7489640712738037),\n",
       " ('إبليس', 0.7442300915718079),\n",
       " ('مارد', 0.6984922289848328),\n",
       " ('ابليس', 0.6911853551864624),\n",
       " ('غاوي', 0.6905670166015625),\n",
       " ('شيطاني', 0.6768575310707092),\n",
       " ('شياطين', 0.6654265522956848),\n",
       " ('غاو', 0.6376013159751892)]"
      ]
     },
     "execution_count": 22,
     "metadata": {},
     "output_type": "execute_result"
    }
   ],
   "source": [
    "bert_model.wv.most_similar(positive='شيطان')"
   ]
  },
  {
   "cell_type": "code",
   "execution_count": 30,
   "id": "528ad8a9",
   "metadata": {},
   "outputs": [
    {
     "data": {
      "text/plain": [
       "[('سفي', 0.7586504817008972),\n",
       " ('مأفون', 0.708583652973175),\n",
       " ('سفه', 0.6947180032730103),\n",
       " ('أحمق', 0.6945162415504456),\n",
       " ('سفهاء', 0.693919837474823),\n",
       " ('جهول', 0.6899445056915283),\n",
       " ('حليم', 0.6749348044395447),\n",
       " ('سفاه', 0.6733116507530212),\n",
       " ('حمق', 0.6719596982002258),\n",
       " ('سخيف', 0.6596214771270752)]"
      ]
     },
     "execution_count": 30,
     "metadata": {},
     "output_type": "execute_result"
    }
   ],
   "source": [
    "bert_model.wv.most_similar(positive='سفيه')"
   ]
  },
  {
   "cell_type": "code",
   "execution_count": 24,
   "id": "b77b1f7e",
   "metadata": {},
   "outputs": [
    {
     "data": {
      "text/plain": [
       "[('فيالي', 0.7545331716537476),\n",
       " ('ياليت', 0.6638481616973877),\n",
       " ('يتني', 0.6485655307769775),\n",
       " ('نسيه', 0.5457009673118591),\n",
       " ('حسرتا', 0.5044820308685303),\n",
       " ('ويح', 0.504289984703064),\n",
       " ('يلتا', 0.4894065260887146),\n",
       " ('أتغفل', 0.4734174907207489),\n",
       " ('أترى', 0.46551939845085144),\n",
       " ('أسفي', 0.45672500133514404)]"
      ]
     },
     "execution_count": 24,
     "metadata": {},
     "output_type": "execute_result"
    }
   ],
   "source": [
    "bert_model.wv.most_similar(positive='ليت')"
   ]
  },
  {
   "cell_type": "code",
   "execution_count": 31,
   "id": "74a4145b",
   "metadata": {},
   "outputs": [
    {
     "data": {
      "text/plain": [
       "[('مرتاد', 0.6523571610450745),\n",
       " ('رواد', 0.618211567401886),\n",
       " ('منتجع', 0.5527411699295044),\n",
       " ('نجع', 0.5491498112678528),\n",
       " ('مرعى', 0.5381015539169312),\n",
       " ('ارتياد', 0.5214452743530273),\n",
       " ('يرتاد', 0.4937489926815033),\n",
       " ('يرود', 0.48257604241371155),\n",
       " ('مورد', 0.4771170914173126),\n",
       " ('انتجاع', 0.4717232882976532)]"
      ]
     },
     "execution_count": 31,
     "metadata": {},
     "output_type": "execute_result"
    }
   ],
   "source": [
    "bert_model.wv.most_similar(positive='رائد')"
   ]
  },
  {
   "cell_type": "code",
   "execution_count": 32,
   "id": "4324d6ce",
   "metadata": {},
   "outputs": [
    {
     "data": {
      "text/plain": [
       "[('جبان', 0.7316989898681641),\n",
       " ('باسل', 0.7143270373344421),\n",
       " ('ذمر', 0.7069920897483826),\n",
       " ('جريء', 0.7066757082939148),\n",
       " ('بسال', 0.6984866261482239),\n",
       " ('كمي', 0.6909453272819519),\n",
       " ('بطل', 0.682129442691803),\n",
       " ('إقدام', 0.6651972532272339),\n",
       " ('صنديد', 0.6500799655914307),\n",
       " ('مقدام', 0.6471388339996338)]"
      ]
     },
     "execution_count": 32,
     "metadata": {},
     "output_type": "execute_result"
    }
   ],
   "source": [
    "bert_model.wv.most_similar(positive='شجاع')"
   ]
  },
  {
   "cell_type": "code",
   "execution_count": 27,
   "id": "b51770b6",
   "metadata": {},
   "outputs": [
    {
     "data": {
      "text/plain": [
       "[('عبسي', 0.8010635375976562),\n",
       " ('أشجع', 0.7444644570350647),\n",
       " ('فارس', 0.7316497564315796),\n",
       " ('مغوار', 0.7279079556465149),\n",
       " ('جساس', 0.7232443690299988),\n",
       " ('فوارس', 0.7115820646286011),\n",
       " ('كبش', 0.7102588415145874),\n",
       " ('وغا', 0.7037143707275391),\n",
       " ('محرب', 0.6948537230491638),\n",
       " ('ضيغما', 0.6913682818412781)]"
      ]
     },
     "execution_count": 27,
     "metadata": {},
     "output_type": "execute_result"
    }
   ],
   "source": [
    "bert_model.wv.most_similar(positive='عنتر')"
   ]
  },
  {
   "cell_type": "code",
   "execution_count": 33,
   "id": "91a2e1a7",
   "metadata": {},
   "outputs": [],
   "source": [
    "bert_model.save('models/bert_word2vec_model.model')\n",
    "df.to_csv('all_poems_bert_processed.csv', index=False)"
   ]
  },
  {
   "cell_type": "code",
   "execution_count": 29,
   "id": "92531df0",
   "metadata": {},
   "outputs": [
    {
     "data": {
      "text/html": [
       "<div>\n",
       "<style scoped>\n",
       "    .dataframe tbody tr th:only-of-type {\n",
       "        vertical-align: middle;\n",
       "    }\n",
       "\n",
       "    .dataframe tbody tr th {\n",
       "        vertical-align: top;\n",
       "    }\n",
       "\n",
       "    .dataframe thead th {\n",
       "        text-align: right;\n",
       "    }\n",
       "</style>\n",
       "<table border=\"1\" class=\"dataframe\">\n",
       "  <thead>\n",
       "    <tr style=\"text-align: right;\">\n",
       "      <th></th>\n",
       "      <th>poem_text</th>\n",
       "      <th>bert_t</th>\n",
       "    </tr>\n",
       "  </thead>\n",
       "  <tbody>\n",
       "    <tr>\n",
       "      <th>0</th>\n",
       "      <td>خليلي لا تستعجلا أن تزودا    وأن تجمعا شملي وت...</td>\n",
       "      <td>[خليل, لا, تستعجل, أن, تزود, أن, تجمع, شملي, ت...</td>\n",
       "    </tr>\n",
       "    <tr>\n",
       "      <th>1</th>\n",
       "      <td>فما لبث يوما بسابق مغنم    ولا سرعتي يوما بساب...</td>\n",
       "      <td>[ما, لبث, يوم, سابق, مغنم, لا, سرع, يوم, سابق,...</td>\n",
       "    </tr>\n",
       "    <tr>\n",
       "      <th>2</th>\n",
       "      <td>وإن تنظراني اليوم أقض لبانة    وتستوجبا منا عل...</td>\n",
       "      <td>[إن, تنظراني, يوم, أقض, بان, تستوجب, من, علي, ...</td>\n",
       "    </tr>\n",
       "    <tr>\n",
       "      <th>3</th>\n",
       "      <td>لعمرك ما نفس بجد رشيدة    تؤامرني سرا لأصرم مرثدا</td>\n",
       "      <td>[عمر, ما, نفس, جد, رشيد, تؤامرني, سر, أصرم, مرثد]</td>\n",
       "    </tr>\n",
       "    <tr>\n",
       "      <th>4</th>\n",
       "      <td>وإن ظهرت منه قوارص جمة    وأفرع في لومي مرارا ...</td>\n",
       "      <td>[إن, ظهر, من, قوارص, جم, أفرع, في, لومي, مرار,...</td>\n",
       "    </tr>\n",
       "  </tbody>\n",
       "</table>\n",
       "</div>"
      ],
      "text/plain": [
       "                                           poem_text  \\\n",
       "0  خليلي لا تستعجلا أن تزودا    وأن تجمعا شملي وت...   \n",
       "1  فما لبث يوما بسابق مغنم    ولا سرعتي يوما بساب...   \n",
       "2  وإن تنظراني اليوم أقض لبانة    وتستوجبا منا عل...   \n",
       "3  لعمرك ما نفس بجد رشيدة    تؤامرني سرا لأصرم مرثدا   \n",
       "4  وإن ظهرت منه قوارص جمة    وأفرع في لومي مرارا ...   \n",
       "\n",
       "                                              bert_t  \n",
       "0  [خليل, لا, تستعجل, أن, تزود, أن, تجمع, شملي, ت...  \n",
       "1  [ما, لبث, يوم, سابق, مغنم, لا, سرع, يوم, سابق,...  \n",
       "2  [إن, تنظراني, يوم, أقض, بان, تستوجب, من, علي, ...  \n",
       "3  [عمر, ما, نفس, جد, رشيد, تؤامرني, سر, أصرم, مرثد]  \n",
       "4  [إن, ظهر, من, قوارص, جم, أفرع, في, لومي, مرار,...  "
      ]
     },
     "execution_count": 29,
     "metadata": {},
     "output_type": "execute_result"
    }
   ],
   "source": [
    "df.head()"
   ]
  },
  {
   "cell_type": "markdown",
   "id": "c08c3086",
   "metadata": {},
   "source": [
    "## Doc2Vec"
   ]
  },
  {
   "cell_type": "code",
   "execution_count": 8,
   "id": "bc66672f",
   "metadata": {},
   "outputs": [],
   "source": [
    "from gensim.models.doc2vec import Doc2Vec, TaggedDocument\n",
    "taggedData = [TaggedDocument(words=doc, tags=[str(i)]) for doc, i in zip(df['bert_t'], df.index)]"
   ]
  },
  {
   "cell_type": "code",
   "execution_count": 9,
   "id": "6b69ffe6",
   "metadata": {},
   "outputs": [
    {
     "data": {
      "text/plain": [
       "<gensim.models.doc2vec.Doc2Vec at 0x7f241aff2e10>"
      ]
     },
     "execution_count": 9,
     "metadata": {},
     "output_type": "execute_result"
    }
   ],
   "source": [
    "model = Doc2Vec(vector_size=150, min_count=4, epochs=20, workers=120, window=7, dm=1)\n",
    "model"
   ]
  },
  {
   "cell_type": "code",
   "execution_count": 10,
   "id": "1f7c7cdf",
   "metadata": {},
   "outputs": [],
   "source": [
    "model.build_vocab(taggedData)"
   ]
  },
  {
   "cell_type": "code",
   "execution_count": null,
   "id": "6999c25b",
   "metadata": {},
   "outputs": [],
   "source": [
    "model.train(taggedData,\n",
    "            total_examples=model.corpus_count,\n",
    "            epochs=model.epochs)"
   ]
  },
  {
   "cell_type": "code",
   "execution_count": null,
   "id": "356cdd6a",
   "metadata": {},
   "outputs": [],
   "source": [
    "#df['doc_vecs'] = df['bert_t'].apply(model.infer_vector)\n",
    "df.head()"
   ]
  },
  {
   "cell_type": "code",
   "execution_count": null,
   "id": "88286933",
   "metadata": {},
   "outputs": [],
   "source": [
    "#df.to_csv('all_poems_bert_processed.csv', index=False)"
   ]
  },
  {
   "cell_type": "code",
   "execution_count": null,
   "id": "6660122d",
   "metadata": {},
   "outputs": [],
   "source": [
    "model.save('models/bert_doc2vec_model_bow11.model')"
   ]
  },
  {
   "cell_type": "code",
   "execution_count": null,
   "id": "1f15039a",
   "metadata": {},
   "outputs": [],
   "source": [
    "prompt = 'وددت رؤية الياسمين'\n",
    "\n",
    "clean_prompt = [token for token in arabert_prep.preprocess(prompt).split() if '+' not in token]\n",
    "clean_prompt"
   ]
  },
  {
   "cell_type": "code",
   "execution_count": null,
   "id": "c0fa1dbc",
   "metadata": {},
   "outputs": [],
   "source": [
    "inferred_vector = model.infer_vector(clean_prompt)\n",
    "sims = model.dv.most_similar([inferred_vector], topn=500)\n",
    "sims"
   ]
  },
  {
   "cell_type": "code",
   "execution_count": null,
   "id": "f262fbe9",
   "metadata": {},
   "outputs": [],
   "source": [
    "array = np.array(sims)\n",
    "df_ggl = pd.DataFrame(array, columns=['id', 'similarity'])\n",
    "plt.plot(df_ggl.index, df_ggl['similarity'].astype(float))"
   ]
  },
  {
   "cell_type": "code",
   "execution_count": null,
   "id": "a11b7a6c",
   "metadata": {},
   "outputs": [],
   "source": [
    "df.loc[int(sims[2][0])]"
   ]
  }
 ],
 "metadata": {
  "kernelspec": {
   "display_name": "Python 3 (ipykernel)",
   "language": "python",
   "name": "python3"
  },
  "language_info": {
   "codemirror_mode": {
    "name": "ipython",
    "version": 3
   },
   "file_extension": ".py",
   "mimetype": "text/x-python",
   "name": "python",
   "nbconvert_exporter": "python",
   "pygments_lexer": "ipython3",
   "version": "3.11.9"
  }
 },
 "nbformat": 4,
 "nbformat_minor": 5
}

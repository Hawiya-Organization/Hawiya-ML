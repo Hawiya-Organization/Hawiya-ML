{
 "cells": [
  {
   "cell_type": "markdown",
   "id": "ca6139ff",
   "metadata": {},
   "source": [
    "## Imports"
   ]
  },
  {
   "cell_type": "code",
   "execution_count": 1,
   "id": "f01a201a",
   "metadata": {},
   "outputs": [],
   "source": [
    "import pandas as pd\n",
    "import numpy as np\n",
    "import matplotlib.pyplot as plt\n",
    "import seaborn as sns\n",
    "\n",
    "from itertools import islice\n",
    "\n",
    "import sentencepiece as sp\n",
    "\n",
    "from sklearn.metrics.pairwise import cosine_similarity\n",
    "import arabicstopwords.arabicstopwords as stp\n",
    "\n",
    "import tkseem as tk\n",
    "import gensim"
   ]
  },
  {
   "cell_type": "code",
   "execution_count": null,
   "id": "2a2c2963",
   "metadata": {},
   "outputs": [],
   "source": [
    "df = pd.read_csv('all_poems_tokenized.csv')\n",
    "df.head()"
   ]
  },
  {
   "cell_type": "code",
   "execution_count": 3,
   "id": "c301d1d9",
   "metadata": {},
   "outputs": [],
   "source": [
    "morph_embedder = gensim.models.Word2Vec.load(\"models/morph_word2vec_model.model\")\n",
    "word_embedder = gensim.models.Word2Vec.load(\"models/word_word2vec_model.model\")\n",
    "sp_embedder = gensim.models.Word2Vec.load(\"models/sp_word2vec_model.model\")\n",
    "bert_embedder = gensim.models.Word2Vec.load(\"models/bert_word2vec_model.model\")\n",
    "bert_doc_embedder = gensim.models.Doc2Vec.load(\"models/bert_doc2vec_model.model\")"
   ]
  },
  {
   "cell_type": "markdown",
   "id": "3bc8e1c3",
   "metadata": {},
   "source": [
    "## Sentence Embedding - Old"
   ]
  },
  {
   "cell_type": "markdown",
   "id": "b5a46495",
   "metadata": {},
   "source": [
    "### morph_t"
   ]
  },
  {
   "cell_type": "code",
   "execution_count": 12,
   "id": "cd63a996",
   "metadata": {},
   "outputs": [
    {
     "data": {
      "text/plain": [
       "0        [-0.24765442, 0.38770875, -0.102871165, 0.6061...\n",
       "1        [-0.21053302, 0.40086082, -0.0674093, 0.553667...\n",
       "2        [-0.2367812, 0.38922733, -0.02944215, 0.555683...\n",
       "3        [-0.23369573, 0.38332504, -0.08212776, 0.54824...\n",
       "4        [-0.20537826, 0.39523986, -0.051928695, 0.5820...\n",
       "                               ...                        \n",
       "58015    [-0.20806184, 0.38307905, -0.04547936, 0.57579...\n",
       "58016    [-0.22086722, 0.38448393, -0.07153136, 0.57813...\n",
       "58017    [-0.23908353, 0.39568943, -0.07490797, 0.57204...\n",
       "58018    [-0.24266043, 0.38576385, -0.097762905, 0.5437...\n",
       "58019    [-0.24392053, 0.3556195, -0.052376214, 0.53299...\n",
       "Name: morph_embd, Length: 58020, dtype: object"
      ]
     },
     "execution_count": 12,
     "metadata": {},
     "output_type": "execute_result"
    }
   ],
   "source": [
    "def morph_embed(tokens_poem):\n",
    "    clear_poem = [token for token in tokens_poem if token != '<UNK>']\n",
    "    embedded_tokens = np.array([morph_embedder.wv.__getitem__(token) for token in clear_poem if token in morph_embedder.wv.key_to_index])\n",
    "    return np.mean(embedded_tokens, axis=0)\n",
    "\n",
    "df['morph_embd'] = df['morph_t'].apply(morph_embed)\n",
    "df['morph_embd']"
   ]
  },
  {
   "cell_type": "markdown",
   "id": "4aa201e1",
   "metadata": {},
   "source": [
    "### word_t"
   ]
  },
  {
   "cell_type": "code",
   "execution_count": 14,
   "id": "9b4353e6",
   "metadata": {},
   "outputs": [
    {
     "name": "stderr",
     "output_type": "stream",
     "text": [
      "/home/ellzo/.local/lib/python3.11/site-packages/numpy/core/fromnumeric.py:3432: RuntimeWarning: Mean of empty slice.\n",
      "  return _methods._mean(a, axis=axis, dtype=dtype,\n",
      "/home/ellzo/.local/lib/python3.11/site-packages/numpy/core/_methods.py:190: RuntimeWarning: invalid value encountered in double_scalars\n",
      "  ret = ret.dtype.type(ret / rcount)\n"
     ]
    },
    {
     "data": {
      "text/plain": [
       "0        [0.36752653, -0.17306797, 0.82105994, 1.336765...\n",
       "1        [0.36973467, -0.17719436, 0.80202323, 1.401817...\n",
       "2        [0.34428057, -0.23966013, 0.80465615, 1.332442...\n",
       "3        [0.35446733, -0.19623774, 0.8237479, 1.3555199...\n",
       "4        [0.35435063, -0.16567777, 0.78858435, 1.330945...\n",
       "                               ...                        \n",
       "58015    [0.32918015, -0.28842545, 0.873193, 1.3634624,...\n",
       "58016    [0.34123966, -0.21129483, 0.763187, 1.3122137,...\n",
       "58017    [0.3883289, -0.10817233, 0.78995746, 1.3408959...\n",
       "58018    [0.37741277, -0.19153947, 0.7831429, 1.2971675...\n",
       "58019    [0.30487433, -0.25957322, 0.84724337, 1.279440...\n",
       "Name: word_embd, Length: 58020, dtype: object"
      ]
     },
     "execution_count": 14,
     "metadata": {},
     "output_type": "execute_result"
    }
   ],
   "source": [
    "def word_embed(tokens_poem):\n",
    "    clear_poem = [token for token in tokens_poem if token != '<UNK>']\n",
    "    embedded_tokens = np.array([word_embedder.wv.__getitem__(token) for token in clear_poem if token in word_embedder.wv.key_to_index])\n",
    "    return np.mean(embedded_tokens, axis=0)\n",
    "\n",
    "df['word_embd'] = df['word_t'].apply(word_embed)\n",
    "df['word_embd']"
   ]
  },
  {
   "cell_type": "code",
   "execution_count": 15,
   "id": "fde2f843",
   "metadata": {},
   "outputs": [
    {
     "data": {
      "text/plain": [
       "1"
      ]
     },
     "execution_count": 15,
     "metadata": {},
     "output_type": "execute_result"
    }
   ],
   "source": [
    "df['word_embd'].isna().sum()"
   ]
  },
  {
   "cell_type": "markdown",
   "id": "4c82ee34",
   "metadata": {},
   "source": [
    "### sp_t"
   ]
  },
  {
   "cell_type": "code",
   "execution_count": 20,
   "id": "09901ac8",
   "metadata": {},
   "outputs": [
    {
     "data": {
      "text/plain": [
       "0        [-0.1606714, -0.24332365, -0.1781964, 0.160212...\n",
       "1        [-0.1436229, -0.22236936, -0.13860583, 0.18322...\n",
       "2        [-0.14439291, -0.24374737, -0.11658855, 0.1895...\n",
       "3        [-0.12386649, -0.25546777, -0.14277692, 0.1044...\n",
       "4        [-0.10791435, -0.25342014, -0.135347, 0.245345...\n",
       "                               ...                        \n",
       "58015    [-0.17274301, -0.23464988, -0.17849502, 0.1313...\n",
       "58016    [-0.20550907, -0.18462388, -0.11567006, 0.2114...\n",
       "58017    [-0.15006873, -0.24745524, -0.14741597, 0.2391...\n",
       "58018    [-0.23535645, -0.20253615, -0.13503188, 0.1809...\n",
       "58019    [-0.14040759, -0.20414302, -0.20031135, 0.1980...\n",
       "Name: sp_embd, Length: 58020, dtype: object"
      ]
     },
     "execution_count": 20,
     "metadata": {},
     "output_type": "execute_result"
    }
   ],
   "source": [
    "def word_embed(tokens_poem):\n",
    "    clear_poem = [token for token in tokens_poem if token not in ['-0-', '-1-', '-2-', '-3-']]\n",
    "    embedded_tokens = np.array([sp_embedder.wv.__getitem__(token) for token in clear_poem if token in sp_embedder.wv.key_to_index])\n",
    "    return np.mean(embedded_tokens, axis=0)\n",
    "\n",
    "df['sp_embd'] = df['sp_t'].apply(word_embed)\n",
    "df['sp_embd']"
   ]
  },
  {
   "cell_type": "markdown",
   "id": "1f891075",
   "metadata": {},
   "source": [
    "## Search - Old"
   ]
  },
  {
   "cell_type": "code",
   "execution_count": 21,
   "id": "7ff6cd8c",
   "metadata": {
    "scrolled": true
   },
   "outputs": [
    {
     "data": {
      "text/html": [
       "<div>\n",
       "<style scoped>\n",
       "    .dataframe tbody tr th:only-of-type {\n",
       "        vertical-align: middle;\n",
       "    }\n",
       "\n",
       "    .dataframe tbody tr th {\n",
       "        vertical-align: top;\n",
       "    }\n",
       "\n",
       "    .dataframe thead th {\n",
       "        text-align: right;\n",
       "    }\n",
       "</style>\n",
       "<table border=\"1\" class=\"dataframe\">\n",
       "  <thead>\n",
       "    <tr style=\"text-align: right;\">\n",
       "      <th></th>\n",
       "      <th>poem_text</th>\n",
       "      <th>morph_t</th>\n",
       "      <th>word_t</th>\n",
       "      <th>sp_t</th>\n",
       "      <th>morph_embd</th>\n",
       "      <th>word_embd</th>\n",
       "      <th>sp_embd</th>\n",
       "    </tr>\n",
       "  </thead>\n",
       "  <tbody>\n",
       "    <tr>\n",
       "      <th>0</th>\n",
       "      <td>عيناك غابتا نخيل ساعة السحر او شرفتان راح يناي...</td>\n",
       "      <td>['عينا', '##ك', 'غابتا', 'نخيل', 'ساعة', 'ال',...</td>\n",
       "      <td>['عيناك', '&lt;UNK&gt;', 'نخيل', 'ساعة', 'السحر', 'ا...</td>\n",
       "      <td>['▁عيناك', '▁غابت', 'ا', '▁نخيل', '▁ساعة', '▁ا...</td>\n",
       "      <td>[-0.24765442, 0.38770875, -0.102871165, 0.6061...</td>\n",
       "      <td>[0.36752653, -0.17306797, 0.82105994, 1.336765...</td>\n",
       "      <td>[-0.1606714, -0.24332365, -0.1781964, 0.160212...</td>\n",
       "    </tr>\n",
       "    <tr>\n",
       "      <th>1</th>\n",
       "      <td>انا لا ازال و في يدي قدحي ياليل اين تفرق الشر...</td>\n",
       "      <td>['&lt;UNK&gt;', 'لا', '&lt;UNK&gt;', 'و', 'في', 'يدي', 'قد...</td>\n",
       "      <td>['انا', 'لا', 'ازال', 'و', 'في', 'يدي', '&lt;UNK&gt;...</td>\n",
       "      <td>['▁انا', '▁لا', '▁ازال', '▁و', '▁في', '▁يدي', ...</td>\n",
       "      <td>[-0.21053302, 0.40086082, -0.0674093, 0.553667...</td>\n",
       "      <td>[0.36973467, -0.17719436, 0.80202323, 1.401817...</td>\n",
       "      <td>[-0.1436229, -0.22236936, -0.13860583, 0.18322...</td>\n",
       "    </tr>\n",
       "    <tr>\n",
       "      <th>2</th>\n",
       "      <td>علي مقلتيك ارتشفت النجوم وعانقت امالي الايبة ...</td>\n",
       "      <td>['علي', 'مقلتي', '##ك', 'ارتشفت', 'النج', '##و...</td>\n",
       "      <td>['علي', 'مقلتيك', '&lt;UNK&gt;', 'النجوم', '&lt;UNK&gt;', ...</td>\n",
       "      <td>['▁علي', '▁مقلتيك', '▁ا', 'رتشف', 'ت', '▁النجو...</td>\n",
       "      <td>[-0.2367812, 0.38922733, -0.02944215, 0.555683...</td>\n",
       "      <td>[0.34428057, -0.23966013, 0.80465615, 1.332442...</td>\n",
       "      <td>[-0.14439291, -0.24374737, -0.11658855, 0.1895...</td>\n",
       "    </tr>\n",
       "    <tr>\n",
       "      <th>3</th>\n",
       "      <td>اساطير من حشرجات الزمان نسيج اليد البالية رواه...</td>\n",
       "      <td>['اساط', '##ير', 'من', 'حشرجات', 'ال', '##زمان...</td>\n",
       "      <td>['&lt;UNK&gt;', 'من', '&lt;UNK&gt;', 'الزمان', '&lt;UNK&gt;', 'ا...</td>\n",
       "      <td>['▁اساطير', '▁من', '▁حشر', 'جات', '▁الزمان', '...</td>\n",
       "      <td>[-0.23369573, 0.38332504, -0.08212776, 0.54824...</td>\n",
       "      <td>[0.35446733, -0.19623774, 0.8237479, 1.3555199...</td>\n",
       "      <td>[-0.12386649, -0.25546777, -0.14277692, 0.1044...</td>\n",
       "    </tr>\n",
       "    <tr>\n",
       "      <th>4</th>\n",
       "      <td>والتف حولك ساعداي ومال جيدك في اشتهاء كالزهرة ...</td>\n",
       "      <td>['والت', '##ف', 'حول', '##ك', 'ساعدا', '##ي', ...</td>\n",
       "      <td>['&lt;UNK&gt;', 'حولك', '&lt;UNK&gt;', 'ومال', '&lt;UNK&gt;', 'ف...</td>\n",
       "      <td>['▁والتف', '▁حولك', '▁ساعد', 'ا', 'ي', '▁ومال'...</td>\n",
       "      <td>[-0.20537826, 0.39523986, -0.051928695, 0.5820...</td>\n",
       "      <td>[0.35435063, -0.16567777, 0.78858435, 1.330945...</td>\n",
       "      <td>[-0.10791435, -0.25342014, -0.135347, 0.245345...</td>\n",
       "    </tr>\n",
       "  </tbody>\n",
       "</table>\n",
       "</div>"
      ],
      "text/plain": [
       "                                           poem_text  \\\n",
       "0  عيناك غابتا نخيل ساعة السحر او شرفتان راح يناي...   \n",
       "1   انا لا ازال و في يدي قدحي ياليل اين تفرق الشر...   \n",
       "2   علي مقلتيك ارتشفت النجوم وعانقت امالي الايبة ...   \n",
       "3  اساطير من حشرجات الزمان نسيج اليد البالية رواه...   \n",
       "4  والتف حولك ساعداي ومال جيدك في اشتهاء كالزهرة ...   \n",
       "\n",
       "                                             morph_t  \\\n",
       "0  ['عينا', '##ك', 'غابتا', 'نخيل', 'ساعة', 'ال',...   \n",
       "1  ['<UNK>', 'لا', '<UNK>', 'و', 'في', 'يدي', 'قد...   \n",
       "2  ['علي', 'مقلتي', '##ك', 'ارتشفت', 'النج', '##و...   \n",
       "3  ['اساط', '##ير', 'من', 'حشرجات', 'ال', '##زمان...   \n",
       "4  ['والت', '##ف', 'حول', '##ك', 'ساعدا', '##ي', ...   \n",
       "\n",
       "                                              word_t  \\\n",
       "0  ['عيناك', '<UNK>', 'نخيل', 'ساعة', 'السحر', 'ا...   \n",
       "1  ['انا', 'لا', 'ازال', 'و', 'في', 'يدي', '<UNK>...   \n",
       "2  ['علي', 'مقلتيك', '<UNK>', 'النجوم', '<UNK>', ...   \n",
       "3  ['<UNK>', 'من', '<UNK>', 'الزمان', '<UNK>', 'ا...   \n",
       "4  ['<UNK>', 'حولك', '<UNK>', 'ومال', '<UNK>', 'ف...   \n",
       "\n",
       "                                                sp_t  \\\n",
       "0  ['▁عيناك', '▁غابت', 'ا', '▁نخيل', '▁ساعة', '▁ا...   \n",
       "1  ['▁انا', '▁لا', '▁ازال', '▁و', '▁في', '▁يدي', ...   \n",
       "2  ['▁علي', '▁مقلتيك', '▁ا', 'رتشف', 'ت', '▁النجو...   \n",
       "3  ['▁اساطير', '▁من', '▁حشر', 'جات', '▁الزمان', '...   \n",
       "4  ['▁والتف', '▁حولك', '▁ساعد', 'ا', 'ي', '▁ومال'...   \n",
       "\n",
       "                                          morph_embd  \\\n",
       "0  [-0.24765442, 0.38770875, -0.102871165, 0.6061...   \n",
       "1  [-0.21053302, 0.40086082, -0.0674093, 0.553667...   \n",
       "2  [-0.2367812, 0.38922733, -0.02944215, 0.555683...   \n",
       "3  [-0.23369573, 0.38332504, -0.08212776, 0.54824...   \n",
       "4  [-0.20537826, 0.39523986, -0.051928695, 0.5820...   \n",
       "\n",
       "                                           word_embd  \\\n",
       "0  [0.36752653, -0.17306797, 0.82105994, 1.336765...   \n",
       "1  [0.36973467, -0.17719436, 0.80202323, 1.401817...   \n",
       "2  [0.34428057, -0.23966013, 0.80465615, 1.332442...   \n",
       "3  [0.35446733, -0.19623774, 0.8237479, 1.3555199...   \n",
       "4  [0.35435063, -0.16567777, 0.78858435, 1.330945...   \n",
       "\n",
       "                                             sp_embd  \n",
       "0  [-0.1606714, -0.24332365, -0.1781964, 0.160212...  \n",
       "1  [-0.1436229, -0.22236936, -0.13860583, 0.18322...  \n",
       "2  [-0.14439291, -0.24374737, -0.11658855, 0.1895...  \n",
       "3  [-0.12386649, -0.25546777, -0.14277692, 0.1044...  \n",
       "4  [-0.10791435, -0.25342014, -0.135347, 0.245345...  "
      ]
     },
     "execution_count": 21,
     "metadata": {},
     "output_type": "execute_result"
    }
   ],
   "source": [
    "df.head()"
   ]
  },
  {
   "cell_type": "code",
   "execution_count": 61,
   "id": "5658fb05",
   "metadata": {},
   "outputs": [],
   "source": [
    "def query_to_vec(query, column_used, embedder):\n",
    "    token_query = query.split()\n",
    "    clear_query = [token for token in token_query if token not in ['-0-', '-1-', '-2-', '-3-', '<UNK>']]\n",
    "    embedded_tokens = np.array([embedder.wv.__getitem__(token) for token in clear_query if token in embedder.wv.key_to_index])\n",
    "    if len(embedded_tokens > 0):\n",
    "        return np.mean(embedded_tokens, axis=0)\n",
    "    return [0 for i in range(len(df[column_used].dropna()[0]))]\n",
    "\n",
    "def search(query, column_used, embedder):\n",
    "    embedding_arrays = np.array(df[column_used].dropna().tolist())\n",
    "    \n",
    "    embed_query = query_to_vec(query, column_used, embedder)\n",
    "    \n",
    "    similarities = cosine_similarity(embedding_arrays, np.array(embed_query).reshape(1, -1))\n",
    "    \n",
    "    max_index = np.argmax(similarities)\n",
    "    \n",
    "    return df.at[max_index, 'poem_text']"
   ]
  },
  {
   "cell_type": "code",
   "execution_count": 62,
   "id": "4f2a89a3",
   "metadata": {},
   "outputs": [
    {
     "name": "stdout",
     "output_type": "stream",
     "text": [
      "Result using Morphological:\n",
      "راي المهلب او باس الايازيد\n",
      "\n",
      "Result using Word:\n",
      "مت من حبه وبغض ابيه\n",
      "\n",
      "Result using SentencePiece:\n",
      "الياسمين الدمشقي له اظافر بيضاء تثقب جدران الذاكرة \n",
      "\n"
     ]
    }
   ],
   "source": [
    "query = 'جمال القمر'\n",
    "\n",
    "print(\"Result using Morphological:\")\n",
    "print(search(query, 'morph_embd', morph_embedder))\n",
    "print()\n",
    "\n",
    "print(\"Result using Word:\")\n",
    "print(search(query, 'word_embd', word_embedder))\n",
    "print()\n",
    "\n",
    "print(\"Result using SentencePiece:\")\n",
    "print(search(query, 'sp_embd', sp_embedder))\n",
    "print()"
   ]
  },
  {
   "cell_type": "code",
   "execution_count": 63,
   "id": "5c297d55",
   "metadata": {},
   "outputs": [
    {
     "name": "stdout",
     "output_type": "stream",
     "text": [
      "Result using Morphological:\n",
      "كقنوان النخيل المخصلف\n",
      "\n",
      "Result using Word:\n",
      "اي فردوس انسل منه النساء وسكبن السراب علي سبات السابلة نهرب ماء السماء في سواد المساء نقطر شمسا نحاسية علي شحوب الصحراء نشك الاصابع بماس العسيب اي نعاس يغالب صحو الصبايا نستمطر القلب اشواقا حية ورحيقا يفور نستمطر الوقت عمرا وصبرا جميل نستمطر الطرقات وطنا يبد الوحشة المشتركة اي رياح تخاطف الاشرعة نمازج الطوفان باطياف تطير ونءلف من كل زوجين اثنين مهرا لمهرة الهاربة اي قمر علقته شهرزاد علي ليل القاء قلنا اقترب قلنا عصافير تحترق قامة تورق قلنا زرقاء تقرا اشارات المحاق غابة سدر تشجر مكعبات الفراغ قلنا هيانا الاهلة لعيد الاكف لحناء هيانا هيانا عرسا لبلاد اخينا بين القمح والمستحيل الجرح بالملح وضانا وهبنا خميرة الروح لاجنة المطلق ونقضنا في الصباح غزل المساء اي حلم تبتدي منه المليحة \n",
      "\n",
      "Result using SentencePiece:\n",
      " المنسرح شنطف يا عوذة السموات والارض وشمس النهار والقمر\n",
      "\n"
     ]
    }
   ],
   "source": [
    "query = 'سيف'\n",
    "\n",
    "print(\"Result using Morphological:\")\n",
    "print(search(query, 'morph_embd', morph_embedder))\n",
    "print()\n",
    "\n",
    "print(\"Result using Word:\")\n",
    "print(search(query, 'word_embd', word_embedder))\n",
    "print()\n",
    "\n",
    "print(\"Result using SentencePiece:\")\n",
    "print(search(query, 'sp_embd', sp_embedder))\n",
    "print()"
   ]
  },
  {
   "cell_type": "code",
   "execution_count": 65,
   "id": "b27c593f",
   "metadata": {
    "scrolled": true
   },
   "outputs": [
    {
     "name": "stdout",
     "output_type": "stream",
     "text": [
      "Result using Morphological:\n",
      " رب اناس فرضوا فافترضوا فعرضوا فاعترضوا فقبضوافقبضوا فقبضوا فانقرضوا\n",
      "\n",
      "Result using Word:\n",
      " تاوبني الداء الذي انا حاذره كما اعتاد مكمونا من اليله عاءره وتاوب داءي من يعف مشاشه عن الجار لا يشقي به من يعاشره ومن يمنع الناب السمينة همها اذا الخف امسي وهو جدب مصادره واهتضم الخال العزيز وانتحي عليه اذا ضل الطريق مناقره ولا اشتكي العفي ولا يخدموني اذا هر دون الحم والفرث جازره ولا اصطفي لحم السنام ذخيرة اذا عز ريح المسك باليل قاتره ولا يامن الاعداء مني قذيعة ولا اشتم الحي الذي انا شاعره ولا اطرق الجارات باليل قابعا قبوع القرنبي اخطاته محافره اذا كنت متبوعا قضيت وان اكن انا التباع المولي فاني مياسره اءدي اليه غير معط ظلامة واحدو اليه حقه لا اغادره وماء تبدي اهله من مخافة فراخ الحمام الوراق في الصيف حاضره وردت بعيس قد طلحن وفتية اذا حرك الناقوس باليل زاجره قطعنا لهن الحوضفابتل شطره لشرب غشاش وهو ظمان ساءره وهن سمام واضع حكماته مخوية اعجازه وكراكره وظل كظل المضرحي رفعته يطير اذا هنت له الريح طاءره لبيض الوجوه ادلجوا كل ليلهم ويمهم حتي استرقت ظهاءره فاضحوا نشاوي بهالفلا بين ارحل واقواس نبع هز عنا شواجره اخذنا قليلا من كرانافوقعت علي مبرك شاس غليظ حزاوره رقادا به العجلان ذو الهم قانع ومن كان لا يسري به الهم حاقره فاصبح بالموماة رصعا سريحها فلانس باقيه ولجن نادره\n",
      "\n",
      "Result using SentencePiece:\n",
      "عيناك غابتا نخيل ساعة السحر او شرفتان راح يناي عنهما القمر عيناك حين تبسمان تورق الكروم وترقص الاضواء كالاقمار في نهر يرجه المجذاف وهنا ساعة السحر كانما تنبض في غوريهما النجوم وتغرقان في ضباب من اسي شفيف كالبحر سرح اليدين فوقه المساء دفء الشتاء فيه وارتعاشة الخريف والموت والميلاد والظلام والضياء فتستفيق ملء روحي رعشة البكاء ونشوة وحشية تعانق السماء كنشوة الطفل اذا خاف من القمر كان اقواس السحاب تشرب الغيوم وقطرة فقطرة تذوب في المطر وكركر الاطفال في عراءش الكروم ودغدغت صمت العصافير علي الشجر انشودة المطر مطر مطر مطر تثاءب المساء والغيوم ما تزال تسح ما تسح من دموعها الثقال كان طفلا بات يهذي قبل ان ينام بان امه – التي افاق منذ عام فلم يجدها ثم حين لج في السءال قالوا له \"بعد غد تعود \" لا بد ان تعود وان تهامس الرفاق انها هناك في جانب التل تنام نومة الحود تسف من ترابها وتشرب المطر كان صيادا حزينا يجمع الشباك ويلعن المياه والقدر وينثر الغناء حيث يافل القمر مطر مطر اتعلمين اي حزن يبعث المطر وكيف تنشج المزاريب اذا انهمر وكيف يشعر الوحيد فيه بالضياع بلا انتهاء – كالدم المراق كالجياع كالحب كالاطفال كالموتي – هو المطر ومقلتاك بي تطيفان مع المطر وعبر امواج الخليج تمسح البروق سواحل العراق بالنجوم والمحار كانها تهم بالشروق فيسحب اليل عليها من دم دثار اصيح بالخليج \" يا خليج يا واهب الءلء والمحار والردي \" فيرجع الصدي كانه النشيج \" يا خليج يا واهب المحار والردي \" اكاد اسمع العراق يذخر الرعود ويخزن البروق في السهول والجبال حتي اذا ما فض عنها ختمها الرجال لم ترك الرياح من ثمود في الواد من اثر اكاد اسمع النخيل يشرب المطر واسمع القري تءن والمهاجرين يصارعون بالمجاذيف وبالقلوع عواصف الخليج والرعود منشدين \" مطر مطر مطر وفي العراق جوع وينثر الغلال فيه موسم الحصاد لتشبع الغربان والجراد وتطحن الشوان والحجر رحي تدور في الحقول حولها بشر مطر مطر مطر وكم ذرفنا ليلة الرحيل من دموع ثم اعتلنا – خوف ان نلام – بالمطر مطر مطر ومنذ ان كنا صغارا كانت السماء تغيم في الشتاء ويهطل المطر وكل عام – حين يعشب الثري – نجوع ما مر عام والعراق ليس فيه جوع مطر مطر مطر في كل قطرة من المطر حمراء او صفراء من اجنة الزهر وكل دمعة من الجياع والعراة وكل قطرة تراق من دم العبيد فهي ابتسام في انتظار مبسم جديد او حلمة توردت علي فم الوليد في عالم الغد الفتي واهب الحياة مطر مطر مطر سيعشب العراق بالمطر \" اصيح بالخليج \" يا خليج يا واهب الءلء والمحار والردي \" فيرجع الصدي كانه النشيج \" يا خليج يا واهب المحار والردي \" وينثر الخليج من هباته الكثار علي الرمال رغوه الاجاج والمحار وما تبقي من عظام باءس غريق من المهاجرين ظل يشرب الردي من لجة الخليج والقرار وفي العراق الف افعي تشرب الرحيق من زهرة يربها الفرات بالندي واسمع الصدي يرن في الخليج \" مطر مطر مطر في كل قطرة من المطر حمراء او صفراء من اجنة الزهر وكل دمعة من الجياع والعراة وكل قطرة تراق من دم العبيد فهي ابتسام في انتظار مبسم جديد او حلمة توردت علي فم الوليد في عالم الغد الفتي واهب الحياة \" ويهطل المطر \n",
      "\n"
     ]
    }
   ],
   "source": [
    "query = 'سيوف الوغى'\n",
    "\n",
    "print(\"Result using Morphological:\")\n",
    "print(search(query, 'morph_embd', morph_embedder))\n",
    "print()\n",
    "\n",
    "print(\"Result using Word:\")\n",
    "print(search(query, 'word_embd', word_embedder))\n",
    "print()\n",
    "\n",
    "print(\"Result using SentencePiece:\")\n",
    "print(search(query, 'sp_embd', sp_embedder))\n",
    "print()"
   ]
  },
  {
   "cell_type": "markdown",
   "id": "540effe2",
   "metadata": {},
   "source": [
    "## Bert + Word2Vec Embedding"
   ]
  },
  {
   "cell_type": "code",
   "execution_count": 4,
   "id": "736f6045",
   "metadata": {},
   "outputs": [
    {
     "data": {
      "text/html": [
       "<div>\n",
       "<style scoped>\n",
       "    .dataframe tbody tr th:only-of-type {\n",
       "        vertical-align: middle;\n",
       "    }\n",
       "\n",
       "    .dataframe tbody tr th {\n",
       "        vertical-align: top;\n",
       "    }\n",
       "\n",
       "    .dataframe thead th {\n",
       "        text-align: right;\n",
       "    }\n",
       "</style>\n",
       "<table border=\"1\" class=\"dataframe\">\n",
       "  <thead>\n",
       "    <tr style=\"text-align: right;\">\n",
       "      <th></th>\n",
       "      <th>poem_text</th>\n",
       "      <th>bert_t</th>\n",
       "      <th>doc_vecs</th>\n",
       "    </tr>\n",
       "  </thead>\n",
       "  <tbody>\n",
       "    <tr>\n",
       "      <th>0</th>\n",
       "      <td>خليلي لا تستعجلا أن تزودا    وأن تجمعا شملي وت...</td>\n",
       "      <td>['خليل', 'تستعجل', 'تزود', 'تجمع', 'شملي', 'تن...</td>\n",
       "      <td>[-0.15892723  0.05683741  0.06184767 -0.065754...</td>\n",
       "    </tr>\n",
       "    <tr>\n",
       "      <th>1</th>\n",
       "      <td>فما لبث يوما بسابق مغنم    ولا سرعتي يوما بساب...</td>\n",
       "      <td>['لبث', 'يوم', 'سابق', 'مغنم', 'سرع', 'يوم', '...</td>\n",
       "      <td>[-0.17856994 -0.00725703 -0.0295063   0.071196...</td>\n",
       "    </tr>\n",
       "    <tr>\n",
       "      <th>2</th>\n",
       "      <td>وإن تنظراني اليوم أقض لبانة    وتستوجبا منا عل...</td>\n",
       "      <td>['تنظراني', 'يوم', 'أقض', 'بان', 'تستوجب', 'تح...</td>\n",
       "      <td>[ 0.13100246 -0.0729535   0.1925837  -0.047332...</td>\n",
       "    </tr>\n",
       "    <tr>\n",
       "      <th>3</th>\n",
       "      <td>لعمرك ما نفس بجد رشيدة    تؤامرني سرا لأصرم مرثدا</td>\n",
       "      <td>['عمر', 'جد', 'رشيد', 'تؤامرني', 'سر', 'أصرم',...</td>\n",
       "      <td>[ 0.01832668 -0.01884459 -0.00330791  0.020911...</td>\n",
       "    </tr>\n",
       "    <tr>\n",
       "      <th>4</th>\n",
       "      <td>وإن ظهرت منه قوارص جمة    وأفرع في لومي مرارا ...</td>\n",
       "      <td>['ظهر', 'قوارص', 'جم', 'أفرع', 'لومي', 'مرار',...</td>\n",
       "      <td>[ 0.17065507  0.06104766 -0.1744521   0.142696...</td>\n",
       "    </tr>\n",
       "  </tbody>\n",
       "</table>\n",
       "</div>"
      ],
      "text/plain": [
       "                                           poem_text  \\\n",
       "0  خليلي لا تستعجلا أن تزودا    وأن تجمعا شملي وت...   \n",
       "1  فما لبث يوما بسابق مغنم    ولا سرعتي يوما بساب...   \n",
       "2  وإن تنظراني اليوم أقض لبانة    وتستوجبا منا عل...   \n",
       "3  لعمرك ما نفس بجد رشيدة    تؤامرني سرا لأصرم مرثدا   \n",
       "4  وإن ظهرت منه قوارص جمة    وأفرع في لومي مرارا ...   \n",
       "\n",
       "                                              bert_t  \\\n",
       "0  ['خليل', 'تستعجل', 'تزود', 'تجمع', 'شملي', 'تن...   \n",
       "1  ['لبث', 'يوم', 'سابق', 'مغنم', 'سرع', 'يوم', '...   \n",
       "2  ['تنظراني', 'يوم', 'أقض', 'بان', 'تستوجب', 'تح...   \n",
       "3  ['عمر', 'جد', 'رشيد', 'تؤامرني', 'سر', 'أصرم',...   \n",
       "4  ['ظهر', 'قوارص', 'جم', 'أفرع', 'لومي', 'مرار',...   \n",
       "\n",
       "                                            doc_vecs  \n",
       "0  [-0.15892723  0.05683741  0.06184767 -0.065754...  \n",
       "1  [-0.17856994 -0.00725703 -0.0295063   0.071196...  \n",
       "2  [ 0.13100246 -0.0729535   0.1925837  -0.047332...  \n",
       "3  [ 0.01832668 -0.01884459 -0.00330791  0.020911...  \n",
       "4  [ 0.17065507  0.06104766 -0.1744521   0.142696...  "
      ]
     },
     "execution_count": 4,
     "metadata": {},
     "output_type": "execute_result"
    }
   ],
   "source": [
    "df_by_line = pd.read_csv('all_poems_bert_processed.csv')\n",
    "df_by_line.head()"
   ]
  },
  {
   "cell_type": "code",
   "execution_count": 5,
   "id": "e9f79ca8",
   "metadata": {
    "scrolled": true
   },
   "outputs": [
    {
     "name": "stderr",
     "output_type": "stream",
     "text": [
      "/home/ellzo/.local/lib/python3.11/site-packages/numpy/core/fromnumeric.py:3432: RuntimeWarning: Mean of empty slice.\n",
      "  return _methods._mean(a, axis=axis, dtype=dtype,\n",
      "/home/ellzo/.local/lib/python3.11/site-packages/numpy/core/_methods.py:190: RuntimeWarning: invalid value encountered in double_scalars\n",
      "  ret = ret.dtype.type(ret / rcount)\n"
     ]
    },
    {
     "data": {
      "text/plain": [
       "0          [-0.1121496, 0.11217325, 0.12640332, -0.045057...\n",
       "1          [-0.1121496, 0.11217325, 0.12640332, -0.045057...\n",
       "2          [-0.11214961, 0.112173244, 0.12640332, -0.0450...\n",
       "3          [-0.1121496, 0.11217325, 0.12640332, -0.045057...\n",
       "4          [-0.1121496, 0.11217325, 0.12640332, -0.045057...\n",
       "                                 ...                        \n",
       "1831722    [-0.11214961, 0.112173244, 0.12640332, -0.0450...\n",
       "1831723    [-0.1121496, 0.11217325, 0.12640332, -0.045057...\n",
       "1831724    [-0.1121496, 0.11217325, 0.12640332, -0.045057...\n",
       "1831725    [-0.1121496, 0.11217325, 0.12640332, -0.045057...\n",
       "1831726    [-0.11214961, 0.112173244, 0.12640332, -0.0450...\n",
       "Name: bert_embd, Length: 1831727, dtype: object"
      ]
     },
     "execution_count": 5,
     "metadata": {},
     "output_type": "execute_result"
    }
   ],
   "source": [
    "def bert_embed(tokens_poem):\n",
    "    clear_poem = [token for token in tokens_poem if not (stp.is_stop(token) or ('+' in token))]\n",
    "    embedded_tokens = np.array([bert_embedder.wv.__getitem__(token) for token in clear_poem if token in bert_embedder.wv.key_to_index])\n",
    "    return np.mean(embedded_tokens, axis=0)\n",
    "\n",
    "df_by_line['bert_embd'] = df_by_line['bert_t'].apply(bert_embed)\n",
    "df_by_line['bert_embd']"
   ]
  },
  {
   "cell_type": "markdown",
   "id": "52cee319",
   "metadata": {},
   "source": [
    "## Bert + Doc2Vec"
   ]
  },
  {
   "cell_type": "code",
   "execution_count": 6,
   "id": "fe1a43b4",
   "metadata": {},
   "outputs": [
    {
     "data": {
      "text/plain": [
       "[-0.15892723,\n",
       " 0.05683741,\n",
       " 0.06184767,\n",
       " -0.06575432,\n",
       " 0.08093528,\n",
       " -0.0816489,\n",
       " -0.1633275,\n",
       " -0.06563673,\n",
       " -0.10536509,\n",
       " -0.02272989,\n",
       " -0.03389442,\n",
       " -0.07554101,\n",
       " 0.25467494,\n",
       " 0.1010648,\n",
       " 0.05529438,\n",
       " -0.12479908,\n",
       " 0.07520141,\n",
       " 0.18715027,\n",
       " -0.01095252,\n",
       " 0.08666662]"
      ]
     },
     "execution_count": 6,
     "metadata": {},
     "output_type": "execute_result"
    }
   ],
   "source": [
    "def doc_to_vecs(string_vec):\n",
    "    result_list = string_vec.strip(\"[]\").split()\n",
    "    return [float(item) for item in result_list]\n",
    "\n",
    "df_by_line['doc_vecs'] = df_by_line['doc_vecs'].apply(doc_to_vecs)\n",
    "df_by_line['doc_vecs'][0]"
   ]
  },
  {
   "cell_type": "markdown",
   "id": "264f9026",
   "metadata": {},
   "source": [
    "## Search - Doc2Vec"
   ]
  },
  {
   "cell_type": "code",
   "execution_count": 7,
   "id": "c5f54dcb",
   "metadata": {},
   "outputs": [],
   "source": [
    "def query_to_docvec(query):\n",
    "    token_query = query.split()\n",
    "    return bert_doc_embedder.infer_vector(token_query)\n",
    "\n",
    "def calc_similarity(doc_vector, query_vector):\n",
    "    return cosine_similarity(np.array(doc_vector).reshape(1, -1), np.array(query_vector).reshape(1, -1))[0, 0]\n",
    "\n",
    "def search_doc2vec(query, N=3):\n",
    "    query_vec = query_to_docvec(query)\n",
    "    similarities_series = df_by_line['doc_vecs'].apply(lambda doc_vec: calc_similarity(doc_vec, query_vec))\n",
    "    max_indices = np.argpartition(similarities_series.values.tolist(), -N)[-N:]\n",
    "    \n",
    "    return df_by_line.loc[max_indices, 'poem_text']"
   ]
  },
  {
   "cell_type": "code",
   "execution_count": 8,
   "id": "d6c88169",
   "metadata": {},
   "outputs": [
    {
     "name": "stdout",
     "output_type": "stream",
     "text": [
      "1706167       وصل أكمل صلاة وسلام    على محمد شفيع ذي الأنام\n",
      "919901     ما أنت يا شيخنا الكبير كمن    أضحى كبير الجمال...\n",
      "121460       حبذا حصنها الحصين لقد    كان جمالا لكل حصن حصين\n",
      "Name: poem_text, dtype: object\n"
     ]
    }
   ],
   "source": [
    "query = 'جمال القمر'\n",
    "print(search_doc2vec(query))"
   ]
  },
  {
   "cell_type": "code",
   "execution_count": 18,
   "id": "b177b9a3",
   "metadata": {},
   "outputs": [
    {
     "name": "stdout",
     "output_type": "stream",
     "text": [
      "124661     وحتى اعترى البهمى من الصيف نافض    كما نفضت خي...\n",
      "1819486     كيف جو العبقريات وقد    شالت الأطواد فيه كالهباء\n",
      "358064            كأن على الجو فضفاضة    مساميرها فضة أو ذهب\n",
      "Name: poem_text, dtype: object\n"
     ]
    }
   ],
   "source": [
    "query = 'ثلوج الجبال'\n",
    "print(search_doc2vec(query))"
   ]
  },
  {
   "cell_type": "code",
   "execution_count": 10,
   "id": "ecd5206d",
   "metadata": {},
   "outputs": [
    {
     "name": "stdout",
     "output_type": "stream",
     "text": [
      "1807944    ولها ديار غير شرقي الحمى    شحطت وشطت عن لقاء ...\n",
      "968554     طبعتم سيوفا لم يلق لنجادها    سوى منكب المجد ا...\n",
      "770164       فسطاك موت للأعادي قاتل    ونداك للعافين غيث صيب\n",
      "Name: poem_text, dtype: object\n"
     ]
    }
   ],
   "source": [
    "query = 'قتال الوغى'\n",
    "print(search_doc2vec(query))"
   ]
  },
  {
   "cell_type": "code",
   "execution_count": 11,
   "id": "d6297d46",
   "metadata": {},
   "outputs": [
    {
     "name": "stdout",
     "output_type": "stream",
     "text": [
      "133654                  يصبح للناس منه وجه    كأنه وجه مردقش\n",
      "1047478         ولامه كعينه المعتله    جزمهما بحذف حرف العله\n",
      "1593061    وهو أيضا ثلثاه ربع لثلث    منه فاعجب والثلث لل...\n",
      "Name: poem_text, dtype: object\n"
     ]
    }
   ],
   "source": [
    "query = 'صوم رمضان'\n",
    "print(search_doc2vec(query))"
   ]
  },
  {
   "cell_type": "code",
   "execution_count": 12,
   "id": "c468992f",
   "metadata": {},
   "outputs": [
    {
     "name": "stdout",
     "output_type": "stream",
     "text": [
      "247937     أيصلد بعد طول القدح زندي    ولم يصلد لمن رجاك زند\n",
      "694601     تلك اليراعة من تلك اليراعة إن    تقصر السمر عن...\n",
      "1558570                          وسأسائلكما    عن طول مدتكما\n",
      "Name: poem_text, dtype: object\n"
     ]
    }
   ],
   "source": [
    "query = 'طول السفر'\n",
    "print(search_doc2vec(query))"
   ]
  },
  {
   "cell_type": "code",
   "execution_count": 11,
   "id": "71c82f01",
   "metadata": {},
   "outputs": [
    {
     "name": "stdout",
     "output_type": "stream",
     "text": [
      "Result using Bert:\n",
      "1407822    إني أحبك حبا ليس يبلغه    فهمي ولا ينتهي وصفي ...\n",
      "1407824    إني أحبك حبا ليس يبلغه    فهمي ولا ينتهي وصفي ...\n",
      "1374886    وبه اشتقت للعذيب وغيري    ذو اشتياق إلى النقا ...\n",
      "Name: poem_text, dtype: object\n",
      "\n"
     ]
    }
   ],
   "source": [
    "query = 'اشتياق الأهل'\n",
    "\n",
    "print(\"Result using Bert:\")\n",
    "print(search_doc2vec(query))\n",
    "print()"
   ]
  },
  {
   "cell_type": "code",
   "execution_count": 12,
   "id": "42131571",
   "metadata": {},
   "outputs": [
    {
     "name": "stdout",
     "output_type": "stream",
     "text": [
      "Result using Bert:\n",
      "114182    إني وإن قال أقوام مديحهم    فأحسنوه وما حابوا ...\n",
      "683516                   من لست أرضى مدحه    فكيف أرضى هجوه\n",
      "254856    أما لئن كثرت في مدحكم بدعي    لتكثرن غدا في شت...\n",
      "Name: poem_text, dtype: object\n",
      "\n"
     ]
    }
   ],
   "source": [
    "query = 'هجو السلطان'\n",
    "\n",
    "print(\"Result using Bert:\")\n",
    "print(search_doc2vec(query))\n",
    "print()"
   ]
  },
  {
   "cell_type": "code",
   "execution_count": 13,
   "id": "5bbac876",
   "metadata": {},
   "outputs": [
    {
     "name": "stdout",
     "output_type": "stream",
     "text": [
      "Result using Bert:\n",
      "1319236    ما كنت أحسب أن أيام الصبا    تمضي ولا أن الزما...\n",
      "332900     فيا فؤادي كم وجد وكم حزن    ويا زماني ذا جور و...\n",
      "850785     أضحى به الجور مطوي البساط فلم    ينشر ومنه بسا...\n",
      "Name: poem_text, dtype: object\n",
      "\n"
     ]
    }
   ],
   "source": [
    "query = 'جور الخليفة'\n",
    "\n",
    "print(\"Result using Bert:\")\n",
    "print(search_doc2vec(query))\n",
    "print()"
   ]
  },
  {
   "cell_type": "code",
   "execution_count": 31,
   "id": "f2e597f9",
   "metadata": {},
   "outputs": [],
   "source": [
    "def query_to_docvec(query):\n",
    "    token_query = query.split()\n",
    "    return bert_doc_embedder.infer_vector(token_query)\n",
    "\n",
    "def calc_similarity(doc_vector, query_vector):\n",
    "    return cosine_similarity(doc_vector, query_vector)[0, 0]\n",
    "\n",
    "def search_doc2vec_3(query, N=3):\n",
    "    query_vec = np.array(query_to_docvec(query)).reshape(1, -1)\n",
    "    similarities_series = df_by_line['doc_vecs'].apply(lambda doc_vec: calc_similarity(np.array(doc_vec).reshape(1, -1), query_vec))\n",
    "    similarities_values = similarities_series.values.tolist()\n",
    "    \n",
    "    tri_way_similarity = [(similarities_values[i] + similarities_values[i-1] + similarities_values[i-2])/3 for i in range(len(similarities_values))]    \n",
    "    max_indices = np.argpartition(tri_way_similarity, -N)[-N:]\n",
    "    \n",
    "    return df_by_line.loc[max_indices, 'poem_text']"
   ]
  },
  {
   "cell_type": "code",
   "execution_count": 33,
   "id": "89663e00",
   "metadata": {},
   "outputs": [
    {
     "name": "stdout",
     "output_type": "stream",
     "text": [
      "Result using Bert:\n",
      "1584718    بيت الرسالة بيتهم    جبريل فيه كان خادم\n",
      "834916             وقيامي وقعودي    وسجودي والركوع\n",
      "1294509                  ومني معبود ومني عابدي    \n",
      "Name: poem_text, dtype: object\n",
      "\n"
     ]
    }
   ],
   "source": [
    "query = 'صوم رمضان'\n",
    "\n",
    "print(\"Result using Bert:\")\n",
    "print(search_doc2vec_3(query))\n",
    "print()"
   ]
  },
  {
   "cell_type": "code",
   "execution_count": 34,
   "id": "d0423506",
   "metadata": {},
   "outputs": [
    {
     "name": "stdout",
     "output_type": "stream",
     "text": [
      "Result using Bert:\n",
      "75018         كم ضيغم عفرته بعرينه    ولكم فتكت بأفتك الفتاك\n",
      "1297689                            إذا تردى وشيه المصورا    \n",
      "482517     كانت له الأرض أياما فصار لها    دهرا طويل اللي...\n",
      "Name: poem_text, dtype: object\n",
      "\n"
     ]
    }
   ],
   "source": [
    "query = 'ثلوج الجبال'\n",
    "\n",
    "print(\"Result using Bert:\")\n",
    "print(search_doc2vec_3(query))\n",
    "print()"
   ]
  },
  {
   "cell_type": "code",
   "execution_count": 35,
   "id": "09864c1a",
   "metadata": {
    "scrolled": true
   },
   "outputs": [
    {
     "name": "stdout",
     "output_type": "stream",
     "text": [
      "Result using Bert:\n",
      "1016097           على ذاته الرحمن صلى وسلما    \n",
      "491121     وفي منامي انتباهي    وبانتباهي منامي\n",
      "1020850          فكان في سؤاله    جوابه عما سأل\n",
      "Name: poem_text, dtype: object\n",
      "\n"
     ]
    }
   ],
   "source": [
    "query = 'شجاعة في أرض القتال'\n",
    "\n",
    "print(\"Result using Bert:\")\n",
    "print(search_doc2vec_3(query))\n",
    "print()"
   ]
  },
  {
   "cell_type": "markdown",
   "id": "3f5148df",
   "metadata": {},
   "source": [
    "## Search - Word2Vec"
   ]
  },
  {
   "cell_type": "code",
   "execution_count": 13,
   "id": "77bd4e85",
   "metadata": {},
   "outputs": [],
   "source": [
    "def query_to_vec_bert(query):\n",
    "    token_query = query.split()\n",
    "    embedded_tokens = np.array([bert_embedder.wv.__getitem__(token) for token in token_query if token in bert_embedder.wv.key_to_index])\n",
    "    if len(embedded_tokens > 0):\n",
    "        return np.mean(embedded_tokens, axis=0)\n",
    "    return [0 for i in range(len(['bert_embd'].dropna()[0]))]\n",
    "\n",
    "def search_bert(query, N=3):\n",
    "    embedding_arrays = np.array(df_by_line['bert_embd'].dropna().tolist())\n",
    "    \n",
    "    embed_query = query_to_vec_bert(query)\n",
    "    \n",
    "    similarities = cosine_similarity(embedding_arrays, np.array(embed_query).reshape(1, -1))\n",
    "    \n",
    "    max_indices = np.argpartition(similarities.flatten(), -N)[-N:]\n",
    "    \n",
    "    return df_by_line.loc[max_indices, 'poem_text']"
   ]
  },
  {
   "cell_type": "code",
   "execution_count": 14,
   "id": "51d2d82c",
   "metadata": {},
   "outputs": [
    {
     "name": "stdout",
     "output_type": "stream",
     "text": [
      "1788670    لا تلم الكافر في هذا الزمن الكافر    فالجوع اب...\n",
      "1812380    حاشا كمالك من نقص تقدمه    والبدر يعرف بعد الن...\n",
      "1788656                      يسيل على الغربات كعري الصبح    \n",
      "Name: poem_text, dtype: object\n"
     ]
    }
   ],
   "source": [
    "query = 'صوم رمضان'\n",
    "print(search_bert(query))"
   ]
  },
  {
   "cell_type": "code",
   "execution_count": 15,
   "id": "eabb3ec8",
   "metadata": {},
   "outputs": [
    {
     "name": "stdout",
     "output_type": "stream",
     "text": [
      "862073                              أينما مشيت    أينما مشيت\n",
      "1788524    له وداد سقيم ما يصح لنا    كأنما طرفه أعداه با...\n",
      "1812419    ماكانت الدنيا تضيق بطالب    لو أن واسع صدرها م...\n",
      "Name: poem_text, dtype: object\n"
     ]
    }
   ],
   "source": [
    "query = 'ثلوج الجبال'\n",
    "print(search_bert(query))"
   ]
  },
  {
   "cell_type": "code",
   "execution_count": 16,
   "id": "15fd65eb",
   "metadata": {},
   "outputs": [
    {
     "name": "stdout",
     "output_type": "stream",
     "text": [
      "1812419    ماكانت الدنيا تضيق بطالب    لو أن واسع صدرها م...\n",
      "1785946                              وبعض الورود الحزينة    \n",
      "1786685                      إن أتى الصبح فهي ناري ونوري    \n",
      "Name: poem_text, dtype: object\n"
     ]
    }
   ],
   "source": [
    "query = 'شجاعة في أرض القتال'\n",
    "print(search_bert(query))"
   ]
  },
  {
   "cell_type": "code",
   "execution_count": 17,
   "id": "4ef36871",
   "metadata": {},
   "outputs": [
    {
     "name": "stdout",
     "output_type": "stream",
     "text": [
      "1773885    قد حررت فيه مباحث من مضى    وكلامهم أضحى بغير ...\n",
      "1828119    فدع هملان الدمع في رزئه وما    عليه عيون المكر...\n",
      "1812405    وأفاض منها للبرية أنعما    نطق الزمان بشكرها و...\n",
      "Name: poem_text, dtype: object\n"
     ]
    }
   ],
   "source": [
    "query = 'طول السفر'\n",
    "print(search_bert(query))"
   ]
  }
 ],
 "metadata": {
  "kernelspec": {
   "display_name": "Python 3 (ipykernel)",
   "language": "python",
   "name": "python3"
  },
  "language_info": {
   "codemirror_mode": {
    "name": "ipython",
    "version": 3
   },
   "file_extension": ".py",
   "mimetype": "text/x-python",
   "name": "python",
   "nbconvert_exporter": "python",
   "pygments_lexer": "ipython3",
   "version": "3.11.9"
  }
 },
 "nbformat": 4,
 "nbformat_minor": 5
}

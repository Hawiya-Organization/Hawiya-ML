{
 "cells": [
  {
   "cell_type": "markdown",
   "id": "31e0e971",
   "metadata": {},
   "source": [
    "## Exploration"
   ]
  },
  {
   "cell_type": "code",
   "execution_count": 1,
   "id": "048522a0",
   "metadata": {},
   "outputs": [
    {
     "name": "stderr",
     "output_type": "stream",
     "text": [
      "/home/ellzo/.local/lib/python3.11/site-packages/matplotlib/projections/__init__.py:63: UserWarning: Unable to import Axes3D. This may be due to multiple versions of Matplotlib being installed (e.g. as a system package and as a pip package). As a result, the 3D projection is not available.\n",
      "  warnings.warn(\"Unable to import Axes3D. This may be due to multiple versions of \"\n"
     ]
    }
   ],
   "source": [
    "import pandas as pd\n",
    "import numpy as np\n",
    "import matplotlib.pyplot as plt\n",
    "import seaborn as sns\n",
    "\n",
    "from itertools import islice\n",
    "\n",
    "import tkseem as tk\n",
    "import gensim"
   ]
  },
  {
   "cell_type": "code",
   "execution_count": 2,
   "id": "3e972a30",
   "metadata": {
    "scrolled": true
   },
   "outputs": [
    {
     "data": {
      "text/html": [
       "<div>\n",
       "<style scoped>\n",
       "    .dataframe tbody tr th:only-of-type {\n",
       "        vertical-align: middle;\n",
       "    }\n",
       "\n",
       "    .dataframe tbody tr th {\n",
       "        vertical-align: top;\n",
       "    }\n",
       "\n",
       "    .dataframe thead th {\n",
       "        text-align: right;\n",
       "    }\n",
       "</style>\n",
       "<table border=\"1\" class=\"dataframe\">\n",
       "  <thead>\n",
       "    <tr style=\"text-align: right;\">\n",
       "      <th></th>\n",
       "      <th>poem_id</th>\n",
       "      <th>poem_link</th>\n",
       "      <th>poem_style</th>\n",
       "      <th>poem_text</th>\n",
       "      <th>poem_title</th>\n",
       "      <th>poet_cat</th>\n",
       "      <th>poet_id</th>\n",
       "      <th>poet_link</th>\n",
       "      <th>poet_name</th>\n",
       "    </tr>\n",
       "  </thead>\n",
       "  <tbody>\n",
       "    <tr>\n",
       "      <th>0</th>\n",
       "      <td>21</td>\n",
       "      <td>http://www.adab.com/modules.php?name=Sh3er&amp;doW...</td>\n",
       "      <td>فصحى</td>\n",
       "      <td>عيناك غابتا نخيل ساعة السحر او شرفتان راح يناي...</td>\n",
       "      <td>أنشودة المطر</td>\n",
       "      <td>العراق</td>\n",
       "      <td>2</td>\n",
       "      <td>http://www.adab.com/modules.php?name=Sh3er&amp;doW...</td>\n",
       "      <td>بدر شاكر السياب</td>\n",
       "    </tr>\n",
       "    <tr>\n",
       "      <th>1</th>\n",
       "      <td>65546</td>\n",
       "      <td>http://www.adab.com/modules.php?name=Sh3er&amp;doW...</td>\n",
       "      <td>فصحى</td>\n",
       "      <td>انا لا ازال و في يدي قدحي ياليل اين تفرق الشر...</td>\n",
       "      <td>أقداح و أحلام</td>\n",
       "      <td>العراق</td>\n",
       "      <td>2</td>\n",
       "      <td>http://www.adab.com/modules.php?name=Sh3er&amp;doW...</td>\n",
       "      <td>بدر شاكر السياب</td>\n",
       "    </tr>\n",
       "    <tr>\n",
       "      <th>2</th>\n",
       "      <td>65561</td>\n",
       "      <td>http://www.adab.com/modules.php?name=Sh3er&amp;doW...</td>\n",
       "      <td>فصحى</td>\n",
       "      <td>علي مقلتيك ارتشفت النجوم وعانقت امالي الايبة ...</td>\n",
       "      <td>هوى واحد !</td>\n",
       "      <td>العراق</td>\n",
       "      <td>2</td>\n",
       "      <td>http://www.adab.com/modules.php?name=Sh3er&amp;doW...</td>\n",
       "      <td>بدر شاكر السياب</td>\n",
       "    </tr>\n",
       "    <tr>\n",
       "      <th>3</th>\n",
       "      <td>65554</td>\n",
       "      <td>http://www.adab.com/modules.php?name=Sh3er&amp;doW...</td>\n",
       "      <td>فصحى</td>\n",
       "      <td>اساطير من حشرجات الزمان نسيج اليد البالية رواه...</td>\n",
       "      <td>أساطير</td>\n",
       "      <td>العراق</td>\n",
       "      <td>2</td>\n",
       "      <td>http://www.adab.com/modules.php?name=Sh3er&amp;doW...</td>\n",
       "      <td>بدر شاكر السياب</td>\n",
       "    </tr>\n",
       "    <tr>\n",
       "      <th>4</th>\n",
       "      <td>65550</td>\n",
       "      <td>http://www.adab.com/modules.php?name=Sh3er&amp;doW...</td>\n",
       "      <td>فصحى</td>\n",
       "      <td>والتف حولك ساعداي ومال جيدك في اشتهاء كالزهرة ...</td>\n",
       "      <td>اللقاء الأخير</td>\n",
       "      <td>العراق</td>\n",
       "      <td>2</td>\n",
       "      <td>http://www.adab.com/modules.php?name=Sh3er&amp;doW...</td>\n",
       "      <td>بدر شاكر السياب</td>\n",
       "    </tr>\n",
       "  </tbody>\n",
       "</table>\n",
       "</div>"
      ],
      "text/plain": [
       "   poem_id                                          poem_link poem_style  \\\n",
       "0       21  http://www.adab.com/modules.php?name=Sh3er&doW...       فصحى   \n",
       "1    65546  http://www.adab.com/modules.php?name=Sh3er&doW...       فصحى   \n",
       "2    65561  http://www.adab.com/modules.php?name=Sh3er&doW...       فصحى   \n",
       "3    65554  http://www.adab.com/modules.php?name=Sh3er&doW...       فصحى   \n",
       "4    65550  http://www.adab.com/modules.php?name=Sh3er&doW...       فصحى   \n",
       "\n",
       "                                           poem_text      poem_title poet_cat  \\\n",
       "0  عيناك غابتا نخيل ساعة السحر او شرفتان راح يناي...   أنشودة المطر    العراق   \n",
       "1   انا لا ازال و في يدي قدحي ياليل اين تفرق الشر...  أقداح و أحلام    العراق   \n",
       "2   علي مقلتيك ارتشفت النجوم وعانقت امالي الايبة ...     هوى واحد !    العراق   \n",
       "3  اساطير من حشرجات الزمان نسيج اليد البالية رواه...         أساطير    العراق   \n",
       "4  والتف حولك ساعداي ومال جيدك في اشتهاء كالزهرة ...  اللقاء الأخير    العراق   \n",
       "\n",
       "   poet_id                                          poet_link        poet_name  \n",
       "0        2  http://www.adab.com/modules.php?name=Sh3er&doW...  بدر شاكر السياب  \n",
       "1        2  http://www.adab.com/modules.php?name=Sh3er&doW...  بدر شاكر السياب  \n",
       "2        2  http://www.adab.com/modules.php?name=Sh3er&doW...  بدر شاكر السياب  \n",
       "3        2  http://www.adab.com/modules.php?name=Sh3er&doW...  بدر شاكر السياب  \n",
       "4        2  http://www.adab.com/modules.php?name=Sh3er&doW...  بدر شاكر السياب  "
      ]
     },
     "execution_count": 2,
     "metadata": {},
     "output_type": "execute_result"
    }
   ],
   "source": [
    "df_poems = pd.read_csv('all_poems.csv')\n",
    "df_poems.head()"
   ]
  },
  {
   "cell_type": "code",
   "execution_count": 3,
   "id": "44da453a",
   "metadata": {},
   "outputs": [
    {
     "data": {
      "text/plain": [
       "['إني', 'امرؤ', 'من', 'خير', 'عبس', 'منصبا']"
      ]
     },
     "execution_count": 3,
     "metadata": {},
     "output_type": "execute_result"
    }
   ],
   "source": [
    "gensim.utils.simple_preprocess(\"إني امرؤ من خير عبس منصبا\")"
   ]
  },
  {
   "cell_type": "code",
   "execution_count": 4,
   "id": "a3d3a454",
   "metadata": {},
   "outputs": [
    {
     "data": {
      "text/html": [
       "<div>\n",
       "<style scoped>\n",
       "    .dataframe tbody tr th:only-of-type {\n",
       "        vertical-align: middle;\n",
       "    }\n",
       "\n",
       "    .dataframe tbody tr th {\n",
       "        vertical-align: top;\n",
       "    }\n",
       "\n",
       "    .dataframe thead th {\n",
       "        text-align: right;\n",
       "    }\n",
       "</style>\n",
       "<table border=\"1\" class=\"dataframe\">\n",
       "  <thead>\n",
       "    <tr style=\"text-align: right;\">\n",
       "      <th></th>\n",
       "      <th>poem_text</th>\n",
       "    </tr>\n",
       "  </thead>\n",
       "  <tbody>\n",
       "    <tr>\n",
       "      <th>19455</th>\n",
       "      <td>اما ابن يعقوب فاندي الوري واعلم القوم ولا امت...</td>\n",
       "    </tr>\n",
       "    <tr>\n",
       "      <th>10854</th>\n",
       "      <td>مالكثيب الحمي الي عقده مابال جرعاءه الي جرده ...</td>\n",
       "    </tr>\n",
       "    <tr>\n",
       "      <th>5770</th>\n",
       "      <td>اصاح اذا ما اتاك القضاء لم يقك الدرع والجوشن ...</td>\n",
       "    </tr>\n",
       "    <tr>\n",
       "      <th>31463</th>\n",
       "      <td>عبث النسيم بقده فتاودا وسري الحياء بخده فتورد...</td>\n",
       "    </tr>\n",
       "    <tr>\n",
       "      <th>51069</th>\n",
       "      <td>رمضان يا شهر الضياء الحر من اسر الظلام اطلق ب...</td>\n",
       "    </tr>\n",
       "  </tbody>\n",
       "</table>\n",
       "</div>"
      ],
      "text/plain": [
       "                                               poem_text\n",
       "19455   اما ابن يعقوب فاندي الوري واعلم القوم ولا امت...\n",
       "10854   مالكثيب الحمي الي عقده مابال جرعاءه الي جرده ...\n",
       "5770    اصاح اذا ما اتاك القضاء لم يقك الدرع والجوشن ...\n",
       "31463   عبث النسيم بقده فتاودا وسري الحياء بخده فتورد...\n",
       "51069   رمضان يا شهر الضياء الحر من اسر الظلام اطلق ب..."
      ]
     },
     "execution_count": 4,
     "metadata": {},
     "output_type": "execute_result"
    }
   ],
   "source": [
    "indices = np.random.choice(df_poems.shape[0], size=1000, replace=False)\n",
    "\n",
    "df_poems_sample = df_poems.loc[indices, ['poem_text']]\n",
    "df_poems_sample.head()"
   ]
  },
  {
   "cell_type": "code",
   "execution_count": 5,
   "id": "989fb34d",
   "metadata": {},
   "outputs": [],
   "source": [
    "import csv\n",
    "\n",
    "df_poems_sample.to_csv('data.txt', sep=' ', index=False, header=False)"
   ]
  },
  {
   "cell_type": "code",
   "execution_count": 6,
   "id": "e5ded4b3",
   "metadata": {},
   "outputs": [
    {
     "name": "stdout",
     "output_type": "stream",
     "text": [
      "Training MorphologicalTokenizer ...\n"
     ]
    }
   ],
   "source": [
    "tokenizer = tk.MorphologicalTokenizer(vocab_size=2000000)\n",
    "\n",
    "tokenizer.train()"
   ]
  },
  {
   "cell_type": "code",
   "execution_count": 7,
   "id": "9ff026fc",
   "metadata": {},
   "outputs": [
    {
     "data": {
      "text/plain": [
       "['بان',\n",
       " 'ال',\n",
       " '##خليط',\n",
       " 'وح',\n",
       " '##لت',\n",
       " '<UNK>',\n",
       " '<UNK>',\n",
       " 'في',\n",
       " 'سير',\n",
       " '##ها',\n",
       " 'ال',\n",
       " '##أيام']"
      ]
     },
     "execution_count": 7,
     "metadata": {},
     "output_type": "execute_result"
    }
   ],
   "source": [
    "tokenizer.tokenize('بان الخليط وحلت الأسقام، وتثاقلت في سيرها الأيام')"
   ]
  },
  {
   "cell_type": "code",
   "execution_count": 8,
   "id": "2d8a641a",
   "metadata": {},
   "outputs": [
    {
     "data": {
      "text/plain": [
       "['بان',\n",
       " 'ال',\n",
       " '##خليط',\n",
       " 'و',\n",
       " 'حلت',\n",
       " '<UNK>',\n",
       " 'و',\n",
       " 'تثاقلت',\n",
       " 'في',\n",
       " 'سير',\n",
       " '##ها',\n",
       " 'ال',\n",
       " '##أيام']"
      ]
     },
     "execution_count": 8,
     "metadata": {},
     "output_type": "execute_result"
    }
   ],
   "source": [
    "tokenizer.tokenize('بان الخليط و حلت الأسقام و تثاقلت في سيرها الأيام')"
   ]
  },
  {
   "cell_type": "code",
   "execution_count": 9,
   "id": "30c543d1",
   "metadata": {},
   "outputs": [
    {
     "data": {
      "text/plain": [
       "['أثني',\n",
       " '<UNK>',\n",
       " 'ب',\n",
       " '##ما',\n",
       " '<UNK>',\n",
       " 'فإنن',\n",
       " '##ي',\n",
       " '<UNK>',\n",
       " '<UNK>',\n",
       " 'مخالطتي',\n",
       " 'إذا',\n",
       " 'لم',\n",
       " '<UNK>']"
      ]
     },
     "execution_count": 9,
     "metadata": {},
     "output_type": "execute_result"
    }
   ],
   "source": [
    "tokenizer.tokenize('أثني علَيّ بما علمتِ فإنني ... سمحٌ مخالطتي إذا لم أُظلَم')"
   ]
  },
  {
   "cell_type": "code",
   "execution_count": 10,
   "id": "3d2dfbc1",
   "metadata": {},
   "outputs": [
    {
     "data": {
      "text/plain": [
       "['أثني',\n",
       " 'علي',\n",
       " 'ب',\n",
       " '##ما',\n",
       " 'علمت',\n",
       " 'فإنن',\n",
       " '##ي',\n",
       " 'سمح',\n",
       " 'مخالطتي',\n",
       " 'إذا',\n",
       " 'لم',\n",
       " 'أظلم']"
      ]
     },
     "execution_count": 10,
     "metadata": {},
     "output_type": "execute_result"
    }
   ],
   "source": [
    "tokenizer.tokenize('أثني علي بما علمت فإنني سمح مخالطتي إذا لم أظلم')"
   ]
  },
  {
   "cell_type": "markdown",
   "id": "be054dbe",
   "metadata": {},
   "source": [
    "## MorphologicalTokenizer with Sample"
   ]
  },
  {
   "cell_type": "code",
   "execution_count": 11,
   "id": "8f3cf610",
   "metadata": {},
   "outputs": [],
   "source": [
    "def window(words_seq, n=2):\n",
    "    \"Returns a sliding window (of width n) over data from the iterable\"\n",
    "    \"   s -> (s0,s1,...s[n-1]), (s1,s2,...,sn), ...                   \"\n",
    "    it = iter(words_seq)\n",
    "    result = tuple(islice(it, n))\n",
    "    if len(result) == n:\n",
    "        yield result\n",
    "    for elem in it:\n",
    "        result = result[1:] + (elem,)\n",
    "        yield result\n",
    "\n",
    "def document_features(document, corpus_features):\n",
    "    document_words = set(document)\n",
    "    features = {}\n",
    "    for word in corpus_features:\n",
    "        features['contains({})'.format(word)] = (word in document_words)\n",
    "    return features"
   ]
  },
  {
   "cell_type": "code",
   "execution_count": 12,
   "id": "b8abad0f",
   "metadata": {},
   "outputs": [],
   "source": [
    "import re\n",
    "\n",
    "arabic_diacritics = re.compile(\"\"\" ّ    | # Tashdid\n",
    "                             َ    | # Fatha\n",
    "                             ً    | # Tanwin Fath\n",
    "                             ُ    | # Damma\n",
    "                             ٌ    | # Tanwin Damm\n",
    "                             ِ    | # Kasra\n",
    "                             ٍ    | # Tanwin Kasr\n",
    "                             ْ    | # Sukun\n",
    "                             ـ     # Tatwil/Kashida\n",
    "                         \"\"\", re.VERBOSE)\n",
    "\n",
    "def remove_diacritics(text):\n",
    "    text = re.sub(arabic_diacritics, '', str(text))\n",
    "    return text\n",
    "\n",
    "\n",
    "\n",
    "def remove_repeating_char(text):\n",
    "    # return re.sub(r'(.)\\1+', r'\\1', text)     # keep only 1 repeat\n",
    "    return re.sub(r'(.)\\1+', r'\\1\\1', text)  # keep 2 repeat\n",
    "\n",
    "def process_text(text):\n",
    "    clean_text = remove_diacritics(text)\n",
    "    clean_text = remove_repeating_char(clean_text)\n",
    "    return tokenizer.tokenize(clean_text)"
   ]
  },
  {
   "cell_type": "code",
   "execution_count": 13,
   "id": "7b1d0f00",
   "metadata": {},
   "outputs": [
    {
     "data": {
      "text/html": [
       "<div>\n",
       "<style scoped>\n",
       "    .dataframe tbody tr th:only-of-type {\n",
       "        vertical-align: middle;\n",
       "    }\n",
       "\n",
       "    .dataframe tbody tr th {\n",
       "        vertical-align: top;\n",
       "    }\n",
       "\n",
       "    .dataframe thead th {\n",
       "        text-align: right;\n",
       "    }\n",
       "</style>\n",
       "<table border=\"1\" class=\"dataframe\">\n",
       "  <thead>\n",
       "    <tr style=\"text-align: right;\">\n",
       "      <th></th>\n",
       "      <th>poem_text</th>\n",
       "      <th>tokenized_poems</th>\n",
       "    </tr>\n",
       "  </thead>\n",
       "  <tbody>\n",
       "    <tr>\n",
       "      <th>19455</th>\n",
       "      <td>اما ابن يعقوب فاندي الوري واعلم القوم ولا امت...</td>\n",
       "      <td>[ا, ##ما, ابن, يعقوب, &lt;UNK&gt;, الور, ##ي, واع, #...</td>\n",
       "    </tr>\n",
       "    <tr>\n",
       "      <th>10854</th>\n",
       "      <td>مالكثيب الحمي الي عقده مابال جرعاءه الي جرده ...</td>\n",
       "      <td>[مالك, ##ثيب, ال, ##حمي, ال, ##ي, عقد, ##ه, ما...</td>\n",
       "    </tr>\n",
       "    <tr>\n",
       "      <th>5770</th>\n",
       "      <td>اصاح اذا ما اتاك القضاء لم يقك الدرع والجوشن ...</td>\n",
       "      <td>[&lt;UNK&gt;, ا, ##ذا, ما, اتا, ##ك, &lt;UNK&gt;, لم, يق, ...</td>\n",
       "    </tr>\n",
       "    <tr>\n",
       "      <th>31463</th>\n",
       "      <td>عبث النسيم بقده فتاودا وسري الحياء بخده فتورد...</td>\n",
       "      <td>[عبث, النس, ##ي, ##م, &lt;UNK&gt;, فتاو, ##دا, وس, #...</td>\n",
       "    </tr>\n",
       "    <tr>\n",
       "      <th>51069</th>\n",
       "      <td>رمضان يا شهر الضياء الحر من اسر الظلام اطلق ب...</td>\n",
       "      <td>[رمضان, يا, شهر, &lt;UNK&gt;, ال, ##حر, من, ا, ##سر,...</td>\n",
       "    </tr>\n",
       "  </tbody>\n",
       "</table>\n",
       "</div>"
      ],
      "text/plain": [
       "                                               poem_text  \\\n",
       "19455   اما ابن يعقوب فاندي الوري واعلم القوم ولا امت...   \n",
       "10854   مالكثيب الحمي الي عقده مابال جرعاءه الي جرده ...   \n",
       "5770    اصاح اذا ما اتاك القضاء لم يقك الدرع والجوشن ...   \n",
       "31463   عبث النسيم بقده فتاودا وسري الحياء بخده فتورد...   \n",
       "51069   رمضان يا شهر الضياء الحر من اسر الظلام اطلق ب...   \n",
       "\n",
       "                                         tokenized_poems  \n",
       "19455  [ا, ##ما, ابن, يعقوب, <UNK>, الور, ##ي, واع, #...  \n",
       "10854  [مالك, ##ثيب, ال, ##حمي, ال, ##ي, عقد, ##ه, ما...  \n",
       "5770   [<UNK>, ا, ##ذا, ما, اتا, ##ك, <UNK>, لم, يق, ...  \n",
       "31463  [عبث, النس, ##ي, ##م, <UNK>, فتاو, ##دا, وس, #...  \n",
       "51069  [رمضان, يا, شهر, <UNK>, ال, ##حر, من, ا, ##سر,...  "
      ]
     },
     "execution_count": 13,
     "metadata": {},
     "output_type": "execute_result"
    }
   ],
   "source": [
    "df_poems_sample['tokenized_poems'] = df_poems_sample.poem_text.apply(process_text)\n",
    "df_poems_sample.head()"
   ]
  },
  {
   "cell_type": "code",
   "execution_count": 14,
   "id": "f5cb61f6",
   "metadata": {},
   "outputs": [
    {
     "data": {
      "text/html": [
       "<div>\n",
       "<style scoped>\n",
       "    .dataframe tbody tr th:only-of-type {\n",
       "        vertical-align: middle;\n",
       "    }\n",
       "\n",
       "    .dataframe tbody tr th {\n",
       "        vertical-align: top;\n",
       "    }\n",
       "\n",
       "    .dataframe thead th {\n",
       "        text-align: right;\n",
       "    }\n",
       "</style>\n",
       "<table border=\"1\" class=\"dataframe\">\n",
       "  <thead>\n",
       "    <tr style=\"text-align: right;\">\n",
       "      <th></th>\n",
       "      <th>poem_text</th>\n",
       "      <th>tokenized_poems</th>\n",
       "    </tr>\n",
       "  </thead>\n",
       "  <tbody>\n",
       "    <tr>\n",
       "      <th>19455</th>\n",
       "      <td>اما ابن يعقوب فاندي الوري واعلم القوم ولا امت...</td>\n",
       "      <td>[ا, ##ما, ابن, يعقوب, &lt;UNK&gt;, الور, ##ي, واع, #...</td>\n",
       "    </tr>\n",
       "    <tr>\n",
       "      <th>10854</th>\n",
       "      <td>مالكثيب الحمي الي عقده مابال جرعاءه الي جرده ...</td>\n",
       "      <td>[مالك, ##ثيب, ال, ##حمي, ال, ##ي, عقد, ##ه, ما...</td>\n",
       "    </tr>\n",
       "    <tr>\n",
       "      <th>5770</th>\n",
       "      <td>اصاح اذا ما اتاك القضاء لم يقك الدرع والجوشن ...</td>\n",
       "      <td>[&lt;UNK&gt;, ا, ##ذا, ما, اتا, ##ك, &lt;UNK&gt;, لم, يق, ...</td>\n",
       "    </tr>\n",
       "    <tr>\n",
       "      <th>31463</th>\n",
       "      <td>عبث النسيم بقده فتاودا وسري الحياء بخده فتورد...</td>\n",
       "      <td>[عبث, النس, ##ي, ##م, &lt;UNK&gt;, فتاو, ##دا, وس, #...</td>\n",
       "    </tr>\n",
       "    <tr>\n",
       "      <th>51069</th>\n",
       "      <td>رمضان يا شهر الضياء الحر من اسر الظلام اطلق ب...</td>\n",
       "      <td>[رمضان, يا, شهر, &lt;UNK&gt;, ال, ##حر, من, ا, ##سر,...</td>\n",
       "    </tr>\n",
       "  </tbody>\n",
       "</table>\n",
       "</div>"
      ],
      "text/plain": [
       "                                               poem_text  \\\n",
       "19455   اما ابن يعقوب فاندي الوري واعلم القوم ولا امت...   \n",
       "10854   مالكثيب الحمي الي عقده مابال جرعاءه الي جرده ...   \n",
       "5770    اصاح اذا ما اتاك القضاء لم يقك الدرع والجوشن ...   \n",
       "31463   عبث النسيم بقده فتاودا وسري الحياء بخده فتورد...   \n",
       "51069   رمضان يا شهر الضياء الحر من اسر الظلام اطلق ب...   \n",
       "\n",
       "                                         tokenized_poems  \n",
       "19455  [ا, ##ما, ابن, يعقوب, <UNK>, الور, ##ي, واع, #...  \n",
       "10854  [مالك, ##ثيب, ال, ##حمي, ال, ##ي, عقد, ##ه, ما...  \n",
       "5770   [<UNK>, ا, ##ذا, ما, اتا, ##ك, <UNK>, لم, يق, ...  \n",
       "31463  [عبث, النس, ##ي, ##م, <UNK>, فتاو, ##دا, وس, #...  \n",
       "51069  [رمضان, يا, شهر, <UNK>, ال, ##حر, من, ا, ##سر,...  "
      ]
     },
     "execution_count": 14,
     "metadata": {},
     "output_type": "execute_result"
    }
   ],
   "source": [
    "df_poems_sample.head()"
   ]
  },
  {
   "cell_type": "code",
   "execution_count": 15,
   "id": "1955e1df",
   "metadata": {},
   "outputs": [],
   "source": [
    "# build vocabulary and train model\n",
    "model = gensim.models.Word2Vec(\n",
    "    df_poems_sample['tokenized_poems'],\n",
    "    window=5,\n",
    "    min_count=4,\n",
    "    workers=8)"
   ]
  },
  {
   "cell_type": "code",
   "execution_count": 16,
   "id": "6d051414",
   "metadata": {},
   "outputs": [
    {
     "data": {
      "text/plain": [
       "[('ابن', 0.9997038245201111),\n",
       " ('بن', 0.999703586101532),\n",
       " ('لمن', 0.9996880888938904),\n",
       " ('حب', 0.9996851682662964),\n",
       " ('لهم', 0.9996663928031921),\n",
       " ('##وي', 0.9996470212936401),\n",
       " ('##رت', 0.9996291995048523),\n",
       " ('فقد', 0.999626100063324),\n",
       " ('نور', 0.9996203780174255),\n",
       " ('بالا', 0.9996114373207092)]"
      ]
     },
     "execution_count": 16,
     "metadata": {},
     "output_type": "execute_result"
    }
   ],
   "source": [
    "model.wv.most_similar(positive='بحر')"
   ]
  },
  {
   "cell_type": "code",
   "execution_count": 17,
   "id": "3cfa532b",
   "metadata": {},
   "outputs": [
    {
     "data": {
      "text/plain": [
       "[('نور', 0.9994589686393738),\n",
       " ('حول', 0.9994376301765442),\n",
       " ('بن', 0.9994372725486755),\n",
       " ('##رت', 0.9994299411773682),\n",
       " ('فت', 0.9994264245033264),\n",
       " ('فقد', 0.9994195103645325),\n",
       " ('##دا', 0.999410092830658),\n",
       " ('بحر', 0.9994022846221924),\n",
       " ('ون', 0.9993926286697388),\n",
       " ('بنا', 0.9993909001350403)]"
      ]
     },
     "execution_count": 17,
     "metadata": {},
     "output_type": "execute_result"
    }
   ],
   "source": [
    "model.wv.most_similar(positive='جمال')"
   ]
  },
  {
   "cell_type": "code",
   "execution_count": 18,
   "id": "022fdd40",
   "metadata": {
    "scrolled": false
   },
   "outputs": [
    {
     "data": {
      "text/plain": [
       "[('ماذا', 0.9991545081138611),\n",
       " ('##وي', 0.9991365075111389),\n",
       " ('##ير', 0.9991360902786255),\n",
       " ('##مد', 0.9991323947906494),\n",
       " ('##لك', 0.9991308450698853),\n",
       " ('ماء', 0.9991303086280823),\n",
       " ('##صبح', 0.9991243481636047),\n",
       " ('روح', 0.9991234540939331),\n",
       " ('حول', 0.9991183876991272),\n",
       " ('كال', 0.9991066455841064)]"
      ]
     },
     "execution_count": 18,
     "metadata": {},
     "output_type": "execute_result"
    }
   ],
   "source": [
    "model.wv.most_similar(positive='قمر')"
   ]
  },
  {
   "cell_type": "code",
   "execution_count": 19,
   "id": "42599f70",
   "metadata": {},
   "outputs": [
    {
     "data": {
      "text/plain": [
       "[('اك', 0.9995864629745483),\n",
       " ('كم', 0.9995831847190857),\n",
       " ('بال', 0.9995620846748352),\n",
       " ('وت', 0.9995415806770325),\n",
       " ('تحت', 0.9995320439338684),\n",
       " ('ظل', 0.9995318055152893),\n",
       " ('ليل', 0.9995264410972595),\n",
       " ('مع', 0.999495267868042),\n",
       " ('كما', 0.9994727969169617),\n",
       " ('كانت', 0.9994633197784424)]"
      ]
     },
     "execution_count": 19,
     "metadata": {},
     "output_type": "execute_result"
    }
   ],
   "source": [
    "model.wv.most_similar(positive='سيف')"
   ]
  },
  {
   "cell_type": "markdown",
   "id": "70a6babe",
   "metadata": {},
   "source": [
    "## Word Tokenizer with Sample"
   ]
  },
  {
   "cell_type": "code",
   "execution_count": 20,
   "id": "99e090ab",
   "metadata": {},
   "outputs": [
    {
     "name": "stdout",
     "output_type": "stream",
     "text": [
      "Training WordTokenizer ...\n"
     ]
    }
   ],
   "source": [
    "tokenizer = tk.WordTokenizer()\n",
    "\n",
    "tokenizer.train('data.txt')\n",
    "\n",
    "def process_text(text):\n",
    "    clean_text = remove_diacritics(text)\n",
    "    clean_text = remove_repeating_char(clean_text)\n",
    "    return tokenizer.tokenize(clean_text)\n",
    "\n",
    "df_poems_sample['tokenized_poems'] = df_poems_sample.poem_text.apply(process_text)\n",
    "\n",
    "model = gensim.models.Word2Vec(\n",
    "    df_poems_sample['tokenized_poems'],\n",
    "    window=5,\n",
    "    min_count=4,\n",
    "    workers=8)"
   ]
  },
  {
   "cell_type": "code",
   "execution_count": 21,
   "id": "7423a43f",
   "metadata": {},
   "outputs": [
    {
     "data": {
      "text/plain": [
       "[('بلا', 0.9997566342353821),\n",
       " ('ليل', 0.999748706817627),\n",
       " ('بني', 0.9997189044952393),\n",
       " ('فلم', 0.9996925592422485),\n",
       " ('جاء', 0.9996858835220337),\n",
       " ('العمر', 0.9996828436851501),\n",
       " ('تري', 0.9996799230575562),\n",
       " ('النور', 0.9996674656867981),\n",
       " ('القوم', 0.9996668100357056),\n",
       " ('وهل', 0.9996628761291504)]"
      ]
     },
     "execution_count": 21,
     "metadata": {},
     "output_type": "execute_result"
    }
   ],
   "source": [
    "model.wv.most_similar(positive='بحر')"
   ]
  },
  {
   "cell_type": "code",
   "execution_count": 22,
   "id": "2ac42048",
   "metadata": {},
   "outputs": [
    {
     "data": {
      "text/plain": [
       "[('الظلام', 0.9989485740661621),\n",
       " ('الطير', 0.9989356398582458),\n",
       " ('مضي', 0.9989171028137207),\n",
       " ('الضحي', 0.9988778233528137),\n",
       " ('ولما', 0.9988222122192383),\n",
       " ('شمس', 0.9988126158714294),\n",
       " ('كلها', 0.998772919178009),\n",
       " ('وبين', 0.9987707734107971),\n",
       " ('الاوطان', 0.9987590312957764),\n",
       " ('النيل', 0.9987236261367798)]"
      ]
     },
     "execution_count": 22,
     "metadata": {},
     "output_type": "execute_result"
    }
   ],
   "source": [
    "model.wv.most_similar(positive='جمال')"
   ]
  },
  {
   "cell_type": "code",
   "execution_count": 23,
   "id": "b2abf1a1",
   "metadata": {},
   "outputs": [
    {
     "data": {
      "text/plain": [
       "[('عليك', 0.999575138092041),\n",
       " ('متي', 0.9995589256286621),\n",
       " ('وعلي', 0.9995522499084473),\n",
       " ('وكان', 0.999547004699707),\n",
       " ('نحو', 0.9995298385620117),\n",
       " ('فمن', 0.999528706073761),\n",
       " ('فيك', 0.999521791934967),\n",
       " ('المجد', 0.9995166659355164),\n",
       " ('ايها', 0.9995105862617493),\n",
       " ('–', 0.9995008111000061)]"
      ]
     },
     "execution_count": 23,
     "metadata": {},
     "output_type": "execute_result"
    }
   ],
   "source": [
    "model.wv.most_similar(positive='قمر')"
   ]
  },
  {
   "cell_type": "code",
   "execution_count": 24,
   "id": "f9227018",
   "metadata": {},
   "outputs": [
    {
     "data": {
      "text/plain": [
       "[('الردي', 0.9993366599082947),\n",
       " ('اصبحت', 0.999299168586731),\n",
       " ('الفتي', 0.9992502927780151),\n",
       " ('محمد', 0.9992326498031616),\n",
       " ('ويا', 0.999214768409729),\n",
       " ('صار', 0.9991844296455383),\n",
       " ('النبي', 0.9991508722305298),\n",
       " ('ليلا', 0.9991368055343628),\n",
       " ('بكل', 0.9991255402565002),\n",
       " ('وعن', 0.9991235136985779)]"
      ]
     },
     "execution_count": 24,
     "metadata": {},
     "output_type": "execute_result"
    }
   ],
   "source": [
    "model.wv.most_similar(positive='سيف')"
   ]
  },
  {
   "cell_type": "markdown",
   "id": "3d2c07a1",
   "metadata": {},
   "source": [
    "## Full MorphologicalTokenizer"
   ]
  },
  {
   "cell_type": "code",
   "execution_count": 25,
   "id": "ab20eaf5",
   "metadata": {},
   "outputs": [
    {
     "name": "stdout",
     "output_type": "stream",
     "text": [
      "Training MorphologicalTokenizer ...\n"
     ]
    }
   ],
   "source": [
    "tokenizer = tk.MorphologicalTokenizer(vocab_size=500000)\n",
    "\n",
    "tokenizer.train()\n",
    "\n",
    "def process_text(text):\n",
    "    clean_text = remove_diacritics(text)\n",
    "    clean_text = remove_repeating_char(clean_text)\n",
    "    return tokenizer.tokenize(clean_text)\n",
    "\n",
    "df_poems['tokenized_poems'] = df_poems.poem_text.apply(process_text)\n",
    "\n",
    "model = gensim.models.Word2Vec(\n",
    "    df_poems['tokenized_poems'],\n",
    "    window=5,\n",
    "    min_count=4,\n",
    "    workers=8)"
   ]
  },
  {
   "cell_type": "code",
   "execution_count": 26,
   "id": "2a938027",
   "metadata": {},
   "outputs": [
    {
     "data": {
      "text/plain": [
       "[('زاخر', 0.7022616863250732),\n",
       " ('بحرا', 0.6702044606208801),\n",
       " ('خضم', 0.6064570546150208),\n",
       " ('موجه', 0.5909208655357361),\n",
       " ('بحار', 0.58272385597229),\n",
       " ('عباب', 0.5717765688896179),\n",
       " ('نهر', 0.5558062791824341),\n",
       " ('موج', 0.551268994808197),\n",
       " ('مزبد', 0.5420432090759277),\n",
       " ('نبع', 0.5362871885299683)]"
      ]
     },
     "execution_count": 26,
     "metadata": {},
     "output_type": "execute_result"
    }
   ],
   "source": [
    "model.wv.most_similar(positive='بحر')"
   ]
  },
  {
   "cell_type": "code",
   "execution_count": 27,
   "id": "7c61dc97",
   "metadata": {},
   "outputs": [
    {
     "data": {
      "text/plain": [
       "[('حسام', 0.8357911705970764),\n",
       " ('صارم', 0.7844464778900146),\n",
       " ('سيفا', 0.7601202130317688),\n",
       " ('غمد', 0.7288745045661926),\n",
       " ('نصل', 0.7186676859855652),\n",
       " ('##سيف', 0.7126127481460571),\n",
       " ('رمح', 0.6803518533706665),\n",
       " ('مضاء', 0.6684632897377014),\n",
       " ('حد', 0.6606724858283997),\n",
       " ('مرهف', 0.6414411664009094)]"
      ]
     },
     "execution_count": 27,
     "metadata": {},
     "output_type": "execute_result"
    }
   ],
   "source": [
    "model.wv.most_similar(positive='سيف')"
   ]
  },
  {
   "cell_type": "code",
   "execution_count": 28,
   "id": "233d00a4",
   "metadata": {},
   "outputs": [
    {
     "data": {
      "text/plain": [
       "[('قمرا', 0.8321205377578735),\n",
       " ('كوكب', 0.8193356394767761),\n",
       " ('ضياء', 0.8184514045715332),\n",
       " ('يضيء', 0.81216961145401),\n",
       " ('مصباح', 0.7998147010803223),\n",
       " ('سراج', 0.7965234518051147),\n",
       " ('ضوء', 0.7958341836929321),\n",
       " ('نجم', 0.7855615019798279),\n",
       " ('منير', 0.7762529253959656),\n",
       " ('هلال', 0.7748417854309082)]"
      ]
     },
     "execution_count": 28,
     "metadata": {},
     "output_type": "execute_result"
    }
   ],
   "source": [
    "model.wv.most_similar(positive='قمر')"
   ]
  },
  {
   "cell_type": "code",
   "execution_count": 29,
   "id": "55fbf395",
   "metadata": {},
   "outputs": [
    {
     "data": {
      "text/plain": [
       "[('محيا', 0.758857786655426),\n",
       " ('حسن', 0.7402985692024231),\n",
       " ('منظر', 0.7312740683555603),\n",
       " ('محاسن', 0.7285208702087402),\n",
       " ('بهجة', 0.7271338105201721),\n",
       " ('حسنا', 0.7206720113754272),\n",
       " ('بديع', 0.7179510593414307),\n",
       " ('سحر', 0.7161159515380859),\n",
       " ('بهاء', 0.6947004795074463),\n",
       " ('معاني', 0.6945234537124634)]"
      ]
     },
     "execution_count": 29,
     "metadata": {},
     "output_type": "execute_result"
    }
   ],
   "source": [
    "model.wv.most_similar(positive='جمال')"
   ]
  },
  {
   "cell_type": "code",
   "execution_count": 30,
   "id": "87e65040",
   "metadata": {},
   "outputs": [
    {
     "data": {
      "text/plain": [
       "[('صدور', 0.6887970566749573),\n",
       " ('نفوس', 0.6794796586036682),\n",
       " ('عقول', 0.6202598810195923),\n",
       " ('عيون', 0.6193496584892273),\n",
       " ('قبور', 0.5996277928352356),\n",
       " ('جسوم', 0.5928557515144348),\n",
       " ('نحور', 0.584489643573761),\n",
       " ('نيران', 0.5829363465309143),\n",
       " ('سيوف', 0.5720204710960388),\n",
       " ('جلود', 0.5718913078308105)]"
      ]
     },
     "execution_count": 30,
     "metadata": {},
     "output_type": "execute_result"
    }
   ],
   "source": [
    "model.wv.most_similar(positive='قلوب')"
   ]
  },
  {
   "cell_type": "code",
   "execution_count": 31,
   "id": "7eaeeb01",
   "metadata": {},
   "outputs": [
    {
     "data": {
      "text/plain": [
       "[('جوي', 0.8924345374107361),\n",
       " ('صبابة', 0.8458849191665649),\n",
       " ('تباريح', 0.8353836536407471),\n",
       " ('غرام', 0.8140920400619507),\n",
       " ('زفرة', 0.8027799129486084),\n",
       " ('الوجد', 0.8018087148666382),\n",
       " ('حرق', 0.7945452332496643),\n",
       " ('شجو', 0.7773582935333252),\n",
       " ('حشاشة', 0.7738944888114929),\n",
       " ('لواعج', 0.7705483436584473)]"
      ]
     },
     "execution_count": 31,
     "metadata": {},
     "output_type": "execute_result"
    }
   ],
   "source": [
    "model.wv.most_similar(positive='لوعة')"
   ]
  },
  {
   "cell_type": "code",
   "execution_count": 32,
   "id": "6cd9cf31",
   "metadata": {},
   "outputs": [
    {
     "data": {
      "text/plain": [
       "[('حياتي', 0.392706036567688),\n",
       " ('ذكري', 0.3365645110607147),\n",
       " ('##ذات', 0.32563862204551697),\n",
       " ('لذة', 0.3195958733558655),\n",
       " ('شبابي', 0.3143406808376312),\n",
       " ('ليالي', 0.3047560453414917),\n",
       " ('تذكرت', 0.2986513674259186),\n",
       " ('ليال', 0.29781585931777954),\n",
       " ('صبا', 0.2971852123737335),\n",
       " ('تلك', 0.2946537733078003)]"
      ]
     },
     "execution_count": 32,
     "metadata": {},
     "output_type": "execute_result"
    }
   ],
   "source": [
    "model.wv.most_similar(negative='سيف')"
   ]
  },
  {
   "cell_type": "code",
   "execution_count": 33,
   "id": "615825ac",
   "metadata": {
    "scrolled": true
   },
   "outputs": [
    {
     "data": {
      "text/plain": [
       "array([-0.7767816 , -0.16945663,  0.2165929 ,  0.6141618 ,  1.0802549 ,\n",
       "        0.53660417, -0.39346215,  1.4651189 , -1.0488359 ,  0.55736053,\n",
       "       -1.7463926 , -1.1607833 ,  1.8985958 , -0.68191653,  0.58346945,\n",
       "       -0.42862454,  1.1656873 ,  0.9263713 , -0.6268776 ,  0.2798496 ,\n",
       "       -1.8979998 ,  0.8955211 , -1.6486388 , -1.4201765 ,  0.3805119 ,\n",
       "       -0.15150042,  0.13304031,  0.26991847,  0.47720066,  0.45403802,\n",
       "        1.023573  ,  0.78011346, -1.37628   , -0.68427426,  1.5151603 ,\n",
       "        1.4106754 ,  1.258872  ,  1.7807823 ,  0.74668074,  0.6710356 ,\n",
       "        1.1388934 ,  0.52056897,  0.60692537,  1.6768069 ,  2.0535004 ,\n",
       "        0.24564587, -1.3437184 ,  1.9841601 , -0.9223384 ,  1.0529785 ,\n",
       "        0.17671028, -0.913571  , -1.57941   , -0.19650276, -2.105694  ,\n",
       "        0.17080864,  0.8662784 ,  1.0394912 ,  1.3974406 ,  0.02526223,\n",
       "        1.001802  , -3.0876353 , -0.99691105,  0.7273724 , -0.2023381 ,\n",
       "       -0.52602834,  0.831913  ,  0.24446866, -1.5892559 ,  0.27008408,\n",
       "       -0.21948373,  0.83578384, -0.0350347 , -0.81545615,  0.4345212 ,\n",
       "       -0.5029466 , -0.15053096,  0.69764364,  0.6990849 ,  2.5037308 ,\n",
       "       -1.1178755 ,  1.0595099 ,  1.2047567 , -1.7911756 , -0.5325071 ,\n",
       "        0.79992276, -1.408607  ,  1.2835784 ,  2.118334  ,  2.30768   ,\n",
       "       -0.67924875, -1.8066967 ,  1.0851007 ,  0.36811438,  0.11408926,\n",
       "       -0.509608  , -0.28418273, -0.2292584 ,  1.1334634 ,  0.01978321],\n",
       "      dtype=float32)"
      ]
     },
     "execution_count": 33,
     "metadata": {},
     "output_type": "execute_result"
    }
   ],
   "source": [
    "model.wv.__getitem__('سيف')"
   ]
  },
  {
   "cell_type": "code",
   "execution_count": 37,
   "id": "292f80db",
   "metadata": {},
   "outputs": [
    {
     "ename": "KeyError",
     "evalue": "\"Key 'شرفتان' not present\"",
     "output_type": "error",
     "traceback": [
      "\u001b[0;31m---------------------------------------------------------------------------\u001b[0m",
      "\u001b[0;31mKeyError\u001b[0m                                  Traceback (most recent call last)",
      "Cell \u001b[0;32mIn [37], line 6\u001b[0m\n\u001b[1;32m      3\u001b[0m     embedded_tokens \u001b[38;5;241m=\u001b[39m np\u001b[38;5;241m.\u001b[39marray([model\u001b[38;5;241m.\u001b[39mwv\u001b[38;5;241m.\u001b[39m\u001b[38;5;21m__getitem__\u001b[39m(token) \u001b[38;5;28;01mfor\u001b[39;00m token \u001b[38;5;129;01min\u001b[39;00m clear_poem])\n\u001b[1;32m      4\u001b[0m     \u001b[38;5;28;01mreturn\u001b[39;00m np\u001b[38;5;241m.\u001b[39mmean(embedded_tokens, axis\u001b[38;5;241m=\u001b[39m\u001b[38;5;241m0\u001b[39m)\n\u001b[0;32m----> 6\u001b[0m df_poems[\u001b[38;5;124m'\u001b[39m\u001b[38;5;124membedded_poems\u001b[39m\u001b[38;5;124m'\u001b[39m] \u001b[38;5;241m=\u001b[39m \u001b[43mdf_poems\u001b[49m\u001b[43m[\u001b[49m\u001b[38;5;124;43m'\u001b[39;49m\u001b[38;5;124;43mtokenized_poems\u001b[39;49m\u001b[38;5;124;43m'\u001b[39;49m\u001b[43m]\u001b[49m\u001b[38;5;241;43m.\u001b[39;49m\u001b[43mapply\u001b[49m\u001b[43m(\u001b[49m\u001b[43membedPoem\u001b[49m\u001b[43m)\u001b[49m\n\u001b[1;32m      7\u001b[0m df_poems[\u001b[38;5;124m'\u001b[39m\u001b[38;5;124membedded_poems\u001b[39m\u001b[38;5;124m'\u001b[39m]\n",
      "File \u001b[0;32m~/.local/lib/python3.11/site-packages/pandas/core/series.py:4904\u001b[0m, in \u001b[0;36mSeries.apply\u001b[0;34m(self, func, convert_dtype, args, by_row, **kwargs)\u001b[0m\n\u001b[1;32m   4769\u001b[0m \u001b[38;5;28;01mdef\u001b[39;00m \u001b[38;5;21mapply\u001b[39m(\n\u001b[1;32m   4770\u001b[0m     \u001b[38;5;28mself\u001b[39m,\n\u001b[1;32m   4771\u001b[0m     func: AggFuncType,\n\u001b[0;32m   (...)\u001b[0m\n\u001b[1;32m   4776\u001b[0m     \u001b[38;5;241m*\u001b[39m\u001b[38;5;241m*\u001b[39mkwargs,\n\u001b[1;32m   4777\u001b[0m ) \u001b[38;5;241m-\u001b[39m\u001b[38;5;241m>\u001b[39m DataFrame \u001b[38;5;241m|\u001b[39m Series:\n\u001b[1;32m   4778\u001b[0m \u001b[38;5;250m    \u001b[39m\u001b[38;5;124;03m\"\"\"\u001b[39;00m\n\u001b[1;32m   4779\u001b[0m \u001b[38;5;124;03m    Invoke function on values of Series.\u001b[39;00m\n\u001b[1;32m   4780\u001b[0m \n\u001b[0;32m   (...)\u001b[0m\n\u001b[1;32m   4895\u001b[0m \u001b[38;5;124;03m    dtype: float64\u001b[39;00m\n\u001b[1;32m   4896\u001b[0m \u001b[38;5;124;03m    \"\"\"\u001b[39;00m\n\u001b[1;32m   4897\u001b[0m     \u001b[38;5;28;01mreturn\u001b[39;00m \u001b[43mSeriesApply\u001b[49m\u001b[43m(\u001b[49m\n\u001b[1;32m   4898\u001b[0m \u001b[43m        \u001b[49m\u001b[38;5;28;43mself\u001b[39;49m\u001b[43m,\u001b[49m\n\u001b[1;32m   4899\u001b[0m \u001b[43m        \u001b[49m\u001b[43mfunc\u001b[49m\u001b[43m,\u001b[49m\n\u001b[1;32m   4900\u001b[0m \u001b[43m        \u001b[49m\u001b[43mconvert_dtype\u001b[49m\u001b[38;5;241;43m=\u001b[39;49m\u001b[43mconvert_dtype\u001b[49m\u001b[43m,\u001b[49m\n\u001b[1;32m   4901\u001b[0m \u001b[43m        \u001b[49m\u001b[43mby_row\u001b[49m\u001b[38;5;241;43m=\u001b[39;49m\u001b[43mby_row\u001b[49m\u001b[43m,\u001b[49m\n\u001b[1;32m   4902\u001b[0m \u001b[43m        \u001b[49m\u001b[43margs\u001b[49m\u001b[38;5;241;43m=\u001b[39;49m\u001b[43margs\u001b[49m\u001b[43m,\u001b[49m\n\u001b[1;32m   4903\u001b[0m \u001b[43m        \u001b[49m\u001b[43mkwargs\u001b[49m\u001b[38;5;241;43m=\u001b[39;49m\u001b[43mkwargs\u001b[49m\u001b[43m,\u001b[49m\n\u001b[0;32m-> 4904\u001b[0m \u001b[43m    \u001b[49m\u001b[43m)\u001b[49m\u001b[38;5;241;43m.\u001b[39;49m\u001b[43mapply\u001b[49m\u001b[43m(\u001b[49m\u001b[43m)\u001b[49m\n",
      "File \u001b[0;32m~/.local/lib/python3.11/site-packages/pandas/core/apply.py:1427\u001b[0m, in \u001b[0;36mSeriesApply.apply\u001b[0;34m(self)\u001b[0m\n\u001b[1;32m   1424\u001b[0m     \u001b[38;5;28;01mreturn\u001b[39;00m \u001b[38;5;28mself\u001b[39m\u001b[38;5;241m.\u001b[39mapply_compat()\n\u001b[1;32m   1426\u001b[0m \u001b[38;5;66;03m# self.func is Callable\u001b[39;00m\n\u001b[0;32m-> 1427\u001b[0m \u001b[38;5;28;01mreturn\u001b[39;00m \u001b[38;5;28;43mself\u001b[39;49m\u001b[38;5;241;43m.\u001b[39;49m\u001b[43mapply_standard\u001b[49m\u001b[43m(\u001b[49m\u001b[43m)\u001b[49m\n",
      "File \u001b[0;32m~/.local/lib/python3.11/site-packages/pandas/core/apply.py:1507\u001b[0m, in \u001b[0;36mSeriesApply.apply_standard\u001b[0;34m(self)\u001b[0m\n\u001b[1;32m   1501\u001b[0m \u001b[38;5;66;03m# row-wise access\u001b[39;00m\n\u001b[1;32m   1502\u001b[0m \u001b[38;5;66;03m# apply doesn't have a `na_action` keyword and for backward compat reasons\u001b[39;00m\n\u001b[1;32m   1503\u001b[0m \u001b[38;5;66;03m# we need to give `na_action=\"ignore\"` for categorical data.\u001b[39;00m\n\u001b[1;32m   1504\u001b[0m \u001b[38;5;66;03m# TODO: remove the `na_action=\"ignore\"` when that default has been changed in\u001b[39;00m\n\u001b[1;32m   1505\u001b[0m \u001b[38;5;66;03m#  Categorical (GH51645).\u001b[39;00m\n\u001b[1;32m   1506\u001b[0m action \u001b[38;5;241m=\u001b[39m \u001b[38;5;124m\"\u001b[39m\u001b[38;5;124mignore\u001b[39m\u001b[38;5;124m\"\u001b[39m \u001b[38;5;28;01mif\u001b[39;00m \u001b[38;5;28misinstance\u001b[39m(obj\u001b[38;5;241m.\u001b[39mdtype, CategoricalDtype) \u001b[38;5;28;01melse\u001b[39;00m \u001b[38;5;28;01mNone\u001b[39;00m\n\u001b[0;32m-> 1507\u001b[0m mapped \u001b[38;5;241m=\u001b[39m \u001b[43mobj\u001b[49m\u001b[38;5;241;43m.\u001b[39;49m\u001b[43m_map_values\u001b[49m\u001b[43m(\u001b[49m\n\u001b[1;32m   1508\u001b[0m \u001b[43m    \u001b[49m\u001b[43mmapper\u001b[49m\u001b[38;5;241;43m=\u001b[39;49m\u001b[43mcurried\u001b[49m\u001b[43m,\u001b[49m\u001b[43m \u001b[49m\u001b[43mna_action\u001b[49m\u001b[38;5;241;43m=\u001b[39;49m\u001b[43maction\u001b[49m\u001b[43m,\u001b[49m\u001b[43m \u001b[49m\u001b[43mconvert\u001b[49m\u001b[38;5;241;43m=\u001b[39;49m\u001b[38;5;28;43mself\u001b[39;49m\u001b[38;5;241;43m.\u001b[39;49m\u001b[43mconvert_dtype\u001b[49m\n\u001b[1;32m   1509\u001b[0m \u001b[43m\u001b[49m\u001b[43m)\u001b[49m\n\u001b[1;32m   1511\u001b[0m \u001b[38;5;28;01mif\u001b[39;00m \u001b[38;5;28mlen\u001b[39m(mapped) \u001b[38;5;129;01mand\u001b[39;00m \u001b[38;5;28misinstance\u001b[39m(mapped[\u001b[38;5;241m0\u001b[39m], ABCSeries):\n\u001b[1;32m   1512\u001b[0m     \u001b[38;5;66;03m# GH#43986 Need to do list(mapped) in order to get treated as nested\u001b[39;00m\n\u001b[1;32m   1513\u001b[0m     \u001b[38;5;66;03m#  See also GH#25959 regarding EA support\u001b[39;00m\n\u001b[1;32m   1514\u001b[0m     \u001b[38;5;28;01mreturn\u001b[39;00m obj\u001b[38;5;241m.\u001b[39m_constructor_expanddim(\u001b[38;5;28mlist\u001b[39m(mapped), index\u001b[38;5;241m=\u001b[39mobj\u001b[38;5;241m.\u001b[39mindex)\n",
      "File \u001b[0;32m~/.local/lib/python3.11/site-packages/pandas/core/base.py:921\u001b[0m, in \u001b[0;36mIndexOpsMixin._map_values\u001b[0;34m(self, mapper, na_action, convert)\u001b[0m\n\u001b[1;32m    918\u001b[0m \u001b[38;5;28;01mif\u001b[39;00m \u001b[38;5;28misinstance\u001b[39m(arr, ExtensionArray):\n\u001b[1;32m    919\u001b[0m     \u001b[38;5;28;01mreturn\u001b[39;00m arr\u001b[38;5;241m.\u001b[39mmap(mapper, na_action\u001b[38;5;241m=\u001b[39mna_action)\n\u001b[0;32m--> 921\u001b[0m \u001b[38;5;28;01mreturn\u001b[39;00m \u001b[43malgorithms\u001b[49m\u001b[38;5;241;43m.\u001b[39;49m\u001b[43mmap_array\u001b[49m\u001b[43m(\u001b[49m\u001b[43marr\u001b[49m\u001b[43m,\u001b[49m\u001b[43m \u001b[49m\u001b[43mmapper\u001b[49m\u001b[43m,\u001b[49m\u001b[43m \u001b[49m\u001b[43mna_action\u001b[49m\u001b[38;5;241;43m=\u001b[39;49m\u001b[43mna_action\u001b[49m\u001b[43m,\u001b[49m\u001b[43m \u001b[49m\u001b[43mconvert\u001b[49m\u001b[38;5;241;43m=\u001b[39;49m\u001b[43mconvert\u001b[49m\u001b[43m)\u001b[49m\n",
      "File \u001b[0;32m~/.local/lib/python3.11/site-packages/pandas/core/algorithms.py:1743\u001b[0m, in \u001b[0;36mmap_array\u001b[0;34m(arr, mapper, na_action, convert)\u001b[0m\n\u001b[1;32m   1741\u001b[0m values \u001b[38;5;241m=\u001b[39m arr\u001b[38;5;241m.\u001b[39mastype(\u001b[38;5;28mobject\u001b[39m, copy\u001b[38;5;241m=\u001b[39m\u001b[38;5;28;01mFalse\u001b[39;00m)\n\u001b[1;32m   1742\u001b[0m \u001b[38;5;28;01mif\u001b[39;00m na_action \u001b[38;5;129;01mis\u001b[39;00m \u001b[38;5;28;01mNone\u001b[39;00m:\n\u001b[0;32m-> 1743\u001b[0m     \u001b[38;5;28;01mreturn\u001b[39;00m \u001b[43mlib\u001b[49m\u001b[38;5;241;43m.\u001b[39;49m\u001b[43mmap_infer\u001b[49m\u001b[43m(\u001b[49m\u001b[43mvalues\u001b[49m\u001b[43m,\u001b[49m\u001b[43m \u001b[49m\u001b[43mmapper\u001b[49m\u001b[43m,\u001b[49m\u001b[43m \u001b[49m\u001b[43mconvert\u001b[49m\u001b[38;5;241;43m=\u001b[39;49m\u001b[43mconvert\u001b[49m\u001b[43m)\u001b[49m\n\u001b[1;32m   1744\u001b[0m \u001b[38;5;28;01melse\u001b[39;00m:\n\u001b[1;32m   1745\u001b[0m     \u001b[38;5;28;01mreturn\u001b[39;00m lib\u001b[38;5;241m.\u001b[39mmap_infer_mask(\n\u001b[1;32m   1746\u001b[0m         values, mapper, mask\u001b[38;5;241m=\u001b[39misna(values)\u001b[38;5;241m.\u001b[39mview(np\u001b[38;5;241m.\u001b[39muint8), convert\u001b[38;5;241m=\u001b[39mconvert\n\u001b[1;32m   1747\u001b[0m     )\n",
      "File \u001b[0;32mlib.pyx:2972\u001b[0m, in \u001b[0;36mpandas._libs.lib.map_infer\u001b[0;34m()\u001b[0m\n",
      "Cell \u001b[0;32mIn [37], line 3\u001b[0m, in \u001b[0;36membedPoem\u001b[0;34m(token_poem)\u001b[0m\n\u001b[1;32m      1\u001b[0m \u001b[38;5;28;01mdef\u001b[39;00m \u001b[38;5;21membedPoem\u001b[39m(token_poem):\n\u001b[1;32m      2\u001b[0m     clear_poem \u001b[38;5;241m=\u001b[39m [token \u001b[38;5;28;01mfor\u001b[39;00m token \u001b[38;5;129;01min\u001b[39;00m token_poem \u001b[38;5;28;01mif\u001b[39;00m token \u001b[38;5;241m!=\u001b[39m \u001b[38;5;124m'\u001b[39m\u001b[38;5;124m<UNK>\u001b[39m\u001b[38;5;124m'\u001b[39m]\n\u001b[0;32m----> 3\u001b[0m     embedded_tokens \u001b[38;5;241m=\u001b[39m np\u001b[38;5;241m.\u001b[39marray(\u001b[43m[\u001b[49m\u001b[43mmodel\u001b[49m\u001b[38;5;241;43m.\u001b[39;49m\u001b[43mwv\u001b[49m\u001b[38;5;241;43m.\u001b[39;49m\u001b[38;5;21;43m__getitem__\u001b[39;49m\u001b[43m(\u001b[49m\u001b[43mtoken\u001b[49m\u001b[43m)\u001b[49m\u001b[43m \u001b[49m\u001b[38;5;28;43;01mfor\u001b[39;49;00m\u001b[43m \u001b[49m\u001b[43mtoken\u001b[49m\u001b[43m \u001b[49m\u001b[38;5;129;43;01min\u001b[39;49;00m\u001b[43m \u001b[49m\u001b[43mclear_poem\u001b[49m\u001b[43m]\u001b[49m)\n\u001b[1;32m      4\u001b[0m     \u001b[38;5;28;01mreturn\u001b[39;00m np\u001b[38;5;241m.\u001b[39mmean(embedded_tokens, axis\u001b[38;5;241m=\u001b[39m\u001b[38;5;241m0\u001b[39m)\n",
      "Cell \u001b[0;32mIn [37], line 3\u001b[0m, in \u001b[0;36m<listcomp>\u001b[0;34m(.0)\u001b[0m\n\u001b[1;32m      1\u001b[0m \u001b[38;5;28;01mdef\u001b[39;00m \u001b[38;5;21membedPoem\u001b[39m(token_poem):\n\u001b[1;32m      2\u001b[0m     clear_poem \u001b[38;5;241m=\u001b[39m [token \u001b[38;5;28;01mfor\u001b[39;00m token \u001b[38;5;129;01min\u001b[39;00m token_poem \u001b[38;5;28;01mif\u001b[39;00m token \u001b[38;5;241m!=\u001b[39m \u001b[38;5;124m'\u001b[39m\u001b[38;5;124m<UNK>\u001b[39m\u001b[38;5;124m'\u001b[39m]\n\u001b[0;32m----> 3\u001b[0m     embedded_tokens \u001b[38;5;241m=\u001b[39m np\u001b[38;5;241m.\u001b[39marray([\u001b[43mmodel\u001b[49m\u001b[38;5;241;43m.\u001b[39;49m\u001b[43mwv\u001b[49m\u001b[38;5;241;43m.\u001b[39;49m\u001b[38;5;21;43m__getitem__\u001b[39;49m\u001b[43m(\u001b[49m\u001b[43mtoken\u001b[49m\u001b[43m)\u001b[49m \u001b[38;5;28;01mfor\u001b[39;00m token \u001b[38;5;129;01min\u001b[39;00m clear_poem])\n\u001b[1;32m      4\u001b[0m     \u001b[38;5;28;01mreturn\u001b[39;00m np\u001b[38;5;241m.\u001b[39mmean(embedded_tokens, axis\u001b[38;5;241m=\u001b[39m\u001b[38;5;241m0\u001b[39m)\n",
      "File \u001b[0;32m~/.local/lib/python3.11/site-packages/gensim/models/keyedvectors.py:403\u001b[0m, in \u001b[0;36mKeyedVectors.__getitem__\u001b[0;34m(self, key_or_keys)\u001b[0m\n\u001b[1;32m    389\u001b[0m \u001b[38;5;250m\u001b[39m\u001b[38;5;124;03m\"\"\"Get vector representation of `key_or_keys`.\u001b[39;00m\n\u001b[1;32m    390\u001b[0m \n\u001b[1;32m    391\u001b[0m \u001b[38;5;124;03mParameters\u001b[39;00m\n\u001b[0;32m   (...)\u001b[0m\n\u001b[1;32m    400\u001b[0m \n\u001b[1;32m    401\u001b[0m \u001b[38;5;124;03m\"\"\"\u001b[39;00m\n\u001b[1;32m    402\u001b[0m \u001b[38;5;28;01mif\u001b[39;00m \u001b[38;5;28misinstance\u001b[39m(key_or_keys, _KEY_TYPES):\n\u001b[0;32m--> 403\u001b[0m     \u001b[38;5;28;01mreturn\u001b[39;00m \u001b[38;5;28;43mself\u001b[39;49m\u001b[38;5;241;43m.\u001b[39;49m\u001b[43mget_vector\u001b[49m\u001b[43m(\u001b[49m\u001b[43mkey_or_keys\u001b[49m\u001b[43m)\u001b[49m\n\u001b[1;32m    405\u001b[0m \u001b[38;5;28;01mreturn\u001b[39;00m vstack([\u001b[38;5;28mself\u001b[39m\u001b[38;5;241m.\u001b[39mget_vector(key) \u001b[38;5;28;01mfor\u001b[39;00m key \u001b[38;5;129;01min\u001b[39;00m key_or_keys])\n",
      "File \u001b[0;32m~/.local/lib/python3.11/site-packages/gensim/models/keyedvectors.py:446\u001b[0m, in \u001b[0;36mKeyedVectors.get_vector\u001b[0;34m(self, key, norm)\u001b[0m\n\u001b[1;32m    422\u001b[0m \u001b[38;5;28;01mdef\u001b[39;00m \u001b[38;5;21mget_vector\u001b[39m(\u001b[38;5;28mself\u001b[39m, key, norm\u001b[38;5;241m=\u001b[39m\u001b[38;5;28;01mFalse\u001b[39;00m):\n\u001b[1;32m    423\u001b[0m \u001b[38;5;250m    \u001b[39m\u001b[38;5;124;03m\"\"\"Get the key's vector, as a 1D numpy array.\u001b[39;00m\n\u001b[1;32m    424\u001b[0m \n\u001b[1;32m    425\u001b[0m \u001b[38;5;124;03m    Parameters\u001b[39;00m\n\u001b[0;32m   (...)\u001b[0m\n\u001b[1;32m    444\u001b[0m \n\u001b[1;32m    445\u001b[0m \u001b[38;5;124;03m    \"\"\"\u001b[39;00m\n\u001b[0;32m--> 446\u001b[0m     index \u001b[38;5;241m=\u001b[39m \u001b[38;5;28;43mself\u001b[39;49m\u001b[38;5;241;43m.\u001b[39;49m\u001b[43mget_index\u001b[49m\u001b[43m(\u001b[49m\u001b[43mkey\u001b[49m\u001b[43m)\u001b[49m\n\u001b[1;32m    447\u001b[0m     \u001b[38;5;28;01mif\u001b[39;00m norm:\n\u001b[1;32m    448\u001b[0m         \u001b[38;5;28mself\u001b[39m\u001b[38;5;241m.\u001b[39mfill_norms()\n",
      "File \u001b[0;32m~/.local/lib/python3.11/site-packages/gensim/models/keyedvectors.py:420\u001b[0m, in \u001b[0;36mKeyedVectors.get_index\u001b[0;34m(self, key, default)\u001b[0m\n\u001b[1;32m    418\u001b[0m     \u001b[38;5;28;01mreturn\u001b[39;00m default\n\u001b[1;32m    419\u001b[0m \u001b[38;5;28;01melse\u001b[39;00m:\n\u001b[0;32m--> 420\u001b[0m     \u001b[38;5;28;01mraise\u001b[39;00m \u001b[38;5;167;01mKeyError\u001b[39;00m(\u001b[38;5;124mf\u001b[39m\u001b[38;5;124m\"\u001b[39m\u001b[38;5;124mKey \u001b[39m\u001b[38;5;124m'\u001b[39m\u001b[38;5;132;01m{\u001b[39;00mkey\u001b[38;5;132;01m}\u001b[39;00m\u001b[38;5;124m'\u001b[39m\u001b[38;5;124m not present\u001b[39m\u001b[38;5;124m\"\u001b[39m)\n",
      "\u001b[0;31mKeyError\u001b[0m: \"Key 'شرفتان' not present\""
     ]
    }
   ],
   "source": [
    "def embedPoem(token_poem):\n",
    "    clear_poem = [token for token in token_poem if token != '<UNK>']\n",
    "    embedded_tokens = np.array([model.wv.__getitem__(token) for token in clear_poem])\n",
    "    return np.mean(embedded_tokens, axis=0)\n",
    "\n",
    "df_poems['embedded_poems'] = df_poems['tokenized_poems'].apply(embedPoem)\n",
    "df_poems['embedded_poems']"
   ]
  }
 ],
 "metadata": {
  "kernelspec": {
   "display_name": "Python 3 (ipykernel)",
   "language": "python",
   "name": "python3"
  },
  "language_info": {
   "codemirror_mode": {
    "name": "ipython",
    "version": 3
   },
   "file_extension": ".py",
   "mimetype": "text/x-python",
   "name": "python",
   "nbconvert_exporter": "python",
   "pygments_lexer": "ipython3",
   "version": "3.11.4"
  }
 },
 "nbformat": 4,
 "nbformat_minor": 5
}

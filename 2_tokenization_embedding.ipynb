{
 "cells": [
  {
   "cell_type": "markdown",
   "id": "ede1ad9f",
   "metadata": {},
   "source": [
    "## Imports"
   ]
  },
  {
   "cell_type": "code",
   "execution_count": 1,
   "id": "f3cf1ada",
   "metadata": {},
   "outputs": [
    {
     "name": "stderr",
     "output_type": "stream",
     "text": [
      "/home/ellzo/.local/lib/python3.11/site-packages/matplotlib/projections/__init__.py:63: UserWarning: Unable to import Axes3D. This may be due to multiple versions of Matplotlib being installed (e.g. as a system package and as a pip package). As a result, the 3D projection is not available.\n",
      "  warnings.warn(\"Unable to import Axes3D. This may be due to multiple versions of \"\n"
     ]
    }
   ],
   "source": [
    "import pandas as pd\n",
    "import numpy as np\n",
    "import matplotlib.pyplot as plt\n",
    "import seaborn as sns\n",
    "\n",
    "from itertools import islice\n",
    "\n",
    "import pickle as pkl\n",
    "\n",
    "import sentencepiece as sp\n",
    "\n",
    "import tkseem as tk\n",
    "import gensim"
   ]
  },
  {
   "cell_type": "code",
   "execution_count": 2,
   "id": "b9b8013d",
   "metadata": {},
   "outputs": [
    {
     "data": {
      "text/html": [
       "<div>\n",
       "<style scoped>\n",
       "    .dataframe tbody tr th:only-of-type {\n",
       "        vertical-align: middle;\n",
       "    }\n",
       "\n",
       "    .dataframe tbody tr th {\n",
       "        vertical-align: top;\n",
       "    }\n",
       "\n",
       "    .dataframe thead th {\n",
       "        text-align: right;\n",
       "    }\n",
       "</style>\n",
       "<table border=\"1\" class=\"dataframe\">\n",
       "  <thead>\n",
       "    <tr style=\"text-align: right;\">\n",
       "      <th></th>\n",
       "      <th>poem_text</th>\n",
       "    </tr>\n",
       "  </thead>\n",
       "  <tbody>\n",
       "    <tr>\n",
       "      <th>0</th>\n",
       "      <td>عيناك غابتا نخيل ساعة السحر او شرفتان راح يناي...</td>\n",
       "    </tr>\n",
       "    <tr>\n",
       "      <th>1</th>\n",
       "      <td>انا لا ازال و في يدي قدحي ياليل اين تفرق الشر...</td>\n",
       "    </tr>\n",
       "    <tr>\n",
       "      <th>2</th>\n",
       "      <td>علي مقلتيك ارتشفت النجوم وعانقت امالي الايبة ...</td>\n",
       "    </tr>\n",
       "    <tr>\n",
       "      <th>3</th>\n",
       "      <td>اساطير من حشرجات الزمان نسيج اليد البالية رواه...</td>\n",
       "    </tr>\n",
       "    <tr>\n",
       "      <th>4</th>\n",
       "      <td>والتف حولك ساعداي ومال جيدك في اشتهاء كالزهرة ...</td>\n",
       "    </tr>\n",
       "  </tbody>\n",
       "</table>\n",
       "</div>"
      ],
      "text/plain": [
       "                                           poem_text\n",
       "0  عيناك غابتا نخيل ساعة السحر او شرفتان راح يناي...\n",
       "1   انا لا ازال و في يدي قدحي ياليل اين تفرق الشر...\n",
       "2   علي مقلتيك ارتشفت النجوم وعانقت امالي الايبة ...\n",
       "3  اساطير من حشرجات الزمان نسيج اليد البالية رواه...\n",
       "4  والتف حولك ساعداي ومال جيدك في اشتهاء كالزهرة ..."
      ]
     },
     "execution_count": 2,
     "metadata": {},
     "output_type": "execute_result"
    }
   ],
   "source": [
    "df = pd.read_csv('all_poems_clean.csv')\n",
    "df['poem_text'] = df['poem_text'].astype(str)\n",
    "df.head()"
   ]
  },
  {
   "cell_type": "markdown",
   "id": "e2c18ffe",
   "metadata": {},
   "source": [
    "## Morphological Tokenizer"
   ]
  },
  {
   "cell_type": "code",
   "execution_count": 3,
   "id": "c8254d83",
   "metadata": {},
   "outputs": [
    {
     "name": "stdout",
     "output_type": "stream",
     "text": [
      "Training MorphologicalTokenizer ...\n"
     ]
    }
   ],
   "source": [
    "morph_tokenizer = tk.MorphologicalTokenizer(vocab_size=1_000_000)\n",
    "\n",
    "morph_tokenizer.train()"
   ]
  },
  {
   "cell_type": "code",
   "execution_count": 4,
   "id": "1285bb88",
   "metadata": {},
   "outputs": [
    {
     "data": {
      "text/html": [
       "<div>\n",
       "<style scoped>\n",
       "    .dataframe tbody tr th:only-of-type {\n",
       "        vertical-align: middle;\n",
       "    }\n",
       "\n",
       "    .dataframe tbody tr th {\n",
       "        vertical-align: top;\n",
       "    }\n",
       "\n",
       "    .dataframe thead th {\n",
       "        text-align: right;\n",
       "    }\n",
       "</style>\n",
       "<table border=\"1\" class=\"dataframe\">\n",
       "  <thead>\n",
       "    <tr style=\"text-align: right;\">\n",
       "      <th></th>\n",
       "      <th>poem_text</th>\n",
       "      <th>morph_t</th>\n",
       "    </tr>\n",
       "  </thead>\n",
       "  <tbody>\n",
       "    <tr>\n",
       "      <th>0</th>\n",
       "      <td>عيناك غابتا نخيل ساعة السحر او شرفتان راح يناي...</td>\n",
       "      <td>[عينا, ##ك, غابتا, نخيل, ساعة, ال, ##سحر, &lt;UNK...</td>\n",
       "    </tr>\n",
       "    <tr>\n",
       "      <th>1</th>\n",
       "      <td>انا لا ازال و في يدي قدحي ياليل اين تفرق الشر...</td>\n",
       "      <td>[&lt;UNK&gt;, لا, &lt;UNK&gt;, و, في, يدي, قدحي, ياليل, &lt;U...</td>\n",
       "    </tr>\n",
       "    <tr>\n",
       "      <th>2</th>\n",
       "      <td>علي مقلتيك ارتشفت النجوم وعانقت امالي الايبة ...</td>\n",
       "      <td>[علي, مقلتي, ##ك, ارتشفت, النج, ##و, ##م, وعا,...</td>\n",
       "    </tr>\n",
       "    <tr>\n",
       "      <th>3</th>\n",
       "      <td>اساطير من حشرجات الزمان نسيج اليد البالية رواه...</td>\n",
       "      <td>[اساط, ##ير, من, حشرجات, ال, ##زمان, نسيج, ال,...</td>\n",
       "    </tr>\n",
       "    <tr>\n",
       "      <th>4</th>\n",
       "      <td>والتف حولك ساعداي ومال جيدك في اشتهاء كالزهرة ...</td>\n",
       "      <td>[والت, ##ف, حول, ##ك, ساعدا, ##ي, وم, ##ال, جي...</td>\n",
       "    </tr>\n",
       "  </tbody>\n",
       "</table>\n",
       "</div>"
      ],
      "text/plain": [
       "                                           poem_text  \\\n",
       "0  عيناك غابتا نخيل ساعة السحر او شرفتان راح يناي...   \n",
       "1   انا لا ازال و في يدي قدحي ياليل اين تفرق الشر...   \n",
       "2   علي مقلتيك ارتشفت النجوم وعانقت امالي الايبة ...   \n",
       "3  اساطير من حشرجات الزمان نسيج اليد البالية رواه...   \n",
       "4  والتف حولك ساعداي ومال جيدك في اشتهاء كالزهرة ...   \n",
       "\n",
       "                                             morph_t  \n",
       "0  [عينا, ##ك, غابتا, نخيل, ساعة, ال, ##سحر, <UNK...  \n",
       "1  [<UNK>, لا, <UNK>, و, في, يدي, قدحي, ياليل, <U...  \n",
       "2  [علي, مقلتي, ##ك, ارتشفت, النج, ##و, ##م, وعا,...  \n",
       "3  [اساط, ##ير, من, حشرجات, ال, ##زمان, نسيج, ال,...  \n",
       "4  [والت, ##ف, حول, ##ك, ساعدا, ##ي, وم, ##ال, جي...  "
      ]
     },
     "execution_count": 4,
     "metadata": {},
     "output_type": "execute_result"
    }
   ],
   "source": [
    "def tokenize_text_morph(text):\n",
    "    return morph_tokenizer.tokenize(text)\n",
    "\n",
    "df['morph_t'] = df.poem_text.apply(tokenize_text_morph)\n",
    "df.head()"
   ]
  },
  {
   "cell_type": "code",
   "execution_count": 5,
   "id": "bea62c3e",
   "metadata": {},
   "outputs": [],
   "source": [
    "morph_model = gensim.models.Word2Vec(\n",
    "    df['morph_t'],\n",
    "    window=5,\n",
    "    min_count=4,\n",
    "    workers=8)"
   ]
  },
  {
   "cell_type": "code",
   "execution_count": 6,
   "id": "69cd5cc5",
   "metadata": {},
   "outputs": [
    {
     "data": {
      "text/plain": [
       "[('غيوم', 0.8489223718643188),\n",
       " ('مياه', 0.828999400138855),\n",
       " ('عصفورة', 0.8215725421905518),\n",
       " ('عشب', 0.8178067803382874),\n",
       " ('فراشات', 0.8166794180870056),\n",
       " ('دفء', 0.8151868581771851),\n",
       " ('زجاج', 0.8145820498466492),\n",
       " ('مطر', 0.8118013143539429),\n",
       " ('رعشة', 0.8115999102592468),\n",
       " ('غيمة', 0.8035085797309875)]"
      ]
     },
     "execution_count": 6,
     "metadata": {},
     "output_type": "execute_result"
    }
   ],
   "source": [
    "morph_model.wv.most_similar(positive='ثلج')"
   ]
  },
  {
   "cell_type": "code",
   "execution_count": 7,
   "id": "1f7c1292",
   "metadata": {},
   "outputs": [],
   "source": [
    "morph_model.save('models/morph_word2vec_model.model')"
   ]
  },
  {
   "cell_type": "markdown",
   "id": "3696fada",
   "metadata": {},
   "source": [
    "## Word Tokenizer"
   ]
  },
  {
   "cell_type": "code",
   "execution_count": 8,
   "id": "06708a00",
   "metadata": {},
   "outputs": [
    {
     "name": "stdout",
     "output_type": "stream",
     "text": [
      "Training WordTokenizer ...\n"
     ]
    }
   ],
   "source": [
    "word_tokenizer = tk.WordTokenizer()\n",
    "\n",
    "df['poem_text'].to_csv('data.txt', sep=' ', index=False, header=False)\n",
    "word_tokenizer.train('data.txt')"
   ]
  },
  {
   "cell_type": "code",
   "execution_count": 9,
   "id": "17b3cdfe",
   "metadata": {},
   "outputs": [
    {
     "data": {
      "text/html": [
       "<div>\n",
       "<style scoped>\n",
       "    .dataframe tbody tr th:only-of-type {\n",
       "        vertical-align: middle;\n",
       "    }\n",
       "\n",
       "    .dataframe tbody tr th {\n",
       "        vertical-align: top;\n",
       "    }\n",
       "\n",
       "    .dataframe thead th {\n",
       "        text-align: right;\n",
       "    }\n",
       "</style>\n",
       "<table border=\"1\" class=\"dataframe\">\n",
       "  <thead>\n",
       "    <tr style=\"text-align: right;\">\n",
       "      <th></th>\n",
       "      <th>poem_text</th>\n",
       "      <th>morph_t</th>\n",
       "      <th>word_t</th>\n",
       "    </tr>\n",
       "  </thead>\n",
       "  <tbody>\n",
       "    <tr>\n",
       "      <th>0</th>\n",
       "      <td>عيناك غابتا نخيل ساعة السحر او شرفتان راح يناي...</td>\n",
       "      <td>[عينا, ##ك, غابتا, نخيل, ساعة, ال, ##سحر, &lt;UNK...</td>\n",
       "      <td>[عيناك, &lt;UNK&gt;, نخيل, ساعة, السحر, او, &lt;UNK&gt;, ر...</td>\n",
       "    </tr>\n",
       "    <tr>\n",
       "      <th>1</th>\n",
       "      <td>انا لا ازال و في يدي قدحي ياليل اين تفرق الشر...</td>\n",
       "      <td>[&lt;UNK&gt;, لا, &lt;UNK&gt;, و, في, يدي, قدحي, ياليل, &lt;U...</td>\n",
       "      <td>[انا, لا, ازال, و, في, يدي, &lt;UNK&gt;, &lt;UNK&gt;, اين,...</td>\n",
       "    </tr>\n",
       "    <tr>\n",
       "      <th>2</th>\n",
       "      <td>علي مقلتيك ارتشفت النجوم وعانقت امالي الايبة ...</td>\n",
       "      <td>[علي, مقلتي, ##ك, ارتشفت, النج, ##و, ##م, وعا,...</td>\n",
       "      <td>[علي, مقلتيك, &lt;UNK&gt;, النجوم, &lt;UNK&gt;, امالي, &lt;UN...</td>\n",
       "    </tr>\n",
       "    <tr>\n",
       "      <th>3</th>\n",
       "      <td>اساطير من حشرجات الزمان نسيج اليد البالية رواه...</td>\n",
       "      <td>[اساط, ##ير, من, حشرجات, ال, ##زمان, نسيج, ال,...</td>\n",
       "      <td>[&lt;UNK&gt;, من, &lt;UNK&gt;, الزمان, &lt;UNK&gt;, اليد, &lt;UNK&gt;,...</td>\n",
       "    </tr>\n",
       "    <tr>\n",
       "      <th>4</th>\n",
       "      <td>والتف حولك ساعداي ومال جيدك في اشتهاء كالزهرة ...</td>\n",
       "      <td>[والت, ##ف, حول, ##ك, ساعدا, ##ي, وم, ##ال, جي...</td>\n",
       "      <td>[&lt;UNK&gt;, حولك, &lt;UNK&gt;, ومال, &lt;UNK&gt;, في, &lt;UNK&gt;, &lt;...</td>\n",
       "    </tr>\n",
       "  </tbody>\n",
       "</table>\n",
       "</div>"
      ],
      "text/plain": [
       "                                           poem_text  \\\n",
       "0  عيناك غابتا نخيل ساعة السحر او شرفتان راح يناي...   \n",
       "1   انا لا ازال و في يدي قدحي ياليل اين تفرق الشر...   \n",
       "2   علي مقلتيك ارتشفت النجوم وعانقت امالي الايبة ...   \n",
       "3  اساطير من حشرجات الزمان نسيج اليد البالية رواه...   \n",
       "4  والتف حولك ساعداي ومال جيدك في اشتهاء كالزهرة ...   \n",
       "\n",
       "                                             morph_t  \\\n",
       "0  [عينا, ##ك, غابتا, نخيل, ساعة, ال, ##سحر, <UNK...   \n",
       "1  [<UNK>, لا, <UNK>, و, في, يدي, قدحي, ياليل, <U...   \n",
       "2  [علي, مقلتي, ##ك, ارتشفت, النج, ##و, ##م, وعا,...   \n",
       "3  [اساط, ##ير, من, حشرجات, ال, ##زمان, نسيج, ال,...   \n",
       "4  [والت, ##ف, حول, ##ك, ساعدا, ##ي, وم, ##ال, جي...   \n",
       "\n",
       "                                              word_t  \n",
       "0  [عيناك, <UNK>, نخيل, ساعة, السحر, او, <UNK>, ر...  \n",
       "1  [انا, لا, ازال, و, في, يدي, <UNK>, <UNK>, اين,...  \n",
       "2  [علي, مقلتيك, <UNK>, النجوم, <UNK>, امالي, <UN...  \n",
       "3  [<UNK>, من, <UNK>, الزمان, <UNK>, اليد, <UNK>,...  \n",
       "4  [<UNK>, حولك, <UNK>, ومال, <UNK>, في, <UNK>, <...  "
      ]
     },
     "execution_count": 9,
     "metadata": {},
     "output_type": "execute_result"
    }
   ],
   "source": [
    "def tokenize_text_word(text):\n",
    "    return word_tokenizer.tokenize(text)\n",
    "\n",
    "df['word_t'] = df.poem_text.apply(tokenize_text_word)\n",
    "df.head()"
   ]
  },
  {
   "cell_type": "code",
   "execution_count": 10,
   "id": "5b6fa9a4",
   "metadata": {},
   "outputs": [],
   "source": [
    "word_model = gensim.models.Word2Vec(\n",
    "    df['word_t'],\n",
    "    window=5,\n",
    "    min_count=4,\n",
    "    workers=8)"
   ]
  },
  {
   "cell_type": "code",
   "execution_count": 11,
   "id": "c33e45b2",
   "metadata": {},
   "outputs": [
    {
     "data": {
      "text/plain": [
       "[('عشب', 0.852849006652832),\n",
       " ('غيوم', 0.8387935757637024),\n",
       " ('رمال', 0.8382418155670166),\n",
       " ('حقول', 0.8328996896743774),\n",
       " ('فراشات', 0.829628050327301),\n",
       " ('غابات', 0.829126238822937),\n",
       " ('صحراء', 0.8254602551460266),\n",
       " ('حفيف', 0.8176856637001038),\n",
       " ('امواج', 0.8134438395500183),\n",
       " ('هدير', 0.8122962117195129)]"
      ]
     },
     "execution_count": 11,
     "metadata": {},
     "output_type": "execute_result"
    }
   ],
   "source": [
    "word_model.wv.most_similar(positive='ثلج')"
   ]
  },
  {
   "cell_type": "code",
   "execution_count": 12,
   "id": "752f8a20",
   "metadata": {},
   "outputs": [],
   "source": [
    "word_model.save('models/word_word2vec_model.model')"
   ]
  },
  {
   "cell_type": "markdown",
   "id": "c4dd5a91",
   "metadata": {},
   "source": [
    "## Sentence Piece Tokenization"
   ]
  },
  {
   "cell_type": "code",
   "execution_count": 13,
   "id": "5e5e02e3",
   "metadata": {},
   "outputs": [
    {
     "name": "stderr",
     "output_type": "stream",
     "text": [
      "sentencepiece_trainer.cc(78) LOG(INFO) Starts training with : \n",
      "trainer_spec {\n",
      "  input_format: \n",
      "  model_prefix: models/sp_poem_model\n",
      "  model_type: UNIGRAM\n",
      "  vocab_size: 20000\n",
      "  self_test_sample_size: 0\n",
      "  character_coverage: 0.9995\n",
      "  input_sentence_size: 0\n",
      "  shuffle_input_sentence: 1\n",
      "  seed_sentencepiece_size: 1000000\n",
      "  shrinking_factor: 0.75\n",
      "  max_sentence_length: 4192\n",
      "  num_threads: 16\n",
      "  num_sub_iterations: 2\n",
      "  max_sentencepiece_length: 16\n",
      "  split_by_unicode_script: 1\n",
      "  split_by_number: 1\n",
      "  split_by_whitespace: 1\n",
      "  split_digits: 0\n",
      "  pretokenization_delimiter: \n",
      "  treat_whitespace_as_suffix: 0\n",
      "  allow_whitespace_only_pieces: 0\n",
      "  required_chars: \n",
      "  byte_fallback: 0\n",
      "  vocabulary_output_piece_score: 1\n",
      "  train_extremely_large_corpus: 0\n",
      "  seed_sentencepieces_file: \n",
      "  hard_vocab_limit: 1\n",
      "  use_all_vocab: 0\n",
      "  unk_id: 1\n",
      "  bos_id: 2\n",
      "  eos_id: 3\n",
      "  pad_id: 0\n",
      "  unk_piece: <unk>\n",
      "  bos_piece: <s>\n",
      "  eos_piece: </s>\n",
      "  pad_piece: <pad>\n",
      "  unk_surface:  ⁇ \n",
      "  enable_differential_privacy: 0\n",
      "  differential_privacy_noise_level: 0\n",
      "  differential_privacy_clipping_threshold: 0\n",
      "}\n",
      "normalizer_spec {\n",
      "  name: nmt_nfkc\n",
      "  add_dummy_prefix: 1\n",
      "  remove_extra_whitespaces: 1\n",
      "  escape_whitespaces: 1\n",
      "  normalization_rule_tsv: \n",
      "}\n",
      "denormalizer_spec {}\n",
      "trainer_interface.cc(380) LOG(WARNING) Found too long line (4744 > 4192).\n",
      "trainer_interface.cc(382) LOG(WARNING) Too long lines are skipped in the training.\n",
      "trainer_interface.cc(383) LOG(WARNING) The maximum length can be changed with --max_sentence_length=<size> flag.\n",
      "trainer_interface.cc(409) LOG(INFO) Loaded all 54077 sentences\n",
      "trainer_interface.cc(416) LOG(INFO) Skipped 3943 too long sentences.\n",
      "trainer_interface.cc(425) LOG(INFO) Adding meta_piece: <pad>\n",
      "trainer_interface.cc(425) LOG(INFO) Adding meta_piece: <unk>\n",
      "trainer_interface.cc(425) LOG(INFO) Adding meta_piece: <s>\n",
      "trainer_interface.cc(425) LOG(INFO) Adding meta_piece: </s>\n",
      "trainer_interface.cc(430) LOG(INFO) Normalizing sentences...\n",
      "trainer_interface.cc(539) LOG(INFO) all chars count=29481303\n",
      "trainer_interface.cc(550) LOG(INFO) Done: 99.9535% characters are covered.\n",
      "trainer_interface.cc(560) LOG(INFO) Alphabet size=45\n",
      "trainer_interface.cc(561) LOG(INFO) Final character coverage=0.999535\n",
      "trainer_interface.cc(592) LOG(INFO) Done! preprocessed 54077 sentences.\n",
      "unigram_model_trainer.cc(265) LOG(INFO) Making suffix array...\n",
      "unigram_model_trainer.cc(269) LOG(INFO) Extracting frequent sub strings... node_num=13168545\n",
      "unigram_model_trainer.cc(312) LOG(INFO) Initialized 401633 seed sentencepieces\n",
      "trainer_interface.cc(598) LOG(INFO) Tokenizing input sentences with whitespace: 54077\n",
      "trainer_interface.cc(609) LOG(INFO) Done! 420824\n",
      "unigram_model_trainer.cc(602) LOG(INFO) Using 420824 sentences for EM training\n",
      "unigram_model_trainer.cc(618) LOG(INFO) EM sub_iter=0 size=223810 obj=11.7655 num_tokens=731751 num_tokens/piece=3.26952\n",
      "unigram_model_trainer.cc(618) LOG(INFO) EM sub_iter=1 size=187714 obj=10.5503 num_tokens=738038 num_tokens/piece=3.93172\n",
      "unigram_model_trainer.cc(618) LOG(INFO) EM sub_iter=0 size=140739 obj=10.4411 num_tokens=767412 num_tokens/piece=5.45273\n",
      "unigram_model_trainer.cc(618) LOG(INFO) EM sub_iter=1 size=140436 obj=10.3977 num_tokens=768450 num_tokens/piece=5.47189\n",
      "unigram_model_trainer.cc(618) LOG(INFO) EM sub_iter=0 size=105327 obj=10.4456 num_tokens=816348 num_tokens/piece=7.75061\n",
      "unigram_model_trainer.cc(618) LOG(INFO) EM sub_iter=1 size=105324 obj=10.4216 num_tokens=817236 num_tokens/piece=7.75926\n",
      "unigram_model_trainer.cc(618) LOG(INFO) EM sub_iter=0 size=78993 obj=10.5063 num_tokens=864828 num_tokens/piece=10.9482\n",
      "unigram_model_trainer.cc(618) LOG(INFO) EM sub_iter=1 size=78993 obj=10.4751 num_tokens=866164 num_tokens/piece=10.9651\n",
      "unigram_model_trainer.cc(618) LOG(INFO) EM sub_iter=0 size=59244 obj=10.5934 num_tokens=912544 num_tokens/piece=15.4031\n",
      "unigram_model_trainer.cc(618) LOG(INFO) EM sub_iter=1 size=59244 obj=10.5535 num_tokens=912566 num_tokens/piece=15.4035\n",
      "unigram_model_trainer.cc(618) LOG(INFO) EM sub_iter=0 size=44433 obj=10.7021 num_tokens=956883 num_tokens/piece=21.5354\n",
      "unigram_model_trainer.cc(618) LOG(INFO) EM sub_iter=1 size=44433 obj=10.6548 num_tokens=956870 num_tokens/piece=21.5351\n",
      "unigram_model_trainer.cc(618) LOG(INFO) EM sub_iter=0 size=33324 obj=10.8268 num_tokens=999790 num_tokens/piece=30.0021\n",
      "unigram_model_trainer.cc(618) LOG(INFO) EM sub_iter=1 size=33324 obj=10.7718 num_tokens=999743 num_tokens/piece=30.0007\n",
      "unigram_model_trainer.cc(618) LOG(INFO) EM sub_iter=0 size=24993 obj=10.9715 num_tokens=1041615 num_tokens/piece=41.6763\n",
      "unigram_model_trainer.cc(618) LOG(INFO) EM sub_iter=1 size=24993 obj=10.9097 num_tokens=1041350 num_tokens/piece=41.6657\n",
      "unigram_model_trainer.cc(618) LOG(INFO) EM sub_iter=0 size=22000 obj=10.9998 num_tokens=1059641 num_tokens/piece=48.1655\n",
      "unigram_model_trainer.cc(618) LOG(INFO) EM sub_iter=1 size=22000 obj=10.9732 num_tokens=1059786 num_tokens/piece=48.1721\n",
      "trainer_interface.cc(687) LOG(INFO) Saving model: models/sp_poem_model.model\n",
      "trainer_interface.cc(699) LOG(INFO) Saving vocabs: models/sp_poem_model.vocab\n"
     ]
    }
   ],
   "source": [
    "sp.SentencePieceTrainer.train(\n",
    "    sentence_iterator=iter(df['poem_text'].values),\n",
    "    model_prefix='models/sp_poem_model',\n",
    "    vocab_size=20_000,\n",
    "    pad_id=0,\n",
    "    unk_id=1,\n",
    "    bos_id=2,\n",
    "    eos_id=3\n",
    ")"
   ]
  },
  {
   "cell_type": "code",
   "execution_count": 14,
   "id": "2bc7cd74",
   "metadata": {},
   "outputs": [],
   "source": [
    "spp = sp.SentencePieceProcessor(model_file='models/sp_poem_model.model')"
   ]
  },
  {
   "cell_type": "code",
   "execution_count": 15,
   "id": "da5a8d79",
   "metadata": {},
   "outputs": [
    {
     "data": {
      "text/html": [
       "<div>\n",
       "<style scoped>\n",
       "    .dataframe tbody tr th:only-of-type {\n",
       "        vertical-align: middle;\n",
       "    }\n",
       "\n",
       "    .dataframe tbody tr th {\n",
       "        vertical-align: top;\n",
       "    }\n",
       "\n",
       "    .dataframe thead th {\n",
       "        text-align: right;\n",
       "    }\n",
       "</style>\n",
       "<table border=\"1\" class=\"dataframe\">\n",
       "  <thead>\n",
       "    <tr style=\"text-align: right;\">\n",
       "      <th></th>\n",
       "      <th>poem_text</th>\n",
       "      <th>morph_t</th>\n",
       "      <th>word_t</th>\n",
       "      <th>sp_t</th>\n",
       "    </tr>\n",
       "  </thead>\n",
       "  <tbody>\n",
       "    <tr>\n",
       "      <th>0</th>\n",
       "      <td>عيناك غابتا نخيل ساعة السحر او شرفتان راح يناي...</td>\n",
       "      <td>[عينا, ##ك, غابتا, نخيل, ساعة, ال, ##سحر, &lt;UNK...</td>\n",
       "      <td>[عيناك, &lt;UNK&gt;, نخيل, ساعة, السحر, او, &lt;UNK&gt;, ر...</td>\n",
       "      <td>[▁عيناك, ▁غابت, ا, ▁نخيل, ▁ساعة, ▁السحر, ▁او, ...</td>\n",
       "    </tr>\n",
       "    <tr>\n",
       "      <th>1</th>\n",
       "      <td>انا لا ازال و في يدي قدحي ياليل اين تفرق الشر...</td>\n",
       "      <td>[&lt;UNK&gt;, لا, &lt;UNK&gt;, و, في, يدي, قدحي, ياليل, &lt;U...</td>\n",
       "      <td>[انا, لا, ازال, و, في, يدي, &lt;UNK&gt;, &lt;UNK&gt;, اين,...</td>\n",
       "      <td>[▁انا, ▁لا, ▁ازال, ▁و, ▁في, ▁يدي, ▁قد, حي, ▁يا...</td>\n",
       "    </tr>\n",
       "    <tr>\n",
       "      <th>2</th>\n",
       "      <td>علي مقلتيك ارتشفت النجوم وعانقت امالي الايبة ...</td>\n",
       "      <td>[علي, مقلتي, ##ك, ارتشفت, النج, ##و, ##م, وعا,...</td>\n",
       "      <td>[علي, مقلتيك, &lt;UNK&gt;, النجوم, &lt;UNK&gt;, امالي, &lt;UN...</td>\n",
       "      <td>[▁علي, ▁مقلتيك, ▁ا, رتشف, ت, ▁النجوم, ▁و, عانق...</td>\n",
       "    </tr>\n",
       "    <tr>\n",
       "      <th>3</th>\n",
       "      <td>اساطير من حشرجات الزمان نسيج اليد البالية رواه...</td>\n",
       "      <td>[اساط, ##ير, من, حشرجات, ال, ##زمان, نسيج, ال,...</td>\n",
       "      <td>[&lt;UNK&gt;, من, &lt;UNK&gt;, الزمان, &lt;UNK&gt;, اليد, &lt;UNK&gt;,...</td>\n",
       "      <td>[▁اساطير, ▁من, ▁حشر, جات, ▁الزمان, ▁نسيج, ▁الي...</td>\n",
       "    </tr>\n",
       "    <tr>\n",
       "      <th>4</th>\n",
       "      <td>والتف حولك ساعداي ومال جيدك في اشتهاء كالزهرة ...</td>\n",
       "      <td>[والت, ##ف, حول, ##ك, ساعدا, ##ي, وم, ##ال, جي...</td>\n",
       "      <td>[&lt;UNK&gt;, حولك, &lt;UNK&gt;, ومال, &lt;UNK&gt;, في, &lt;UNK&gt;, &lt;...</td>\n",
       "      <td>[▁والتف, ▁حولك, ▁ساعد, ا, ي, ▁ومال, ▁جيد, ك, ▁...</td>\n",
       "    </tr>\n",
       "  </tbody>\n",
       "</table>\n",
       "</div>"
      ],
      "text/plain": [
       "                                           poem_text  \\\n",
       "0  عيناك غابتا نخيل ساعة السحر او شرفتان راح يناي...   \n",
       "1   انا لا ازال و في يدي قدحي ياليل اين تفرق الشر...   \n",
       "2   علي مقلتيك ارتشفت النجوم وعانقت امالي الايبة ...   \n",
       "3  اساطير من حشرجات الزمان نسيج اليد البالية رواه...   \n",
       "4  والتف حولك ساعداي ومال جيدك في اشتهاء كالزهرة ...   \n",
       "\n",
       "                                             morph_t  \\\n",
       "0  [عينا, ##ك, غابتا, نخيل, ساعة, ال, ##سحر, <UNK...   \n",
       "1  [<UNK>, لا, <UNK>, و, في, يدي, قدحي, ياليل, <U...   \n",
       "2  [علي, مقلتي, ##ك, ارتشفت, النج, ##و, ##م, وعا,...   \n",
       "3  [اساط, ##ير, من, حشرجات, ال, ##زمان, نسيج, ال,...   \n",
       "4  [والت, ##ف, حول, ##ك, ساعدا, ##ي, وم, ##ال, جي...   \n",
       "\n",
       "                                              word_t  \\\n",
       "0  [عيناك, <UNK>, نخيل, ساعة, السحر, او, <UNK>, ر...   \n",
       "1  [انا, لا, ازال, و, في, يدي, <UNK>, <UNK>, اين,...   \n",
       "2  [علي, مقلتيك, <UNK>, النجوم, <UNK>, امالي, <UN...   \n",
       "3  [<UNK>, من, <UNK>, الزمان, <UNK>, اليد, <UNK>,...   \n",
       "4  [<UNK>, حولك, <UNK>, ومال, <UNK>, في, <UNK>, <...   \n",
       "\n",
       "                                                sp_t  \n",
       "0  [▁عيناك, ▁غابت, ا, ▁نخيل, ▁ساعة, ▁السحر, ▁او, ...  \n",
       "1  [▁انا, ▁لا, ▁ازال, ▁و, ▁في, ▁يدي, ▁قد, حي, ▁يا...  \n",
       "2  [▁علي, ▁مقلتيك, ▁ا, رتشف, ت, ▁النجوم, ▁و, عانق...  \n",
       "3  [▁اساطير, ▁من, ▁حشر, جات, ▁الزمان, ▁نسيج, ▁الي...  \n",
       "4  [▁والتف, ▁حولك, ▁ساعد, ا, ي, ▁ومال, ▁جيد, ك, ▁...  "
      ]
     },
     "execution_count": 15,
     "metadata": {},
     "output_type": "execute_result"
    }
   ],
   "source": [
    "def tokenize_text_sp(text):\n",
    "    return spp.encode(text, out_type=str)\n",
    "\n",
    "df['sp_t'] = df.poem_text.apply(tokenize_text_sp)\n",
    "df.head()"
   ]
  },
  {
   "cell_type": "code",
   "execution_count": 16,
   "id": "faa347d0",
   "metadata": {},
   "outputs": [],
   "source": [
    "sp_model = gensim.models.Word2Vec(\n",
    "    df['sp_t'],\n",
    "    window=5,\n",
    "    min_count=4,\n",
    "    workers=8)"
   ]
  },
  {
   "cell_type": "code",
   "execution_count": 17,
   "id": "0c3b92fa",
   "metadata": {},
   "outputs": [
    {
     "data": {
      "text/plain": [
       "[('جمر', 0.895128071308136),\n",
       " ('شجر', 0.8804960250854492),\n",
       " ('جرح', 0.8716637492179871),\n",
       " ('عواصف', 0.8712381720542908),\n",
       " ('نهر', 0.870846688747406),\n",
       " ('قطر', 0.8692343831062317),\n",
       " ('عسل', 0.8649084568023682),\n",
       " ('شذي', 0.8648107647895813),\n",
       " ('عصفور', 0.863004744052887),\n",
       " ('سنابل', 0.8572863936424255)]"
      ]
     },
     "execution_count": 17,
     "metadata": {},
     "output_type": "execute_result"
    }
   ],
   "source": [
    "sp_model.wv.most_similar(positive='ثلج')"
   ]
  },
  {
   "cell_type": "code",
   "execution_count": 18,
   "id": "dba1d8e2",
   "metadata": {},
   "outputs": [],
   "source": [
    "sp_model.save('models/sp_word2vec_model.model')"
   ]
  },
  {
   "cell_type": "markdown",
   "id": "7534940c",
   "metadata": {},
   "source": [
    "## Save Updated Data"
   ]
  },
  {
   "cell_type": "code",
   "execution_count": 19,
   "id": "4525b28c",
   "metadata": {},
   "outputs": [],
   "source": [
    "df.to_csv('all_poems_tokenized.csv', index=False)"
   ]
  }
 ],
 "metadata": {
  "kernelspec": {
   "display_name": "Python 3 (ipykernel)",
   "language": "python",
   "name": "python3"
  },
  "language_info": {
   "codemirror_mode": {
    "name": "ipython",
    "version": 3
   },
   "file_extension": ".py",
   "mimetype": "text/x-python",
   "name": "python",
   "nbconvert_exporter": "python",
   "pygments_lexer": "ipython3",
   "version": "3.11.4"
  }
 },
 "nbformat": 4,
 "nbformat_minor": 5
}

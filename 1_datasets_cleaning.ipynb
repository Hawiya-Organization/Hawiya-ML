{
 "cells": [
  {
   "cell_type": "markdown",
   "id": "e5fef4f7",
   "metadata": {},
   "source": [
    "## Imports"
   ]
  },
  {
   "cell_type": "code",
   "execution_count": 1,
   "id": "b4b132c9",
   "metadata": {},
   "outputs": [],
   "source": [
    "import pandas as pd\n",
    "import numpy as np\n",
    "\n",
    "import re"
   ]
  },
  {
   "cell_type": "code",
   "execution_count": 2,
   "id": "de75d118",
   "metadata": {
    "scrolled": true
   },
   "outputs": [
    {
     "data": {
      "text/html": [
       "<div>\n",
       "<style scoped>\n",
       "    .dataframe tbody tr th:only-of-type {\n",
       "        vertical-align: middle;\n",
       "    }\n",
       "\n",
       "    .dataframe tbody tr th {\n",
       "        vertical-align: top;\n",
       "    }\n",
       "\n",
       "    .dataframe thead th {\n",
       "        text-align: right;\n",
       "    }\n",
       "</style>\n",
       "<table border=\"1\" class=\"dataframe\">\n",
       "  <thead>\n",
       "    <tr style=\"text-align: right;\">\n",
       "      <th></th>\n",
       "      <th>العصر</th>\n",
       "      <th>الشاعر</th>\n",
       "      <th>الديوان</th>\n",
       "      <th>القافية</th>\n",
       "      <th>البحر</th>\n",
       "      <th>الشطر الايسر</th>\n",
       "      <th>الشطر الايمن</th>\n",
       "      <th>البيت</th>\n",
       "    </tr>\n",
       "  </thead>\n",
       "  <tbody>\n",
       "    <tr>\n",
       "      <th>0</th>\n",
       "      <td>قبل الإسلام</td>\n",
       "      <td>عمرو بنِ قُمَيئَة</td>\n",
       "      <td>الديوان الرئيسي</td>\n",
       "      <td>د</td>\n",
       "      <td>الطويل</td>\n",
       "      <td>وَأَن تَجمَعا شَملي وَتَنتَظِرا غَدا</td>\n",
       "      <td>خَليلَيَّ لا تَستَعجِلا أَن تَزَوَّدا</td>\n",
       "      <td>خَليلَيَّ لا تَستَعجِلا أَن تَزَوَّدا    وَأَن...</td>\n",
       "    </tr>\n",
       "    <tr>\n",
       "      <th>1</th>\n",
       "      <td>قبل الإسلام</td>\n",
       "      <td>عمرو بنِ قُمَيئَة</td>\n",
       "      <td>الديوان الرئيسي</td>\n",
       "      <td>د</td>\n",
       "      <td>الطويل</td>\n",
       "      <td>وَلا سُرعَتي يَوماً بِسابِقَةِ الرَدى</td>\n",
       "      <td>فَما لَبَثٌ يَوماً بِسابِقٍ مَغنَمٍ</td>\n",
       "      <td>فَما لَبَثٌ يَوماً بِسابِقٍ مَغنَمٍ    وَلا سُ...</td>\n",
       "    </tr>\n",
       "    <tr>\n",
       "      <th>2</th>\n",
       "      <td>قبل الإسلام</td>\n",
       "      <td>عمرو بنِ قُمَيئَة</td>\n",
       "      <td>الديوان الرئيسي</td>\n",
       "      <td>د</td>\n",
       "      <td>الطويل</td>\n",
       "      <td>وَتَستَوجِبا مَنّاً عَلَيَّ وَتُحمَدا</td>\n",
       "      <td>وَإِن تُنظِراني اليَومَ أَقضِ لُبانَةً</td>\n",
       "      <td>وَإِن تُنظِراني اليَومَ أَقضِ لُبانَةً    وَتَ...</td>\n",
       "    </tr>\n",
       "    <tr>\n",
       "      <th>3</th>\n",
       "      <td>قبل الإسلام</td>\n",
       "      <td>عمرو بنِ قُمَيئَة</td>\n",
       "      <td>الديوان الرئيسي</td>\n",
       "      <td>د</td>\n",
       "      <td>الطويل</td>\n",
       "      <td>تُؤامِرُني سِرّاً لِأَصرِمَ مَرثَدا</td>\n",
       "      <td>لَعَمرُكَ ما نَفسٌ بِجِدٍ رَشيدَةٍ</td>\n",
       "      <td>لَعَمرُكَ ما نَفسٌ بِجِدٍ رَشيدَةٍ    تُؤامِرُ...</td>\n",
       "    </tr>\n",
       "    <tr>\n",
       "      <th>4</th>\n",
       "      <td>قبل الإسلام</td>\n",
       "      <td>عمرو بنِ قُمَيئَة</td>\n",
       "      <td>الديوان الرئيسي</td>\n",
       "      <td>د</td>\n",
       "      <td>الطويل</td>\n",
       "      <td>وَأَفرَعَ في لَومي مِراراً وَأَصعَدا</td>\n",
       "      <td>وَإِن ظَهَرَت مِنهُ قَوارِصُ جَمَّةٌ</td>\n",
       "      <td>وَإِن ظَهَرَت مِنهُ قَوارِصُ جَمَّةٌ    وَأَفر...</td>\n",
       "    </tr>\n",
       "  </tbody>\n",
       "</table>\n",
       "</div>"
      ],
      "text/plain": [
       "         العصر             الشاعر          الديوان القافية   البحر  \\\n",
       "0  قبل الإسلام  عمرو بنِ قُمَيئَة  الديوان الرئيسي       د  الطويل   \n",
       "1  قبل الإسلام  عمرو بنِ قُمَيئَة  الديوان الرئيسي       د  الطويل   \n",
       "2  قبل الإسلام  عمرو بنِ قُمَيئَة  الديوان الرئيسي       د  الطويل   \n",
       "3  قبل الإسلام  عمرو بنِ قُمَيئَة  الديوان الرئيسي       د  الطويل   \n",
       "4  قبل الإسلام  عمرو بنِ قُمَيئَة  الديوان الرئيسي       د  الطويل   \n",
       "\n",
       "                            الشطر الايسر  \\\n",
       "0   وَأَن تَجمَعا شَملي وَتَنتَظِرا غَدا   \n",
       "1  وَلا سُرعَتي يَوماً بِسابِقَةِ الرَدى   \n",
       "2  وَتَستَوجِبا مَنّاً عَلَيَّ وَتُحمَدا   \n",
       "3    تُؤامِرُني سِرّاً لِأَصرِمَ مَرثَدا   \n",
       "4   وَأَفرَعَ في لَومي مِراراً وَأَصعَدا   \n",
       "\n",
       "                             الشطر الايمن  \\\n",
       "0   خَليلَيَّ لا تَستَعجِلا أَن تَزَوَّدا   \n",
       "1     فَما لَبَثٌ يَوماً بِسابِقٍ مَغنَمٍ   \n",
       "2  وَإِن تُنظِراني اليَومَ أَقضِ لُبانَةً   \n",
       "3      لَعَمرُكَ ما نَفسٌ بِجِدٍ رَشيدَةٍ   \n",
       "4    وَإِن ظَهَرَت مِنهُ قَوارِصُ جَمَّةٌ   \n",
       "\n",
       "                                               البيت  \n",
       "0  خَليلَيَّ لا تَستَعجِلا أَن تَزَوَّدا    وَأَن...  \n",
       "1  فَما لَبَثٌ يَوماً بِسابِقٍ مَغنَمٍ    وَلا سُ...  \n",
       "2  وَإِن تُنظِراني اليَومَ أَقضِ لُبانَةً    وَتَ...  \n",
       "3  لَعَمرُكَ ما نَفسٌ بِجِدٍ رَشيدَةٍ    تُؤامِرُ...  \n",
       "4  وَإِن ظَهَرَت مِنهُ قَوارِصُ جَمَّةٌ    وَأَفر...  "
      ]
     },
     "execution_count": 2,
     "metadata": {},
     "output_type": "execute_result"
    }
   ],
   "source": [
    "df1 = pd.read_csv('all_poems.csv')\n",
    "df2 = pd.read_csv('apcd.csv')\n",
    "\n",
    "df2.head()"
   ]
  },
  {
   "cell_type": "code",
   "execution_count": 4,
   "id": "185f6498",
   "metadata": {},
   "outputs": [
    {
     "data": {
      "text/html": [
       "<div>\n",
       "<style scoped>\n",
       "    .dataframe tbody tr th:only-of-type {\n",
       "        vertical-align: middle;\n",
       "    }\n",
       "\n",
       "    .dataframe tbody tr th {\n",
       "        vertical-align: top;\n",
       "    }\n",
       "\n",
       "    .dataframe thead th {\n",
       "        text-align: right;\n",
       "    }\n",
       "</style>\n",
       "<table border=\"1\" class=\"dataframe\">\n",
       "  <thead>\n",
       "    <tr style=\"text-align: right;\">\n",
       "      <th></th>\n",
       "      <th>poem_id</th>\n",
       "      <th>poem_link</th>\n",
       "      <th>poem_style</th>\n",
       "      <th>poem_text</th>\n",
       "      <th>poem_title</th>\n",
       "      <th>poet_cat</th>\n",
       "      <th>poet_id</th>\n",
       "      <th>poet_link</th>\n",
       "      <th>poet_name</th>\n",
       "    </tr>\n",
       "  </thead>\n",
       "  <tbody>\n",
       "    <tr>\n",
       "      <th>0</th>\n",
       "      <td>21</td>\n",
       "      <td>http://www.adab.com/modules.php?name=Sh3er&amp;doW...</td>\n",
       "      <td>فصحى</td>\n",
       "      <td>عيناك غابتا نخيل ساعة السحر او شرفتان راح يناي...</td>\n",
       "      <td>أنشودة المطر</td>\n",
       "      <td>العراق</td>\n",
       "      <td>2</td>\n",
       "      <td>http://www.adab.com/modules.php?name=Sh3er&amp;doW...</td>\n",
       "      <td>بدر شاكر السياب</td>\n",
       "    </tr>\n",
       "    <tr>\n",
       "      <th>1</th>\n",
       "      <td>65546</td>\n",
       "      <td>http://www.adab.com/modules.php?name=Sh3er&amp;doW...</td>\n",
       "      <td>فصحى</td>\n",
       "      <td>انا لا ازال و في يدي قدحي ياليل اين تفرق الشر...</td>\n",
       "      <td>أقداح و أحلام</td>\n",
       "      <td>العراق</td>\n",
       "      <td>2</td>\n",
       "      <td>http://www.adab.com/modules.php?name=Sh3er&amp;doW...</td>\n",
       "      <td>بدر شاكر السياب</td>\n",
       "    </tr>\n",
       "    <tr>\n",
       "      <th>2</th>\n",
       "      <td>65561</td>\n",
       "      <td>http://www.adab.com/modules.php?name=Sh3er&amp;doW...</td>\n",
       "      <td>فصحى</td>\n",
       "      <td>علي مقلتيك ارتشفت النجوم وعانقت امالي الايبة ...</td>\n",
       "      <td>هوى واحد !</td>\n",
       "      <td>العراق</td>\n",
       "      <td>2</td>\n",
       "      <td>http://www.adab.com/modules.php?name=Sh3er&amp;doW...</td>\n",
       "      <td>بدر شاكر السياب</td>\n",
       "    </tr>\n",
       "    <tr>\n",
       "      <th>3</th>\n",
       "      <td>65554</td>\n",
       "      <td>http://www.adab.com/modules.php?name=Sh3er&amp;doW...</td>\n",
       "      <td>فصحى</td>\n",
       "      <td>اساطير من حشرجات الزمان نسيج اليد البالية رواه...</td>\n",
       "      <td>أساطير</td>\n",
       "      <td>العراق</td>\n",
       "      <td>2</td>\n",
       "      <td>http://www.adab.com/modules.php?name=Sh3er&amp;doW...</td>\n",
       "      <td>بدر شاكر السياب</td>\n",
       "    </tr>\n",
       "    <tr>\n",
       "      <th>4</th>\n",
       "      <td>65550</td>\n",
       "      <td>http://www.adab.com/modules.php?name=Sh3er&amp;doW...</td>\n",
       "      <td>فصحى</td>\n",
       "      <td>والتف حولك ساعداي ومال جيدك في اشتهاء كالزهرة ...</td>\n",
       "      <td>اللقاء الأخير</td>\n",
       "      <td>العراق</td>\n",
       "      <td>2</td>\n",
       "      <td>http://www.adab.com/modules.php?name=Sh3er&amp;doW...</td>\n",
       "      <td>بدر شاكر السياب</td>\n",
       "    </tr>\n",
       "  </tbody>\n",
       "</table>\n",
       "</div>"
      ],
      "text/plain": [
       "   poem_id                                          poem_link poem_style  \\\n",
       "0       21  http://www.adab.com/modules.php?name=Sh3er&doW...       فصحى   \n",
       "1    65546  http://www.adab.com/modules.php?name=Sh3er&doW...       فصحى   \n",
       "2    65561  http://www.adab.com/modules.php?name=Sh3er&doW...       فصحى   \n",
       "3    65554  http://www.adab.com/modules.php?name=Sh3er&doW...       فصحى   \n",
       "4    65550  http://www.adab.com/modules.php?name=Sh3er&doW...       فصحى   \n",
       "\n",
       "                                           poem_text      poem_title poet_cat  \\\n",
       "0  عيناك غابتا نخيل ساعة السحر او شرفتان راح يناي...   أنشودة المطر    العراق   \n",
       "1   انا لا ازال و في يدي قدحي ياليل اين تفرق الشر...  أقداح و أحلام    العراق   \n",
       "2   علي مقلتيك ارتشفت النجوم وعانقت امالي الايبة ...     هوى واحد !    العراق   \n",
       "3  اساطير من حشرجات الزمان نسيج اليد البالية رواه...         أساطير    العراق   \n",
       "4  والتف حولك ساعداي ومال جيدك في اشتهاء كالزهرة ...  اللقاء الأخير    العراق   \n",
       "\n",
       "   poet_id                                          poet_link        poet_name  \n",
       "0        2  http://www.adab.com/modules.php?name=Sh3er&doW...  بدر شاكر السياب  \n",
       "1        2  http://www.adab.com/modules.php?name=Sh3er&doW...  بدر شاكر السياب  \n",
       "2        2  http://www.adab.com/modules.php?name=Sh3er&doW...  بدر شاكر السياب  \n",
       "3        2  http://www.adab.com/modules.php?name=Sh3er&doW...  بدر شاكر السياب  \n",
       "4        2  http://www.adab.com/modules.php?name=Sh3er&doW...  بدر شاكر السياب  "
      ]
     },
     "execution_count": 4,
     "metadata": {},
     "output_type": "execute_result"
    }
   ],
   "source": [
    "df1.head()"
   ]
  },
  {
   "cell_type": "code",
   "execution_count": 7,
   "id": "ce246fa9",
   "metadata": {},
   "outputs": [
    {
     "data": {
      "text/plain": [
       "(1831770, 8)"
      ]
     },
     "execution_count": 7,
     "metadata": {},
     "output_type": "execute_result"
    }
   ],
   "source": [
    "df2.shape"
   ]
  },
  {
   "cell_type": "markdown",
   "id": "792d27c5",
   "metadata": {},
   "source": [
    "## Preprocessing"
   ]
  },
  {
   "cell_type": "code",
   "execution_count": 6,
   "id": "742ed99a",
   "metadata": {},
   "outputs": [],
   "source": [
    "arabic_diacritics = re.compile(\"\"\" ّ    | # Tashdid\n",
    "                             َ    | # Fatha\n",
    "                             ً    | # Tanwin Fath\n",
    "                             ُ    | # Damma\n",
    "                             ٌ    | # Tanwin Damm\n",
    "                             ِ    | # Kasra\n",
    "                             ٍ    | # Tanwin Kasr\n",
    "                             ْ    | # Sukun\n",
    "                             ـ     # Tatwil/Kashida\n",
    "                         \"\"\", re.VERBOSE)\n",
    "\n",
    "def remove_diacritics(text):\n",
    "    text = re.sub(arabic_diacritics, '', str(text))\n",
    "    return text\n",
    "\n",
    "clean_poems = df1['poem_text']\n",
    "clean_apcd = df2['البيت'].apply(remove_diacritics)"
   ]
  },
  {
   "cell_type": "markdown",
   "id": "73f721bf",
   "metadata": {},
   "source": [
    "## Export"
   ]
  },
  {
   "cell_type": "code",
   "execution_count": 9,
   "id": "511cae1c",
   "metadata": {},
   "outputs": [],
   "source": [
    "clean_poems.to_csv('all_poems_clean.csv', index=False)\n",
    "clean_apcd.to_csv('apcd_clean.csv', index=False)"
   ]
  },
  {
   "cell_type": "markdown",
   "id": "06e65798",
   "metadata": {},
   "source": [
    "<h3 style=\"color: red;\">Note</h3>\n",
    "\n",
    "    Datasets were not merged because APCD dataset is too large, and should probably include the first dataset already."
   ]
  }
 ],
 "metadata": {
  "kernelspec": {
   "display_name": "Python 3 (ipykernel)",
   "language": "python",
   "name": "python3"
  },
  "language_info": {
   "codemirror_mode": {
    "name": "ipython",
    "version": 3
   },
   "file_extension": ".py",
   "mimetype": "text/x-python",
   "name": "python",
   "nbconvert_exporter": "python",
   "pygments_lexer": "ipython3",
   "version": "3.11.9"
  }
 },
 "nbformat": 4,
 "nbformat_minor": 5
}

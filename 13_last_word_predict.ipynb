{
 "cells": [
  {
   "cell_type": "code",
   "execution_count": 2,
   "id": "09a3a3e9",
   "metadata": {},
   "outputs": [
    {
     "data": {
      "text/plain": [
       "<gensim.models.word2vec.Word2Vec at 0x7f2f284dca50>"
      ]
     },
     "execution_count": 2,
     "metadata": {},
     "output_type": "execute_result"
    }
   ],
   "source": [
    "import gensim\n",
    "\n",
    "word_embedder = gensim.models.Word2Vec.load(\"models/bert_word2vec_model.model\")\n",
    "word_embedder"
   ]
  },
  {
   "cell_type": "code",
   "execution_count": 17,
   "id": "97ee8aa4",
   "metadata": {},
   "outputs": [
    {
     "data": {
      "text/plain": [
       "'يقطر'"
      ]
     },
     "execution_count": 17,
     "metadata": {},
     "output_type": "execute_result"
    }
   ],
   "source": [
    "def replace_last_word(verse, kafiya):\n",
    "    most_similar = word_embedder.wv.most_similar(positive=original.split()[-1], topn=100)\n",
    "    possibilities = list(list(zip(*most_similar))[0])\n",
    "    return next((s for s in possibilities if s.endswith(kafiya)), None)\n",
    "\n",
    "original = 'وسريت في دجنة الليل ساهيا ** وجفوني كأنها شلال يسيل'\n",
    "kafiya = 'ر'\n",
    "\n",
    "replace_last_word(original, kafiya)"
   ]
  }
 ],
 "metadata": {
  "kernelspec": {
   "display_name": "Python 3 (ipykernel)",
   "language": "python",
   "name": "python3"
  },
  "language_info": {
   "codemirror_mode": {
    "name": "ipython",
    "version": 3
   },
   "file_extension": ".py",
   "mimetype": "text/x-python",
   "name": "python",
   "nbconvert_exporter": "python",
   "pygments_lexer": "ipython3",
   "version": "3.11.9"
  }
 },
 "nbformat": 4,
 "nbformat_minor": 5
}

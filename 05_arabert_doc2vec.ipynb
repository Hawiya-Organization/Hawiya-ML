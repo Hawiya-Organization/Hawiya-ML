{
 "cells": [
  {
   "cell_type": "code",
   "execution_count": 1,
   "id": "441940a8",
   "metadata": {},
   "outputs": [],
   "source": [
    "import pandas as pd\n",
    "import numpy as np\n",
    "import matplotlib.pyplot as plt\n",
    "import seaborn as sns\n",
    "\n",
    "from itertools import islice\n",
    "import arabicstopwords.arabicstopwords as stp\n",
    "\n",
    "import pickle as pkl\n",
    "\n",
    "import sentencepiece as sp\n",
    "\n",
    "import tkseem as tk\n",
    "import gensim"
   ]
  },
  {
   "cell_type": "code",
   "execution_count": 2,
   "id": "9decab74",
   "metadata": {
    "scrolled": true
   },
   "outputs": [
    {
     "data": {
      "text/html": [
       "<div>\n",
       "<style scoped>\n",
       "    .dataframe tbody tr th:only-of-type {\n",
       "        vertical-align: middle;\n",
       "    }\n",
       "\n",
       "    .dataframe tbody tr th {\n",
       "        vertical-align: top;\n",
       "    }\n",
       "\n",
       "    .dataframe thead th {\n",
       "        text-align: right;\n",
       "    }\n",
       "</style>\n",
       "<table border=\"1\" class=\"dataframe\">\n",
       "  <thead>\n",
       "    <tr style=\"text-align: right;\">\n",
       "      <th></th>\n",
       "      <th>poem_text</th>\n",
       "      <th>bert_t</th>\n",
       "    </tr>\n",
       "  </thead>\n",
       "  <tbody>\n",
       "    <tr>\n",
       "      <th>0</th>\n",
       "      <td>خليلي لا تستعجلا أن تزودا    وأن تجمعا شملي وت...</td>\n",
       "      <td>['خليل', 'لا', 'تستعجل', 'أن', 'تزود', 'أن', '...</td>\n",
       "    </tr>\n",
       "    <tr>\n",
       "      <th>1</th>\n",
       "      <td>فما لبث يوما بسابق مغنم    ولا سرعتي يوما بساب...</td>\n",
       "      <td>['ما', 'لبث', 'يوم', 'سابق', 'مغنم', 'لا', 'سر...</td>\n",
       "    </tr>\n",
       "    <tr>\n",
       "      <th>2</th>\n",
       "      <td>وإن تنظراني اليوم أقض لبانة    وتستوجبا منا عل...</td>\n",
       "      <td>['إن', 'تنظراني', 'يوم', 'أقض', 'بان', 'تستوجب...</td>\n",
       "    </tr>\n",
       "    <tr>\n",
       "      <th>3</th>\n",
       "      <td>لعمرك ما نفس بجد رشيدة    تؤامرني سرا لأصرم مرثدا</td>\n",
       "      <td>['عمر', 'ما', 'نفس', 'جد', 'رشيد', 'تؤامرني', ...</td>\n",
       "    </tr>\n",
       "    <tr>\n",
       "      <th>4</th>\n",
       "      <td>وإن ظهرت منه قوارص جمة    وأفرع في لومي مرارا ...</td>\n",
       "      <td>['إن', 'ظهر', 'من', 'قوارص', 'جم', 'أفرع', 'في...</td>\n",
       "    </tr>\n",
       "  </tbody>\n",
       "</table>\n",
       "</div>"
      ],
      "text/plain": [
       "                                           poem_text  \\\n",
       "0  خليلي لا تستعجلا أن تزودا    وأن تجمعا شملي وت...   \n",
       "1  فما لبث يوما بسابق مغنم    ولا سرعتي يوما بساب...   \n",
       "2  وإن تنظراني اليوم أقض لبانة    وتستوجبا منا عل...   \n",
       "3  لعمرك ما نفس بجد رشيدة    تؤامرني سرا لأصرم مرثدا   \n",
       "4  وإن ظهرت منه قوارص جمة    وأفرع في لومي مرارا ...   \n",
       "\n",
       "                                              bert_t  \n",
       "0  ['خليل', 'لا', 'تستعجل', 'أن', 'تزود', 'أن', '...  \n",
       "1  ['ما', 'لبث', 'يوم', 'سابق', 'مغنم', 'لا', 'سر...  \n",
       "2  ['إن', 'تنظراني', 'يوم', 'أقض', 'بان', 'تستوجب...  \n",
       "3  ['عمر', 'ما', 'نفس', 'جد', 'رشيد', 'تؤامرني', ...  \n",
       "4  ['إن', 'ظهر', 'من', 'قوارص', 'جم', 'أفرع', 'في...  "
      ]
     },
     "execution_count": 2,
     "metadata": {},
     "output_type": "execute_result"
    }
   ],
   "source": [
    "df = pd.read_csv('all_poems_bert_processed.csv')\n",
    "df.head()"
   ]
  },
  {
   "cell_type": "code",
   "execution_count": 3,
   "id": "6021947b",
   "metadata": {},
   "outputs": [
    {
     "name": "stderr",
     "output_type": "stream",
     "text": [
      "[2024-06-08 23:37:47,035 - farasapy_logger - WARNING]: Be careful with large lines as they may break on interactive mode. You may switch to Standalone mode for such cases.\n"
     ]
    },
    {
     "data": {
      "text/plain": [
       "'و+ لن نبالغ إذا قل +نا إن هاتف أو كمبيوتر ال+ مكتب في زمن +نا هذا ضروري'"
      ]
     },
     "execution_count": 3,
     "metadata": {},
     "output_type": "execute_result"
    }
   ],
   "source": [
    "from arabert.preprocess import ArabertPreprocessor\n",
    "\n",
    "model_name=\"bert-base-arabert\"\n",
    "arabert_prep = ArabertPreprocessor(model_name=model_name)\n",
    "\n",
    "text = \"ولن نبالغ إذا قلنا إن هاتف أو كمبيوتر المكتب في زمننا هذا ضروري\"\n",
    "arabert_prep.preprocess(text)"
   ]
  },
  {
   "cell_type": "markdown",
   "id": "c08c3086",
   "metadata": {},
   "source": [
    "## Doc2Vec"
   ]
  },
  {
   "cell_type": "code",
   "execution_count": 4,
   "id": "bc66672f",
   "metadata": {},
   "outputs": [],
   "source": [
    "from gensim.models.doc2vec import Doc2Vec, TaggedDocument\n",
    "taggedData = [TaggedDocument(words=doc, tags=[str(i)]) for doc, i in zip(df['bert_t'], df.index)]"
   ]
  },
  {
   "cell_type": "code",
   "execution_count": 15,
   "id": "6b69ffe6",
   "metadata": {},
   "outputs": [
    {
     "data": {
      "text/plain": [
       "<gensim.models.doc2vec.Doc2Vec at 0x7f2be401d550>"
      ]
     },
     "execution_count": 15,
     "metadata": {},
     "output_type": "execute_result"
    }
   ],
   "source": [
    "model = Doc2Vec(dm=1, vector_size=1024, min_count=3, epochs=35, workers=-1, window=6, dm_concat=1)\n",
    "model = Doc2Vec(dm=0, vector_size=160, min_count=3, epochs=20, workers=-1, window=5)\n",
    "model"
   ]
  },
  {
   "cell_type": "code",
   "execution_count": 16,
   "id": "1f7c7cdf",
   "metadata": {},
   "outputs": [],
   "source": [
    "model.build_vocab(taggedData)"
   ]
  },
  {
   "cell_type": "code",
   "execution_count": 17,
   "id": "6999c25b",
   "metadata": {},
   "outputs": [],
   "source": [
    "model.train(taggedData,\n",
    "            total_examples=model.corpus_count,\n",
    "            epochs=model.epochs)"
   ]
  },
  {
   "cell_type": "code",
   "execution_count": 8,
   "id": "6660122d",
   "metadata": {},
   "outputs": [],
   "source": [
    "model.save('models/doc2vec.model')"
   ]
  },
  {
   "cell_type": "code",
   "execution_count": 4,
   "id": "42668e51",
   "metadata": {},
   "outputs": [],
   "source": [
    "model = gensim.models.Doc2Vec.load('models/doc2vec.model')"
   ]
  },
  {
   "cell_type": "code",
   "execution_count": 5,
   "id": "1f15039a",
   "metadata": {},
   "outputs": [
    {
     "data": {
      "text/plain": [
       "['ودد', 'رؤي', 'ياسمين']"
      ]
     },
     "execution_count": 5,
     "metadata": {},
     "output_type": "execute_result"
    }
   ],
   "source": [
    "prompt = 'وددت رؤية الياسمين'\n",
    "\n",
    "clean_prompt = [token for token in arabert_prep.preprocess(prompt).split() if '+' not in token]\n",
    "clean_prompt"
   ]
  },
  {
   "cell_type": "code",
   "execution_count": 6,
   "id": "c0fa1dbc",
   "metadata": {},
   "outputs": [
    {
     "data": {
      "text/plain": [
       "[('271092', 0.16008226573467255),\n",
       " ('1517806', 0.1452469378709793),\n",
       " ('324089', 0.1450026035308838),\n",
       " ('1035005', 0.1427231878042221),\n",
       " ('76527', 0.13988465070724487),\n",
       " ('932733', 0.13808618485927582),\n",
       " ('1128373', 0.13752567768096924),\n",
       " ('813510', 0.13569432497024536),\n",
       " ('464554', 0.1352037936449051),\n",
       " ('1315966', 0.13504187762737274),\n",
       " ('1346107', 0.13467054069042206),\n",
       " ('1218789', 0.13412228226661682),\n",
       " ('495768', 0.1339070200920105),\n",
       " ('1214026', 0.1338507980108261),\n",
       " ('1357255', 0.1338154822587967),\n",
       " ('277008', 0.13343125581741333),\n",
       " ('121446', 0.13342969119548798),\n",
       " ('1457029', 0.13136592507362366),\n",
       " ('388475', 0.1307094395160675),\n",
       " ('143920', 0.13044124841690063),\n",
       " ('659640', 0.1303095817565918),\n",
       " ('4581', 0.13012225925922394),\n",
       " ('1573306', 0.13004279136657715),\n",
       " ('1598741', 0.12988393008708954),\n",
       " ('1019111', 0.12918564677238464),\n",
       " ('1464351', 0.12916167080402374),\n",
       " ('354586', 0.12909434735774994),\n",
       " ('510193', 0.12851795554161072),\n",
       " ('1683913', 0.12818680703639984),\n",
       " ('1684615', 0.12797550857067108),\n",
       " ('1099421', 0.12797002494335175),\n",
       " ('695221', 0.12791135907173157),\n",
       " ('1361332', 0.12768812477588654),\n",
       " ('1824264', 0.1276533603668213),\n",
       " ('4032', 0.12762130796909332),\n",
       " ('1686765', 0.12732939422130585),\n",
       " ('1430032', 0.12704941630363464),\n",
       " ('1320264', 0.1268598884344101),\n",
       " ('957837', 0.12684032320976257),\n",
       " ('506651', 0.12682323157787323),\n",
       " ('1486292', 0.12627768516540527),\n",
       " ('1527769', 0.12604784965515137),\n",
       " ('1738999', 0.12575040757656097),\n",
       " ('1309635', 0.1257421374320984),\n",
       " ('11717', 0.12562723457813263),\n",
       " ('1397979', 0.1252971738576889),\n",
       " ('546461', 0.12523385882377625),\n",
       " ('991426', 0.1247878149151802),\n",
       " ('256650', 0.1246568039059639),\n",
       " ('496500', 0.1245499700307846),\n",
       " ('1218641', 0.1244949996471405),\n",
       " ('654793', 0.1244376003742218),\n",
       " ('935344', 0.12410581856966019),\n",
       " ('923865', 0.1238945946097374),\n",
       " ('1637076', 0.12370400875806808),\n",
       " ('524786', 0.12368269264698029),\n",
       " ('1734584', 0.1236192137002945),\n",
       " ('930807', 0.12359260767698288),\n",
       " ('1712489', 0.12343182414770126),\n",
       " ('491266', 0.12333909422159195),\n",
       " ('611669', 0.12318003922700882),\n",
       " ('162784', 0.1229843720793724),\n",
       " ('1590147', 0.12278275191783905),\n",
       " ('744974', 0.12275052070617676),\n",
       " ('997370', 0.12272585183382034),\n",
       " ('300048', 0.12256704270839691),\n",
       " ('260191', 0.1223430261015892),\n",
       " ('957079', 0.12222158163785934),\n",
       " ('1512828', 0.12221735715866089),\n",
       " ('802573', 0.12201372534036636),\n",
       " ('796622', 0.12194741517305374),\n",
       " ('72506', 0.12184855341911316),\n",
       " ('479230', 0.12184061855077744),\n",
       " ('954176', 0.12182307243347168),\n",
       " ('100645', 0.1215890422463417),\n",
       " ('320040', 0.1214388757944107),\n",
       " ('1708326', 0.12126734107732773),\n",
       " ('985337', 0.12125681340694427),\n",
       " ('1742648', 0.12119228392839432),\n",
       " ('513264', 0.1211424320936203),\n",
       " ('79617', 0.1211150586605072),\n",
       " ('1532297', 0.12108581513166428),\n",
       " ('1119002', 0.12096983194351196),\n",
       " ('177502', 0.12095305323600769),\n",
       " ('796950', 0.12084668129682541),\n",
       " ('902619', 0.12080428749322891),\n",
       " ('284415', 0.120782770216465),\n",
       " ('1326785', 0.1207541823387146),\n",
       " ('1136958', 0.12072581052780151),\n",
       " ('1176207', 0.1207239031791687),\n",
       " ('1430334', 0.12069030851125717),\n",
       " ('433580', 0.12062004208564758),\n",
       " ('337605', 0.12043637037277222),\n",
       " ('1177652', 0.12040384113788605),\n",
       " ('799998', 0.12035394459962845),\n",
       " ('208997', 0.12019222974777222),\n",
       " ('146632', 0.12019188702106476),\n",
       " ('1021745', 0.120102159678936),\n",
       " ('922258', 0.12007641792297363),\n",
       " ('737299', 0.1200098916888237),\n",
       " ('849276', 0.11996960639953613),\n",
       " ('1478860', 0.11996633559465408),\n",
       " ('651593', 0.11990801244974136),\n",
       " ('759215', 0.11987225711345673),\n",
       " ('194120', 0.11986643075942993),\n",
       " ('1541291', 0.11981303244829178),\n",
       " ('1797521', 0.11977721005678177),\n",
       " ('392976', 0.11975209414958954),\n",
       " ('1457071', 0.119732566177845),\n",
       " ('1518693', 0.11961308121681213),\n",
       " ('1774128', 0.11960510909557343),\n",
       " ('1729937', 0.1195056140422821),\n",
       " ('714650', 0.1194567158818245),\n",
       " ('238499', 0.11942718178033829),\n",
       " ('721552', 0.11935990303754807),\n",
       " ('741680', 0.1193486750125885),\n",
       " ('316261', 0.11934732645750046),\n",
       " ('1197064', 0.11934707313776016),\n",
       " ('1445219', 0.11931338161230087),\n",
       " ('616944', 0.11916416883468628),\n",
       " ('1555505', 0.11913872510194778),\n",
       " ('858441', 0.11908676475286484),\n",
       " ('1411298', 0.11901853233575821),\n",
       " ('719887', 0.11893417686223984),\n",
       " ('176404', 0.11890675872564316),\n",
       " ('1589989', 0.1188383549451828),\n",
       " ('1602354', 0.11843152344226837),\n",
       " ('3306', 0.11837497353553772),\n",
       " ('1106308', 0.1183527410030365),\n",
       " ('972710', 0.11830635368824005),\n",
       " ('416666', 0.1182461753487587),\n",
       " ('1675800', 0.11824408173561096),\n",
       " ('1119729', 0.11822736263275146),\n",
       " ('1054954', 0.11813250184059143),\n",
       " ('83499', 0.11813236773014069),\n",
       " ('550614', 0.11811958253383636),\n",
       " ('1801005', 0.11788471788167953),\n",
       " ('1415438', 0.11782332509756088),\n",
       " ('704765', 0.11782286316156387),\n",
       " ('193536', 0.1178104355931282),\n",
       " ('1363789', 0.11757940798997879),\n",
       " ('320011', 0.11750837415456772),\n",
       " ('1505330', 0.11744425445795059),\n",
       " ('26750', 0.11741850525140762),\n",
       " ('1565913', 0.11739282310009003),\n",
       " ('569171', 0.11735379695892334),\n",
       " ('696124', 0.11735248565673828),\n",
       " ('1546437', 0.11724276840686798),\n",
       " ('480020', 0.1172240823507309),\n",
       " ('1613601', 0.11710239201784134),\n",
       " ('38340', 0.11706690490245819),\n",
       " ('1139124', 0.1170593649148941),\n",
       " ('1831588', 0.11700118333101273),\n",
       " ('217934', 0.1169847771525383),\n",
       " ('1147526', 0.1169695258140564),\n",
       " ('1062594', 0.11694510281085968),\n",
       " ('1099140', 0.11682307720184326),\n",
       " ('441963', 0.11682115495204926),\n",
       " ('1528254', 0.11674639582633972),\n",
       " ('730673', 0.11671534180641174),\n",
       " ('1600815', 0.11664742976427078),\n",
       " ('886632', 0.11662118136882782),\n",
       " ('847662', 0.1166115403175354),\n",
       " ('693971', 0.11654087901115417),\n",
       " ('1742133', 0.11652127653360367),\n",
       " ('445308', 0.11636418849229813),\n",
       " ('1294492', 0.11633696407079697),\n",
       " ('1029927', 0.11632438004016876),\n",
       " ('284497', 0.11628639698028564),\n",
       " ('934883', 0.11627808958292007),\n",
       " ('1020517', 0.11622300744056702),\n",
       " ('1623971', 0.11610415577888489),\n",
       " ('885965', 0.11604171991348267),\n",
       " ('211666', 0.11602221429347992),\n",
       " ('963555', 0.11592323333024979),\n",
       " ('248708', 0.11586075276136398),\n",
       " ('1063610', 0.11580284684896469),\n",
       " ('147420', 0.11571642756462097),\n",
       " ('1338897', 0.11571544408798218),\n",
       " ('1394474', 0.11570517718791962),\n",
       " ('695189', 0.11564720422029495),\n",
       " ('349842', 0.11556003987789154),\n",
       " ('258119', 0.11551962792873383),\n",
       " ('212581', 0.11537402123212814),\n",
       " ('508018', 0.11531271040439606),\n",
       " ('1362323', 0.11529797315597534),\n",
       " ('1463135', 0.11529175192117691),\n",
       " ('44796', 0.11522001773118973),\n",
       " ('60697', 0.11517972499132156),\n",
       " ('872053', 0.1151469349861145),\n",
       " ('1227752', 0.11507954448461533),\n",
       " ('1484708', 0.1150725781917572),\n",
       " ('396178', 0.11497393250465393),\n",
       " ('1621392', 0.11495453119277954),\n",
       " ('1640163', 0.11494459956884384),\n",
       " ('676096', 0.11489174515008926),\n",
       " ('1495660', 0.11486700177192688),\n",
       " ('1308463', 0.11480879038572311),\n",
       " ('642694', 0.11476663500070572),\n",
       " ('859117', 0.11475253105163574),\n",
       " ('1735788', 0.11473876982927322),\n",
       " ('1684992', 0.11473459005355835),\n",
       " ('1499476', 0.11468090116977692),\n",
       " ('682611', 0.11467229574918747),\n",
       " ('1364211', 0.11462003737688065),\n",
       " ('1474211', 0.11459176242351532),\n",
       " ('1516601', 0.11456597596406937),\n",
       " ('1083429', 0.1145402118563652),\n",
       " ('1326432', 0.11452440172433853),\n",
       " ('1286955', 0.11437997967004776),\n",
       " ('1309393', 0.11437667161226273),\n",
       " ('422508', 0.11437376588582993),\n",
       " ('568883', 0.11435230821371078),\n",
       " ('972123', 0.11434920132160187),\n",
       " ('12574', 0.11428064107894897),\n",
       " ('298428', 0.11427851766347885),\n",
       " ('1728529', 0.11427836120128632),\n",
       " ('1830195', 0.1141684353351593),\n",
       " ('96534', 0.11415602266788483),\n",
       " ('884784', 0.11414507031440735),\n",
       " ('1409504', 0.11407800763845444),\n",
       " ('1359', 0.11406756937503815),\n",
       " ('673393', 0.1140575036406517),\n",
       " ('730751', 0.11402247101068497),\n",
       " ('410283', 0.11393477022647858),\n",
       " ('1089008', 0.11393122375011444),\n",
       " ('732236', 0.11390221863985062),\n",
       " ('1540369', 0.11388031393289566),\n",
       " ('1570050', 0.11384685337543488),\n",
       " ('743195', 0.11382444202899933),\n",
       " ('116473', 0.1138211190700531),\n",
       " ('212089', 0.11381068825721741),\n",
       " ('1769550', 0.11378072202205658),\n",
       " ('518274', 0.11370355635881424),\n",
       " ('593715', 0.1136743351817131),\n",
       " ('1578415', 0.11362247914075851),\n",
       " ('693562', 0.11355721205472946),\n",
       " ('92015', 0.11354739964008331),\n",
       " ('789695', 0.11349853128194809),\n",
       " ('255962', 0.11349627375602722),\n",
       " ('402152', 0.11345178633928299),\n",
       " ('579910', 0.11344938725233078),\n",
       " ('541261', 0.11343663930892944),\n",
       " ('592825', 0.11342991888523102),\n",
       " ('1265114', 0.1134149432182312),\n",
       " ('927957', 0.11337342113256454),\n",
       " ('1049566', 0.11335175484418869),\n",
       " ('1439810', 0.11332447826862335),\n",
       " ('975258', 0.11330766975879669),\n",
       " ('266591', 0.11328266561031342),\n",
       " ('947203', 0.11327425390481949),\n",
       " ('1651278', 0.11324606090784073),\n",
       " ('789399', 0.11324509978294373),\n",
       " ('580629', 0.11322088539600372),\n",
       " ('1508758', 0.11319483816623688),\n",
       " ('227273', 0.11315347999334335),\n",
       " ('919528', 0.113150455057621),\n",
       " ('1776613', 0.11315042525529861),\n",
       " ('1214128', 0.11312539875507355),\n",
       " ('1085638', 0.11298973113298416),\n",
       " ('1520232', 0.11298879235982895),\n",
       " ('361757', 0.1129566878080368),\n",
       " ('1716927', 0.1129428967833519),\n",
       " ('516145', 0.1129283681511879),\n",
       " ('112025', 0.11289383471012115),\n",
       " ('827891', 0.11287238448858261),\n",
       " ('733874', 0.1128397285938263),\n",
       " ('1303533', 0.11277128756046295),\n",
       " ('1438440', 0.11274822056293488),\n",
       " ('1104075', 0.11274808645248413),\n",
       " ('81276', 0.11273307353258133),\n",
       " ('411458', 0.11270802468061447),\n",
       " ('515612', 0.11270138621330261),\n",
       " ('1537450', 0.1126844584941864),\n",
       " ('1754502', 0.11267595738172531),\n",
       " ('607025', 0.11267094314098358),\n",
       " ('803925', 0.11259833723306656),\n",
       " ('760178', 0.11257494986057281),\n",
       " ('667358', 0.11254596710205078),\n",
       " ('503010', 0.11254432797431946),\n",
       " ('1520354', 0.11253578960895538),\n",
       " ('1509099', 0.11251441389322281),\n",
       " ('571496', 0.1125100776553154),\n",
       " ('217080', 0.11250419914722443),\n",
       " ('1420382', 0.11248768866062164),\n",
       " ('883357', 0.11247140169143677),\n",
       " ('424618', 0.11246838420629501),\n",
       " ('1371218', 0.11242950707674026),\n",
       " ('667963', 0.11241723597049713),\n",
       " ('1650387', 0.11238335072994232),\n",
       " ('814707', 0.1123475581407547),\n",
       " ('1319282', 0.11233565211296082),\n",
       " ('554971', 0.11232802271842957),\n",
       " ('630963', 0.11229285597801208),\n",
       " ('710026', 0.11220765858888626),\n",
       " ('1462828', 0.11219792068004608),\n",
       " ('1277370', 0.1121918112039566),\n",
       " ('750859', 0.11218327283859253),\n",
       " ('1051989', 0.1121673583984375),\n",
       " ('46901', 0.11216011643409729),\n",
       " ('1133875', 0.11207465827465057),\n",
       " ('990464', 0.11206459254026413),\n",
       " ('1775638', 0.11205686628818512),\n",
       " ('697908', 0.11205289512872696),\n",
       " ('1105326', 0.11192475259304047),\n",
       " ('819650', 0.11191949248313904),\n",
       " ('935677', 0.11186309903860092),\n",
       " ('19675', 0.11183876544237137),\n",
       " ('314237', 0.11183178424835205),\n",
       " ('532262', 0.11182869225740433),\n",
       " ('910010', 0.11180547624826431),\n",
       " ('1662262', 0.11179182678461075),\n",
       " ('804985', 0.1117892935872078),\n",
       " ('1827156', 0.1117432489991188),\n",
       " ('1386649', 0.11173034459352493),\n",
       " ('1645578', 0.11164642870426178),\n",
       " ('408035', 0.11160613596439362),\n",
       " ('1106173', 0.11160445213317871),\n",
       " ('312444', 0.11157747358083725),\n",
       " ('1370520', 0.11157570779323578),\n",
       " ('1540544', 0.11157090216875076),\n",
       " ('186826', 0.11154027283191681),\n",
       " ('1827926', 0.11150534451007843),\n",
       " ('736757', 0.111492820084095),\n",
       " ('282721', 0.11145708709955215),\n",
       " ('1208799', 0.11143513768911362),\n",
       " ('350073', 0.1114281490445137),\n",
       " ('1148551', 0.11140581965446472),\n",
       " ('1216654', 0.111331507563591),\n",
       " ('1171118', 0.1113228127360344),\n",
       " ('1350786', 0.11130426079034805),\n",
       " ('1557478', 0.11129768937826157),\n",
       " ('703108', 0.11127202212810516),\n",
       " ('689677', 0.11116114258766174),\n",
       " ('1813056', 0.11115553975105286),\n",
       " ('455880', 0.11111976206302643),\n",
       " ('1282063', 0.1111140176653862),\n",
       " ('1436226', 0.11109268665313721),\n",
       " ('466594', 0.11102245002985),\n",
       " ('347276', 0.11098957806825638),\n",
       " ('441183', 0.11096281558275223),\n",
       " ('1686243', 0.11094511300325394),\n",
       " ('470914', 0.11089792847633362),\n",
       " ('1443134', 0.11084672808647156),\n",
       " ('595479', 0.11084086447954178),\n",
       " ('1639812', 0.11083537340164185),\n",
       " ('463863', 0.11073510348796844),\n",
       " ('118278', 0.1107124462723732),\n",
       " ('890488', 0.11068082600831985),\n",
       " ('302106', 0.1106526330113411),\n",
       " ('640574', 0.11064665764570236),\n",
       " ('1347118', 0.1106228306889534),\n",
       " ('642997', 0.11058016121387482),\n",
       " ('80305', 0.110578753054142),\n",
       " ('1589187', 0.11056333035230637),\n",
       " ('121435', 0.11054348200559616),\n",
       " ('639353', 0.11048394441604614),\n",
       " ('516670', 0.11048299819231033),\n",
       " ('1669059', 0.11044507473707199),\n",
       " ('145002', 0.11042499542236328),\n",
       " ('1643379', 0.11041568219661713),\n",
       " ('1482927', 0.11041374504566193),\n",
       " ('330599', 0.11040951311588287),\n",
       " ('1013699', 0.11040838807821274),\n",
       " ('1229244', 0.11039520800113678),\n",
       " ('1598915', 0.11033152788877487),\n",
       " ('109623', 0.11029928177595139),\n",
       " ('40370', 0.11026056855916977),\n",
       " ('780521', 0.11025119572877884),\n",
       " ('286081', 0.11019869148731232),\n",
       " ('1418220', 0.11017380654811859),\n",
       " ('490630', 0.11012290418148041),\n",
       " ('1205514', 0.11009839922189713),\n",
       " ('1734608', 0.11008164286613464),\n",
       " ('640180', 0.11004725843667984),\n",
       " ('147412', 0.1100456565618515),\n",
       " ('1063883', 0.11001455783843994),\n",
       " ('56447', 0.11000487208366394),\n",
       " ('361132', 0.10998896509408951),\n",
       " ('923901', 0.10998415946960449),\n",
       " ('372075', 0.10998083651065826),\n",
       " ('1775812', 0.1099662333726883),\n",
       " ('1449126', 0.10994938015937805),\n",
       " ('1453518', 0.10994546115398407),\n",
       " ('1529112', 0.10992151498794556),\n",
       " ('802148', 0.10991226136684418),\n",
       " ('1209232', 0.10989610850811005),\n",
       " ('1315645', 0.10987044125795364),\n",
       " ('1613738', 0.10986854135990143),\n",
       " ('19422', 0.10986600071191788),\n",
       " ('1743504', 0.10984734445810318),\n",
       " ('158335', 0.10984725505113602),\n",
       " ('1220622', 0.10983452945947647),\n",
       " ('579727', 0.1098145917057991),\n",
       " ('364658', 0.10981058329343796),\n",
       " ('1761901', 0.10979752987623215),\n",
       " ('373081', 0.10978315770626068),\n",
       " ('405392', 0.10976556688547134),\n",
       " ('1759989', 0.10973703116178513),\n",
       " ('1458824', 0.10973472893238068),\n",
       " ('1322821', 0.10972723364830017),\n",
       " ('1043463', 0.10969791561365128),\n",
       " ('464209', 0.10967651754617691),\n",
       " ('596740', 0.10966115444898605),\n",
       " ('866048', 0.10965173691511154),\n",
       " ('1676608', 0.10961421579122543),\n",
       " ('770648', 0.10957469046115875),\n",
       " ('1708055', 0.10950498282909393),\n",
       " ('1262189', 0.10948337614536285),\n",
       " ('314006', 0.1094721183180809),\n",
       " ('1558797', 0.1094590350985527),\n",
       " ('492072', 0.109447181224823),\n",
       " ('1746522', 0.10943025350570679),\n",
       " ('627057', 0.10942601412534714),\n",
       " ('1041809', 0.10941562801599503),\n",
       " ('1678988', 0.10938812792301178),\n",
       " ('344173', 0.10938116163015366),\n",
       " ('186880', 0.10937917232513428),\n",
       " ('101047', 0.10937900841236115),\n",
       " ('767179', 0.10934895277023315),\n",
       " ('448573', 0.1093410924077034),\n",
       " ('1408532', 0.10934040695428848),\n",
       " ('794014', 0.1093311533331871),\n",
       " ('146133', 0.1093192771077156),\n",
       " ('1076856', 0.10930608958005905),\n",
       " ('404181', 0.10926507413387299),\n",
       " ('172291', 0.10926380008459091),\n",
       " ('1416548', 0.1092505156993866),\n",
       " ('727809', 0.10924678295850754),\n",
       " ('1299393', 0.10918664187192917),\n",
       " ('1131088', 0.10916607081890106),\n",
       " ('640332', 0.10915016382932663),\n",
       " ('460794', 0.1091388538479805),\n",
       " ('261407', 0.10906744003295898),\n",
       " ('1691873', 0.10904479771852493),\n",
       " ('1099296', 0.10901602357625961),\n",
       " ('1562833', 0.10900118947029114),\n",
       " ('1721632', 0.10898822546005249),\n",
       " ('522438', 0.10897236317396164),\n",
       " ('1811885', 0.1089603453874588),\n",
       " ('1475950', 0.10895445942878723),\n",
       " ('403995', 0.1089288741350174),\n",
       " ('494649', 0.1089208796620369),\n",
       " ('1614731', 0.10891526937484741),\n",
       " ('874970', 0.10891325026750565),\n",
       " ('471224', 0.1088499054312706),\n",
       " ('1379402', 0.10884854197502136),\n",
       " ('825567', 0.10883871465921402),\n",
       " ('1547184', 0.10882718861103058),\n",
       " ('1404618', 0.10882444679737091),\n",
       " ('1593409', 0.10881290584802628),\n",
       " ('1160936', 0.10880797356367111),\n",
       " ('1260934', 0.10876204818487167),\n",
       " ('1697883', 0.10875286161899567),\n",
       " ('247317', 0.10875104367733002),\n",
       " ('254961', 0.10875063389539719),\n",
       " ('907837', 0.10874830931425095),\n",
       " ('1099659', 0.10872844606637955),\n",
       " ('510338', 0.10872724652290344),\n",
       " ('139845', 0.10871422290802002),\n",
       " ('1658294', 0.10870421677827835),\n",
       " ('217446', 0.10867983102798462),\n",
       " ('1236775', 0.10867895931005478),\n",
       " ('484087', 0.10866590589284897),\n",
       " ('1447475', 0.10863281041383743),\n",
       " ('1569431', 0.10858084261417389),\n",
       " ('1597109', 0.10856601595878601),\n",
       " ('1541934', 0.1085222139954567),\n",
       " ('1092271', 0.10852010548114777),\n",
       " ('761069', 0.10851029306650162),\n",
       " ('1687167', 0.10850130766630173),\n",
       " ('1232584', 0.10848941653966904),\n",
       " ('1303297', 0.10847748070955276),\n",
       " ('1231673', 0.10846971720457077),\n",
       " ('817527', 0.1084558293223381),\n",
       " ('1310687', 0.1084478348493576),\n",
       " ('1729899', 0.1084294244647026),\n",
       " ('1276160', 0.10841001570224762),\n",
       " ('1511212', 0.1083824634552002),\n",
       " ('154005', 0.10837175697088242),\n",
       " ('181311', 0.10833796113729477),\n",
       " ('538663', 0.10831502079963684),\n",
       " ('1741067', 0.10830522328615189),\n",
       " ('1762103', 0.1082867830991745),\n",
       " ('1097563', 0.10828496515750885),\n",
       " ('978489', 0.10827761143445969),\n",
       " ('290614', 0.10826680809259415),\n",
       " ('1237479', 0.10824908316135406),\n",
       " ('1790223', 0.108244389295578),\n",
       " ('279429', 0.10823487490415573),\n",
       " ('45250', 0.10823476314544678),\n",
       " ('1042734', 0.10820940136909485),\n",
       " ('726402', 0.108193039894104),\n",
       " ('108772', 0.10815717279911041),\n",
       " ('371676', 0.10810887813568115),\n",
       " ('772061', 0.1080951988697052),\n",
       " ('843776', 0.10809192806482315),\n",
       " ('1065004', 0.10809095948934555),\n",
       " ('1110685', 0.1080576553940773),\n",
       " ('440097', 0.10803927481174469)]"
      ]
     },
     "execution_count": 6,
     "metadata": {},
     "output_type": "execute_result"
    }
   ],
   "source": [
    "inferred_vector = model.infer_vector(clean_prompt)\n",
    "sims = model.dv.most_similar([inferred_vector], topn=500)\n",
    "sims"
   ]
  },
  {
   "cell_type": "code",
   "execution_count": 11,
   "id": "f262fbe9",
   "metadata": {},
   "outputs": [
    {
     "data": {
      "text/plain": [
       "[<matplotlib.lines.Line2D at 0x7f1c1f743050>]"
      ]
     },
     "execution_count": 11,
     "metadata": {},
     "output_type": "execute_result"
    },
    {
     "data": {
      "image/png": "[encoded data removed]",
      "text/plain": [
       "<Figure size 640x480 with 1 Axes>"
      ]
     },
     "metadata": {},
     "output_type": "display_data"
    }
   ],
   "source": [
    "array = np.array(sims)\n",
    "df_ggl = pd.DataFrame(array, columns=['id', 'similarity'])\n",
    "plt.plot(df_ggl.index, df_ggl['similarity'].astype(float))"
   ]
  },
  {
   "cell_type": "code",
   "execution_count": 12,
   "id": "a11b7a6c",
   "metadata": {},
   "outputs": [
    {
     "data": {
      "text/plain": [
       "poem_text     وصحب إن غروا بملام مثلي    فرب أصاحب بالإثم باؤا\n",
       "bert_t       ['صحب', 'إن', 'غرو', 'ملام', 'مثل', 'رب', 'أصا...\n",
       "Name: 449264, dtype: object"
      ]
     },
     "execution_count": 12,
     "metadata": {},
     "output_type": "execute_result"
    }
   ],
   "source": [
    "df.loc[int(sims[0][0])]"
   ]
  },
  {
   "cell_type": "code",
   "execution_count": 7,
   "id": "b95cd693",
   "metadata": {},
   "outputs": [
    {
     "name": "stdout",
     "output_type": "stream",
     "text": [
      "فوق ابنك الموموق منك ولا تكن    بعشرته سمحا فيهلكه السمح\n",
      "لا تحرم الشفاعة    يا معدن النفاعه\n",
      "فبباب فضلك قد وقفت ولم أزل    بعظيم قدرك في الورى أتضرع\n"
     ]
    }
   ],
   "source": [
    "prompt = 'ليت الشباب يعود'\n",
    "\n",
    "clean_prompt = [token for token in arabert_prep.preprocess(prompt).split() if '+' not in token]\n",
    "inferred_vector = model.infer_vector(clean_prompt)\n",
    "sims = model.dv.most_similar([inferred_vector], topn=3)\n",
    "print(df.loc[int(sims[0][0]), 'poem_text'])\n",
    "print(df.loc[int(sims[1][0]), 'poem_text'])\n",
    "print(df.loc[int(sims[2][0]), 'poem_text'])"
   ]
  },
  {
   "cell_type": "code",
   "execution_count": 10,
   "id": "cee4e8bf",
   "metadata": {},
   "outputs": [],
   "source": [
    "prompts = [\n",
    "    'الحماسة والفخر',\n",
    "    'روعة البحر',\n",
    "    'الأمل والتفاؤل',\n",
    "    'معاني الحياة والموت',\n",
    "    'وجدانية الحب العذري',\n",
    "    'التأمل في مصائر الإنسان',\n",
    "    'حياة العرب قبل الإسلام',\n",
    "    'العدمية والبحث عن الذات',\n",
    "    'الفضيلة والأخلاق',\n",
    "    'السلام والتسامح',\n",
    "    'العدالة والمساواة',\n",
    "    'كيف تخاف الفقر والله رازقا',\n",
    "    'التشرد والهجرة والبحث عن الوطن',\n",
    "    'عيناك نازلتاالقلوب',\n",
    "    ' كتب الدمع بخدي عهده',\n",
    "    'لا يحمل الحقد من تعلو به الرتب',\n",
    "    'أتعرف رسم الدار',\n",
    "    'الأصدقاء مثل النجوم',\n",
    "    ' أحلك الأوقات',\n",
    "    'شعر بدوي',\n",
    "    ' الثقة بالله',\n",
    "    ' ذكريات الطفولة',\n",
    "    'المرء يأمل أن يعيش',\n",
    "    'الوطن والانتماء',\n",
    "    ' الحرية والنضال',\n",
    "    'قم للمعلم وفه التبجيلا',\n",
    "    'وعذرتهم وعرفت ذنبي',\n",
    "    'إليك يا أمي',\n",
    "    'فأصبح بعد الحرب',\n",
    "    'إذا حكم القضاء',\n",
    "    'ليت الأحزان',\n",
    "    'فرحي مثل طائر',\n",
    "    'نار الغضب',\n",
    "    'صوت المطر ينعش روحي',\n",
    "    'تنير ليالي',\n",
    "    'إِن الثعالب بالضحى',\n",
    "    'صبور على مر الحوادث',\n",
    "    'البحث عن الحقيقة رحلة لا نهاية لها',\n",
    "    'مرآة الروح',\n",
    "    'كلما نسينا دروس الماضي',\n",
    "    'دع الأيام تفعل ما تشاء',\n",
    "    'وقفت على الديار',\n",
    "    'رمال الصحراء',\n",
    "    'شموخ',\n",
    "    'تفاؤل',\n",
    "    'نصر',\n",
    "    'حمامة',\n",
    "    'ساذج'\n",
    "]\n",
    "\n",
    "f = open(\"output_doc2vec.txt\", 'w')\n",
    "\n",
    "for prompt in prompts:\n",
    "    f.write(prompt + \"\\n\")\n",
    "    \n",
    "    clean_prompt = [token for token in arabert_prep.preprocess(prompt).split() if '+' not in token]\n",
    "    inferred_vector = model.infer_vector(clean_prompt)\n",
    "    sims = model.dv.most_similar([inferred_vector], topn=3)\n",
    "    f.write(df.loc[int(sims[0][0]), 'poem_text'] + \"\\n\")\n",
    "    f.write(df.loc[int(sims[1][0]), 'poem_text'] + \"\\n\")\n",
    "    f.write(df.loc[int(sims[2][0]), 'poem_text'] + \"\\n\")\n",
    "    \n",
    "    f.write(\"\\n\")\n",
    "f.close()"
   ]
  },
  {
   "cell_type": "code",
   "execution_count": 22,
   "id": "c17cc1ac",
   "metadata": {},
   "outputs": [
    {
     "name": "stdout",
     "output_type": "stream",
     "text": [
      "وقس على النحل خلال الشهد    \n",
      "فلم يزل مجالدا مقارعا    منكبا درء الأعادي قارعا\n",
      "في جوار لا يضام به    هذه الدنيا ويوم غده\n"
     ]
    }
   ],
   "source": [
    "prompt = 'ثلوج الجبال'\n",
    "\n",
    "clean_prompt = [token for token in arabert_prep.preprocess(prompt).split() if '+' not in token]\n",
    "inferred_vector = model.infer_vector(clean_prompt)\n",
    "sims = model.dv.most_similar([inferred_vector], topn=3)\n",
    "print(df.loc[int(sims[0][0]), 'poem_text'])\n",
    "print(df.loc[int(sims[1][0]), 'poem_text'])\n",
    "print(df.loc[int(sims[2][0]), 'poem_text'])"
   ]
  },
  {
   "cell_type": "code",
   "execution_count": 20,
   "id": "928c21ec",
   "metadata": {},
   "outputs": [
    {
     "name": "stdout",
     "output_type": "stream",
     "text": [
      "كم جلوت الشكوك تعرض في نص    وصى وكم نصرت إماما\n",
      "كلما أملت يوما صالحا    عرض المكروه لي في أملي\n",
      "تنهض خصرا لم يزل    من ردفها في ملل\n"
     ]
    }
   ],
   "source": [
    "prompt = 'المنية مفاجئة'\n",
    "\n",
    "clean_prompt = [token for token in arabert_prep.preprocess(prompt).split() if '+' not in token]\n",
    "inferred_vector = model.infer_vector(clean_prompt)\n",
    "sims = model.dv.most_similar([inferred_vector], topn=3)\n",
    "print(df.loc[int(sims[0][0]), 'poem_text'])\n",
    "print(df.loc[int(sims[1][0]), 'poem_text'])\n",
    "print(df.loc[int(sims[2][0]), 'poem_text'])"
   ]
  },
  {
   "cell_type": "code",
   "execution_count": 21,
   "id": "8f57a8be",
   "metadata": {},
   "outputs": [
    {
     "name": "stdout",
     "output_type": "stream",
     "text": [
      "لا تكن مثل سراب    ريء لم يشف غليلا\n",
      "وسلاح الخصم مشحوذ متين    \n",
      "أما لك لا ترثي لحاله مكمد    فينسخ هجر اليوم وصلك في غد\n"
     ]
    }
   ],
   "source": [
    "prompt = 'الحب'\n",
    "\n",
    "clean_prompt = [token for token in arabert_prep.preprocess(prompt).split() if '+' not in token]\n",
    "inferred_vector = model.infer_vector(clean_prompt)\n",
    "sims = model.dv.most_similar([inferred_vector], topn=3)\n",
    "print(df.loc[int(sims[0][0]), 'poem_text'])\n",
    "print(df.loc[int(sims[1][0]), 'poem_text'])\n",
    "print(df.loc[int(sims[2][0]), 'poem_text'])"
   ]
  },
  {
   "cell_type": "code",
   "execution_count": 11,
   "id": "cecb69da",
   "metadata": {},
   "outputs": [
    {
     "data": {
      "text/plain": [
       "poem_text                 وليس كذا فلا تعذل    خليلك عذل منكمش\n",
       "bert_t       ['ليس', 'كذا', 'لا', 'تعذل', 'خليل', 'عذل', 'م...\n",
       "Name: 776775, dtype: object"
      ]
     },
     "execution_count": 11,
     "metadata": {},
     "output_type": "execute_result"
    }
   ],
   "source": [
    "prompt = 'المنية مفاجئة'\n",
    "\n",
    "clean_prompt = [token for token in arabert_prep.preprocess(prompt).split() if '+' not in token]\n",
    "inferred_vector = model.infer_vector(clean_prompt)\n",
    "sims = model.dv.most_similar([inferred_vector], topn=500)\n",
    "df.loc[int(sims[0][0])]"
   ]
  },
  {
   "cell_type": "code",
   "execution_count": 12,
   "id": "c8228326",
   "metadata": {},
   "outputs": [
    {
     "data": {
      "text/plain": [
       "poem_text    كتب العشق بأني بهوى العاشق اعلم    فإليه نتراج...\n",
       "bert_t       ['كتب', 'عشق', 'أن', 'هوى', 'عاشق', 'اعلم', 'إ...\n",
       "Name: 1559085, dtype: object"
      ]
     },
     "execution_count": 12,
     "metadata": {},
     "output_type": "execute_result"
    }
   ],
   "source": [
    "prompt = 'الحب'\n",
    "\n",
    "clean_prompt = [token for token in arabert_prep.preprocess(prompt).split() if '+' not in token]\n",
    "inferred_vector = model.infer_vector(clean_prompt)\n",
    "sims = model.dv.most_similar([inferred_vector], topn=500)\n",
    "df.loc[int(sims[0][0])]"
   ]
  },
  {
   "cell_type": "code",
   "execution_count": 15,
   "id": "1ff73bad",
   "metadata": {},
   "outputs": [
    {
     "data": {
      "text/plain": [
       "poem_text          فانبرى يلقى ذيوميذ الخطاب    \n",
       "bert_t       ['انبرى', 'يلقى', 'ذيوميذ', 'خطاب']\n",
       "Name: 1404366, dtype: object"
      ]
     },
     "execution_count": 15,
     "metadata": {},
     "output_type": "execute_result"
    }
   ],
   "source": [
    "prompt = 'الثلج يتساقط'\n",
    "\n",
    "clean_prompt = [token for token in arabert_prep.preprocess(prompt).split() if '+' not in token]\n",
    "inferred_vector = model.infer_vector(clean_prompt)\n",
    "sims = model.dv.most_similar([inferred_vector], topn=500)\n",
    "df.loc[int(sims[0][0])]"
   ]
  },
  {
   "cell_type": "code",
   "execution_count": 16,
   "id": "6eaa7707",
   "metadata": {},
   "outputs": [
    {
     "data": {
      "text/plain": [
       "poem_text           ولى وللأرض على أنها    لم يحتملها قط مقدار\n",
       "bert_t       ['ولى', 'أرض', 'على', 'أن', 'لم', 'يحتمل', 'قط...\n",
       "Name: 1156146, dtype: object"
      ]
     },
     "execution_count": 16,
     "metadata": {},
     "output_type": "execute_result"
    }
   ],
   "source": [
    "prompt = 'مدينة جميلة'\n",
    "\n",
    "clean_prompt = [token for token in arabert_prep.preprocess(prompt).split() if '+' not in token]\n",
    "inferred_vector = model.infer_vector(clean_prompt)\n",
    "sims = model.dv.most_similar([inferred_vector], topn=500)\n",
    "df.loc[int(sims[0][0])]"
   ]
  }
 ],
 "metadata": {
  "kernelspec": {
   "display_name": "Python 3 (ipykernel)",
   "language": "python",
   "name": "python3"
  },
  "language_info": {
   "codemirror_mode": {
    "name": "ipython",
    "version": 3
   },
   "file_extension": ".py",
   "mimetype": "text/x-python",
   "name": "python",
   "nbconvert_exporter": "python",
   "pygments_lexer": "ipython3",
   "version": "3.11.9"
  }
 },
 "nbformat": 4,
 "nbformat_minor": 5
}
